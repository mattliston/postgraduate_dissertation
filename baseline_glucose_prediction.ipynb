{
  "nbformat": 4,
  "nbformat_minor": 0,
  "metadata": {
    "kernelspec": {
      "display_name": "Python 3",
      "language": "python",
      "name": "python3"
    },
    "language_info": {
      "codemirror_mode": {
        "name": "ipython",
        "version": 3
      },
      "file_extension": ".py",
      "mimetype": "text/x-python",
      "name": "python",
      "nbconvert_exporter": "python",
      "pygments_lexer": "ipython3",
      "version": "3.6.9"
    },
    "colab": {
      "name": "baseline_glucose_prediction.ipynb",
      "provenance": [],
      "collapsed_sections": [],
      "toc_visible": true,
      "machine_shape": "hm",
      "include_colab_link": true
    }
  },
  "cells": [
    {
      "cell_type": "markdown",
      "metadata": {
        "id": "view-in-github",
        "colab_type": "text"
      },
      "source": [
        "<a href=\"https://colab.research.google.com/github/mattliston/postgraduate_dissertation/blob/master/baseline_glucose_prediction.ipynb\" target=\"_parent\"><img src=\"https://colab.research.google.com/assets/colab-badge.svg\" alt=\"Open In Colab\"/></a>"
      ]
    },
    {
      "cell_type": "code",
      "metadata": {
        "scrolled": true,
        "id": "-0ZCNaGSX4hC",
        "colab_type": "code",
        "colab": {
          "base_uri": "https://localhost:8080/",
          "height": 339
        },
        "outputId": "9dbe2801-4fdf-4d01-c9d9-c63f51e4ed1f"
      },
      "source": [
        "!pip3 install --upgrade tensorflow-model-optimization\n",
        "\n",
        "import numpy as np\n",
        "import tensorflow as tf\n",
        "import tensorflow_model_optimization as tfmot\n",
        "import matplotlib.pyplot as plt\n",
        "import json\n",
        "import tempfile\n",
        "from google.colab import drive\n",
        "\n",
        "print(tf.__version__)\n",
        "\n",
        "drive.mount('/content/drive')\n",
        "%cd /content/drive/My Drive/CGM_prediction_data"
      ],
      "execution_count": null,
      "outputs": [
        {
          "output_type": "stream",
          "text": [
            "Collecting tensorflow-model-optimization\n",
            "\u001b[?25l  Downloading https://files.pythonhosted.org/packages/09/7e/e94aa029999ec30951e8129fa992fecbbaffda66eba97c65d5a83f8ea96d/tensorflow_model_optimization-0.3.0-py2.py3-none-any.whl (165kB)\n",
            "\u001b[K     |████████████████████████████████| 174kB 4.7MB/s \n",
            "\u001b[?25hCollecting dm-tree~=0.1.1\n",
            "\u001b[?25l  Downloading https://files.pythonhosted.org/packages/16/48/10fb721334810081b7e6eebeba0d12e12126c76993e8c243062d2f56a89f/dm_tree-0.1.5-cp36-cp36m-manylinux1_x86_64.whl (294kB)\n",
            "\u001b[K     |████████████████████████████████| 296kB 14.3MB/s \n",
            "\u001b[?25hRequirement already satisfied, skipping upgrade: numpy~=1.14 in /usr/local/lib/python3.6/dist-packages (from tensorflow-model-optimization) (1.18.5)\n",
            "Requirement already satisfied, skipping upgrade: six~=1.10 in /usr/local/lib/python3.6/dist-packages (from tensorflow-model-optimization) (1.12.0)\n",
            "Installing collected packages: dm-tree, tensorflow-model-optimization\n",
            "Successfully installed dm-tree-0.1.5 tensorflow-model-optimization-0.3.0\n",
            "2.2.0\n",
            "Go to this URL in a browser: https://accounts.google.com/o/oauth2/auth?client_id=947318989803-6bn6qk8qdgf4n4g3pfee6491hc0brc4i.apps.googleusercontent.com&redirect_uri=urn%3aietf%3awg%3aoauth%3a2.0%3aoob&response_type=code&scope=email%20https%3a%2f%2fwww.googleapis.com%2fauth%2fdocs.test%20https%3a%2f%2fwww.googleapis.com%2fauth%2fdrive%20https%3a%2f%2fwww.googleapis.com%2fauth%2fdrive.photos.readonly%20https%3a%2f%2fwww.googleapis.com%2fauth%2fpeopleapi.readonly\n",
            "\n",
            "Enter your authorization code:\n",
            "··········\n",
            "Mounted at /content/drive\n",
            "/content/drive/My Drive/CGM_prediction_data\n"
          ],
          "name": "stdout"
        }
      ]
    },
    {
      "cell_type": "markdown",
      "metadata": {
        "id": "wXQFHoyDc8ju",
        "colab_type": "text"
      },
      "source": [
        "# TPU Info"
      ]
    },
    {
      "cell_type": "code",
      "metadata": {
        "colab_type": "code",
        "id": "FpvUOuC3j27n",
        "colab": {}
      },
      "source": [
        "# Optional, faster to use GPU in this case\n",
        "\n",
        "try:\n",
        "  tpu = tf.distribute.cluster_resolver.TPUClusterResolver()  # TPU detection\n",
        "  print('Running on TPU ', tpu.cluster_spec().as_dict()['worker'])\n",
        "except ValueError:\n",
        "  raise BaseException('ERROR: Not connected to a TPU runtime; please see the previous cell in this notebook for instructions!')\n",
        "\n",
        "tf.config.experimental_connect_to_cluster(tpu)\n",
        "tf.tpu.experimental.initialize_tpu_system(tpu)\n",
        "tpu_strategy = tf.distribute.experimental.TPUStrategy(tpu)"
      ],
      "execution_count": null,
      "outputs": []
    },
    {
      "cell_type": "markdown",
      "metadata": {
        "id": "BUVBZfFrbwX-",
        "colab_type": "text"
      },
      "source": [
        "# GPU Info"
      ]
    },
    {
      "cell_type": "code",
      "metadata": {
        "id": "SaVydtb0b098",
        "colab_type": "code",
        "colab": {
          "base_uri": "https://localhost:8080/",
          "height": 372
        },
        "outputId": "dbf793ba-bbb1-4850-a18b-26dc1ebd8f71"
      },
      "source": [
        "gpu_info = !nvidia-smi\n",
        "gpu_info = '\\n'.join(gpu_info)\n",
        "if gpu_info.find('failed') >= 0:\n",
        "  print('Select the Runtime > \"Change runtime type\" menu to enable a GPU accelerator, ')\n",
        "  print('and then re-execute this cell.')\n",
        "else:\n",
        "  print(gpu_info)"
      ],
      "execution_count": null,
      "outputs": [
        {
          "output_type": "stream",
          "text": [
            "Sat Jul 11 19:42:56 2020       \n",
            "+-----------------------------------------------------------------------------+\n",
            "| NVIDIA-SMI 450.36.06    Driver Version: 418.67       CUDA Version: 10.1     |\n",
            "|-------------------------------+----------------------+----------------------+\n",
            "| GPU  Name        Persistence-M| Bus-Id        Disp.A | Volatile Uncorr. ECC |\n",
            "| Fan  Temp  Perf  Pwr:Usage/Cap|         Memory-Usage | GPU-Util  Compute M. |\n",
            "|                               |                      |               MIG M. |\n",
            "|===============================+======================+======================|\n",
            "|   0  Tesla P100-PCIE...  Off  | 00000000:00:04.0 Off |                    0 |\n",
            "| N/A   34C    P0    40W / 250W |   1353MiB / 16280MiB |      0%      Default |\n",
            "|                               |                      |                 ERR! |\n",
            "+-------------------------------+----------------------+----------------------+\n",
            "                                                                               \n",
            "+-----------------------------------------------------------------------------+\n",
            "| Processes:                                                                  |\n",
            "|  GPU   GI   CI        PID   Type   Process name                  GPU Memory |\n",
            "|        ID   ID                                                   Usage      |\n",
            "|=============================================================================|\n",
            "|  No running processes found                                                 |\n",
            "+-----------------------------------------------------------------------------+\n"
          ],
          "name": "stdout"
        }
      ]
    },
    {
      "cell_type": "markdown",
      "metadata": {
        "id": "TejR6dZoX4hQ",
        "colab_type": "text"
      },
      "source": [
        "# Data pre-processing"
      ]
    },
    {
      "cell_type": "code",
      "metadata": {
        "id": "odo3BNLqX4he",
        "colab_type": "code",
        "colab": {}
      },
      "source": [
        "def downscale(data, resolution):\n",
        "\n",
        "    # 10 min resolution.. (data.shape[0], 3, 1440) -> (data.shape[0], 10, 3, 144).. breaks one 3,1440 length trajectory into ten 3,144 length trajectories\n",
        "    # Use ~12 timesteps -> 2-5 timesteps (Use ~2 hours to predict 20-50 mins)\n",
        "\n",
        "    scaled_data = np.zeros((data.shape[0], resolution, data.shape[1], int(data.shape[2]/resolution)))\n",
        "\n",
        "    for i in range(resolution):\n",
        "        \n",
        "        scaled_data[:,i,:,:] = data[:,:,i::resolution]\n",
        "\n",
        "    return scaled_data\n",
        "\n",
        "\n",
        "def process_data(aligned_data, time_horizon, ph):\n",
        "\n",
        "    # 10 min resolution.. breaks each (3,144) trajectory into (144-ph-time_horizon,3,time_horizon) samples\n",
        "\n",
        "    data = np.zeros((aligned_data.shape[0] * aligned_data.shape[1] * (aligned_data.shape[3]-ph-time_horizon), aligned_data.shape[2], time_horizon))\n",
        "    label = np.zeros((aligned_data.shape[0] * aligned_data.shape[1] * (aligned_data.shape[3]-ph-time_horizon), ph))\n",
        "\n",
        "    count = 0\n",
        "    for i in range(aligned_data.shape[0]): # for each sample\n",
        "        for j in range(aligned_data.shape[1]): # for each 144 length trajectory\n",
        "            for k in range(aligned_data.shape[3]-ph-time_horizon): # TH length sliding window across trajectory\n",
        "                data[count] = aligned_data[i,j,:,k:k+time_horizon]\n",
        "                label[count] = aligned_data[i,j,0,k+time_horizon:k+time_horizon+ph]\n",
        "                count+=1     \n",
        "\n",
        "    return data, label\n",
        "\n",
        "\n",
        "def load_data(time_horizon, ph, resolution, batch): # int, int, int, bool\n",
        "    \n",
        "    # Load train data\n",
        "    g = np.loadtxt('glucose_readings_train.csv', delimiter=',')\n",
        "    c = np.loadtxt('meals_carbs_train.csv', delimiter=',') \n",
        "    it = np.loadtxt('insulin_therapy_train.csv', delimiter=',')\n",
        "\n",
        "    # Load test data\n",
        "    g_ = np.loadtxt('glucose_readings_test.csv', delimiter=',')\n",
        "    c_ = np.loadtxt('meals_carbs_test.csv', delimiter=',')\n",
        "    it_ = np.loadtxt('insulin_therapy_test.csv', delimiter=',')\n",
        "\n",
        "    # Time align train & test data\n",
        "    aligned_train_data = downscale(np.array([(g[i,:], c[i,:], it[i,:]) for i in range(g.shape[0])]), resolution)\n",
        "    aligned_test_data = downscale(np.array([(g_[i,:], c_[i,:], it_[i,:]) for i in range(g_.shape[0])]), resolution)\n",
        "\n",
        "    # Break time aligned data into train & test samples\n",
        "    if batch:\n",
        "        train_data, train_label = process_data(aligned_train_data, time_horizon, ph)\n",
        "        test_data, test_label = process_data(aligned_test_data, time_horizon, ph)\n",
        "    \n",
        "        return np.swapaxes(train_data,1,2), train_label, np.swapaxes(test_data,1,2), test_label\n",
        "      \n",
        "    else:\n",
        "\n",
        "        return aligned_train_data, aligned_test_data"
      ],
      "execution_count": null,
      "outputs": []
    },
    {
      "cell_type": "code",
      "metadata": {
        "id": "YOHs8i6Reuzc",
        "colab_type": "code",
        "colab": {
          "base_uri": "https://localhost:8080/",
          "height": 35
        },
        "outputId": "7f9bc2b4-9306-4b48-887c-a118b552755d"
      },
      "source": [
        "# Sample output shapes for time_horizon = 2hrs, PH = 20 mins, resolution = 10 mins\n",
        "\n",
        "train_data, train_label, test_data, test_label = load_data(12,2,10)\n",
        "print(train_data.shape, train_label.shape, test_data.shape, test_label.shape)"
      ],
      "execution_count": null,
      "outputs": [
        {
          "output_type": "stream",
          "text": [
            "(982800, 12, 3) (982800, 2) (421200, 12, 3) (421200, 2)\n"
          ],
          "name": "stdout"
        }
      ]
    },
    {
      "cell_type": "markdown",
      "metadata": {
        "id": "I-xHu_BdX4hl",
        "colab_type": "text"
      },
      "source": [
        "# Dense network"
      ]
    },
    {
      "cell_type": "code",
      "metadata": {
        "id": "xO7xS1hv8ihJ",
        "colab_type": "code",
        "colab": {}
      },
      "source": [
        "def dense_net(ph): # add ph parameter\n",
        "    \n",
        "    model = tf.keras.Sequential()\n",
        "    model.add(tf.keras.layers.Dense(512, activation='relu', input_shape=(train_data.shape[1] * train_data.shape[2],)))\n",
        "    model.add(tf.keras.layers.Dense(512, activation='relu'))\n",
        "    model.add(tf.keras.layers.Dense(512, activation='relu'))\n",
        "    model.add(tf.keras.layers.Dense(128, activation='relu'))\n",
        "    model.add(tf.keras.layers.Dense(64, activation='relu'))\n",
        "    model.add(tf.keras.layers.Dense(32, activation='relu'))\n",
        "    model.add(tf.keras.layers.Dense(ph, activation=None))\n",
        "\n",
        "    model.compile(optimizer='adam', loss='mean_squared_error', metrics=[tf.keras.metrics.RootMeanSquaredError()])\n",
        "\n",
        "    return model\n"
      ],
      "execution_count": null,
      "outputs": []
    },
    {
      "cell_type": "markdown",
      "metadata": {
        "id": "xEZyOhNV85Dw",
        "colab_type": "text"
      },
      "source": [
        "## TH = 2 hrs, PH = 20 mins\n"
      ]
    },
    {
      "cell_type": "code",
      "metadata": {
        "colab_type": "code",
        "id": "UxMGbMl68zgo",
        "colab": {
          "base_uri": "https://localhost:8080/",
          "height": 1000
        },
        "outputId": "42861702-005f-4005-955f-a51504254a4d"
      },
      "source": [
        "# Hyper-parameters\n",
        "PH = 2\n",
        "TIME_HORIZON = 12\n",
        "RESOLUTION = 10\n",
        "BATCH_SIZE = 128\n",
        "EPOCHS = 50\n",
        "BATCH = True\n",
        "\n",
        "train_data, train_label, test_data, test_label = load_data(TIME_HORIZON, PH, RESOLUTION, BATCH)\n",
        "\n",
        "model = dense_net(PH)\n",
        "\n",
        "print(model.summary())\n",
        "\n",
        "dense_net = model.fit(x=np.reshape(train_data, (train_data.shape[0], train_data.shape[1] * train_data.shape[2])),\n",
        "                      y=train_label,\n",
        "                      batch_size=BATCH_SIZE,\n",
        "                      epochs=EPOCHS,\n",
        "                      validation_data=(np.reshape(test_data, (test_data.shape[0], test_data.shape[1] * test_data.shape[2])), test_label))\n",
        "\n",
        "# Save model\n",
        "model.save('saved_models/dense_TH=2hr_PH=20mins.h5')\n",
        "json.dump(dense_net.history, open('saved_models/dense_net_TH=2hr_PH=20mins_history', 'w'))\n",
        "\n",
        "!ls saved_models"
      ],
      "execution_count": null,
      "outputs": [
        {
          "output_type": "stream",
          "text": [
            "Model: \"sequential_1\"\n",
            "_________________________________________________________________\n",
            "Layer (type)                 Output Shape              Param #   \n",
            "=================================================================\n",
            "dense_7 (Dense)              (None, 512)               18944     \n",
            "_________________________________________________________________\n",
            "dense_8 (Dense)              (None, 512)               262656    \n",
            "_________________________________________________________________\n",
            "dense_9 (Dense)              (None, 512)               262656    \n",
            "_________________________________________________________________\n",
            "dense_10 (Dense)             (None, 128)               65664     \n",
            "_________________________________________________________________\n",
            "dense_11 (Dense)             (None, 64)                8256      \n",
            "_________________________________________________________________\n",
            "dense_12 (Dense)             (None, 32)                2080      \n",
            "_________________________________________________________________\n",
            "dense_13 (Dense)             (None, 2)                 66        \n",
            "=================================================================\n",
            "Total params: 620,322\n",
            "Trainable params: 620,322\n",
            "Non-trainable params: 0\n",
            "_________________________________________________________________\n",
            "None\n",
            "Epoch 1/50\n",
            "7679/7679 [==============================] - 24s 3ms/step - loss: 0.1764 - root_mean_squared_error: 0.4200 - val_loss: 0.1365 - val_root_mean_squared_error: 0.3695\n",
            "Epoch 2/50\n",
            "7679/7679 [==============================] - 25s 3ms/step - loss: 0.1138 - root_mean_squared_error: 0.3373 - val_loss: 0.1034 - val_root_mean_squared_error: 0.3216\n",
            "Epoch 3/50\n",
            "7679/7679 [==============================] - 25s 3ms/step - loss: 0.1095 - root_mean_squared_error: 0.3309 - val_loss: 0.1990 - val_root_mean_squared_error: 0.4461\n",
            "Epoch 4/50\n",
            "7679/7679 [==============================] - 25s 3ms/step - loss: 0.1064 - root_mean_squared_error: 0.3262 - val_loss: 0.1116 - val_root_mean_squared_error: 0.3340\n",
            "Epoch 5/50\n",
            "7679/7679 [==============================] - 25s 3ms/step - loss: 0.1049 - root_mean_squared_error: 0.3238 - val_loss: 0.1174 - val_root_mean_squared_error: 0.3426\n",
            "Epoch 6/50\n",
            "7679/7679 [==============================] - 25s 3ms/step - loss: 0.1031 - root_mean_squared_error: 0.3211 - val_loss: 0.1266 - val_root_mean_squared_error: 0.3558\n",
            "Epoch 7/50\n",
            "7679/7679 [==============================] - 25s 3ms/step - loss: 0.1022 - root_mean_squared_error: 0.3197 - val_loss: 0.1004 - val_root_mean_squared_error: 0.3169\n",
            "Epoch 8/50\n",
            "7679/7679 [==============================] - 24s 3ms/step - loss: 0.1010 - root_mean_squared_error: 0.3178 - val_loss: 0.1306 - val_root_mean_squared_error: 0.3614\n",
            "Epoch 9/50\n",
            "7679/7679 [==============================] - 24s 3ms/step - loss: 0.1005 - root_mean_squared_error: 0.3170 - val_loss: 0.1201 - val_root_mean_squared_error: 0.3466\n",
            "Epoch 10/50\n",
            "7679/7679 [==============================] - 25s 3ms/step - loss: 0.1001 - root_mean_squared_error: 0.3164 - val_loss: 0.0960 - val_root_mean_squared_error: 0.3099\n",
            "Epoch 11/50\n",
            "7679/7679 [==============================] - 24s 3ms/step - loss: 0.0999 - root_mean_squared_error: 0.3160 - val_loss: 0.0975 - val_root_mean_squared_error: 0.3123\n",
            "Epoch 12/50\n",
            "7679/7679 [==============================] - 24s 3ms/step - loss: 0.0991 - root_mean_squared_error: 0.3148 - val_loss: 0.1029 - val_root_mean_squared_error: 0.3208\n",
            "Epoch 13/50\n",
            "7679/7679 [==============================] - 25s 3ms/step - loss: 0.0985 - root_mean_squared_error: 0.3139 - val_loss: 0.1078 - val_root_mean_squared_error: 0.3284\n",
            "Epoch 14/50\n",
            "7679/7679 [==============================] - 25s 3ms/step - loss: 0.0988 - root_mean_squared_error: 0.3143 - val_loss: 0.0983 - val_root_mean_squared_error: 0.3135\n",
            "Epoch 15/50\n",
            "7679/7679 [==============================] - 25s 3ms/step - loss: 0.0978 - root_mean_squared_error: 0.3128 - val_loss: 0.0998 - val_root_mean_squared_error: 0.3159\n",
            "Epoch 16/50\n",
            "7679/7679 [==============================] - 24s 3ms/step - loss: 0.0980 - root_mean_squared_error: 0.3130 - val_loss: 0.0971 - val_root_mean_squared_error: 0.3116\n",
            "Epoch 17/50\n",
            "7679/7679 [==============================] - 26s 3ms/step - loss: 0.0978 - root_mean_squared_error: 0.3127 - val_loss: 0.0973 - val_root_mean_squared_error: 0.3120\n",
            "Epoch 18/50\n",
            "7679/7679 [==============================] - 25s 3ms/step - loss: 0.0971 - root_mean_squared_error: 0.3117 - val_loss: 0.0968 - val_root_mean_squared_error: 0.3111\n",
            "Epoch 19/50\n",
            "7679/7679 [==============================] - 25s 3ms/step - loss: 0.0973 - root_mean_squared_error: 0.3119 - val_loss: 0.1007 - val_root_mean_squared_error: 0.3174\n",
            "Epoch 20/50\n",
            "7679/7679 [==============================] - 25s 3ms/step - loss: 0.0967 - root_mean_squared_error: 0.3110 - val_loss: 0.0950 - val_root_mean_squared_error: 0.3083\n",
            "Epoch 21/50\n",
            "7679/7679 [==============================] - 25s 3ms/step - loss: 0.0967 - root_mean_squared_error: 0.3109 - val_loss: 0.1070 - val_root_mean_squared_error: 0.3270\n",
            "Epoch 22/50\n",
            "7679/7679 [==============================] - 25s 3ms/step - loss: 0.0965 - root_mean_squared_error: 0.3106 - val_loss: 0.0987 - val_root_mean_squared_error: 0.3142\n",
            "Epoch 23/50\n",
            "7679/7679 [==============================] - 25s 3ms/step - loss: 0.0963 - root_mean_squared_error: 0.3104 - val_loss: 0.0977 - val_root_mean_squared_error: 0.3125\n",
            "Epoch 24/50\n",
            "7679/7679 [==============================] - 25s 3ms/step - loss: 0.0959 - root_mean_squared_error: 0.3098 - val_loss: 0.0955 - val_root_mean_squared_error: 0.3090\n",
            "Epoch 25/50\n",
            "7679/7679 [==============================] - 25s 3ms/step - loss: 0.0958 - root_mean_squared_error: 0.3095 - val_loss: 0.0975 - val_root_mean_squared_error: 0.3122\n",
            "Epoch 26/50\n",
            "7679/7679 [==============================] - 25s 3ms/step - loss: 0.0957 - root_mean_squared_error: 0.3094 - val_loss: 0.0993 - val_root_mean_squared_error: 0.3151\n",
            "Epoch 27/50\n",
            "7679/7679 [==============================] - 25s 3ms/step - loss: 0.0956 - root_mean_squared_error: 0.3091 - val_loss: 0.1052 - val_root_mean_squared_error: 0.3243\n",
            "Epoch 28/50\n",
            "7679/7679 [==============================] - 24s 3ms/step - loss: 0.0955 - root_mean_squared_error: 0.3091 - val_loss: 0.0980 - val_root_mean_squared_error: 0.3131\n",
            "Epoch 29/50\n",
            "7679/7679 [==============================] - 25s 3ms/step - loss: 0.0953 - root_mean_squared_error: 0.3087 - val_loss: 0.0984 - val_root_mean_squared_error: 0.3137\n",
            "Epoch 30/50\n",
            "7679/7679 [==============================] - 25s 3ms/step - loss: 0.0951 - root_mean_squared_error: 0.3085 - val_loss: 0.0947 - val_root_mean_squared_error: 0.3077\n",
            "Epoch 31/50\n",
            "7679/7679 [==============================] - 25s 3ms/step - loss: 0.0950 - root_mean_squared_error: 0.3082 - val_loss: 0.0990 - val_root_mean_squared_error: 0.3146\n",
            "Epoch 32/50\n",
            "7679/7679 [==============================] - 25s 3ms/step - loss: 0.0948 - root_mean_squared_error: 0.3079 - val_loss: 0.1129 - val_root_mean_squared_error: 0.3360\n",
            "Epoch 33/50\n",
            "7679/7679 [==============================] - 26s 3ms/step - loss: 0.0949 - root_mean_squared_error: 0.3080 - val_loss: 0.1057 - val_root_mean_squared_error: 0.3251\n",
            "Epoch 34/50\n",
            "7679/7679 [==============================] - 25s 3ms/step - loss: 0.0948 - root_mean_squared_error: 0.3079 - val_loss: 0.1062 - val_root_mean_squared_error: 0.3259\n",
            "Epoch 35/50\n",
            "7679/7679 [==============================] - 25s 3ms/step - loss: 0.0946 - root_mean_squared_error: 0.3075 - val_loss: 0.0984 - val_root_mean_squared_error: 0.3137\n",
            "Epoch 36/50\n",
            "7679/7679 [==============================] - 25s 3ms/step - loss: 0.0947 - root_mean_squared_error: 0.3077 - val_loss: 0.0952 - val_root_mean_squared_error: 0.3085\n",
            "Epoch 37/50\n",
            "7679/7679 [==============================] - 25s 3ms/step - loss: 0.0945 - root_mean_squared_error: 0.3075 - val_loss: 0.0958 - val_root_mean_squared_error: 0.3095\n",
            "Epoch 38/50\n",
            "7679/7679 [==============================] - 25s 3ms/step - loss: 0.0944 - root_mean_squared_error: 0.3073 - val_loss: 0.1011 - val_root_mean_squared_error: 0.3180\n",
            "Epoch 39/50\n",
            "7679/7679 [==============================] - 25s 3ms/step - loss: 0.0943 - root_mean_squared_error: 0.3071 - val_loss: 0.0941 - val_root_mean_squared_error: 0.3068\n",
            "Epoch 40/50\n",
            "7679/7679 [==============================] - 25s 3ms/step - loss: 0.0944 - root_mean_squared_error: 0.3072 - val_loss: 0.0963 - val_root_mean_squared_error: 0.3104\n",
            "Epoch 41/50\n",
            "7679/7679 [==============================] - 25s 3ms/step - loss: 0.0942 - root_mean_squared_error: 0.3070 - val_loss: 0.0938 - val_root_mean_squared_error: 0.3063\n",
            "Epoch 42/50\n",
            "7679/7679 [==============================] - 26s 3ms/step - loss: 0.0941 - root_mean_squared_error: 0.3068 - val_loss: 0.0985 - val_root_mean_squared_error: 0.3138\n",
            "Epoch 43/50\n",
            "7679/7679 [==============================] - 25s 3ms/step - loss: 0.0941 - root_mean_squared_error: 0.3067 - val_loss: 0.0940 - val_root_mean_squared_error: 0.3066\n",
            "Epoch 44/50\n",
            "7679/7679 [==============================] - 25s 3ms/step - loss: 0.0939 - root_mean_squared_error: 0.3064 - val_loss: 0.1049 - val_root_mean_squared_error: 0.3238\n",
            "Epoch 45/50\n",
            "7679/7679 [==============================] - 25s 3ms/step - loss: 0.0939 - root_mean_squared_error: 0.3065 - val_loss: 0.0945 - val_root_mean_squared_error: 0.3075\n",
            "Epoch 46/50\n",
            "7679/7679 [==============================] - 25s 3ms/step - loss: 0.0939 - root_mean_squared_error: 0.3064 - val_loss: 0.0937 - val_root_mean_squared_error: 0.3061\n",
            "Epoch 47/50\n",
            "7679/7679 [==============================] - 25s 3ms/step - loss: 0.0937 - root_mean_squared_error: 0.3061 - val_loss: 0.0974 - val_root_mean_squared_error: 0.3120\n",
            "Epoch 48/50\n",
            "7679/7679 [==============================] - 25s 3ms/step - loss: 0.0937 - root_mean_squared_error: 0.3061 - val_loss: 0.0972 - val_root_mean_squared_error: 0.3118\n",
            "Epoch 49/50\n",
            "7679/7679 [==============================] - 25s 3ms/step - loss: 0.0936 - root_mean_squared_error: 0.3060 - val_loss: 0.0998 - val_root_mean_squared_error: 0.3159\n",
            "Epoch 50/50\n",
            "7679/7679 [==============================] - 25s 3ms/step - loss: 0.0936 - root_mean_squared_error: 0.3059 - val_loss: 0.1068 - val_root_mean_squared_error: 0.3268\n",
            "'dense_net_TH=2hr_PH=20mins_history'  'dense_TH=2hr_PH=20mins.h5'\n"
          ],
          "name": "stdout"
        }
      ]
    },
    {
      "cell_type": "markdown",
      "metadata": {
        "id": "e_ty7GGb-CDL",
        "colab_type": "text"
      },
      "source": [
        "## TH = 2 hrs, PH = 30 mins"
      ]
    },
    {
      "cell_type": "code",
      "metadata": {
        "id": "ZEVY5JRH-MMy",
        "colab_type": "code",
        "colab": {
          "base_uri": "https://localhost:8080/",
          "height": 1000
        },
        "outputId": "c8749fff-704a-4a82-c6ec-9bef43c44a25"
      },
      "source": [
        "# Hyper-parameters\n",
        "PH = 3\n",
        "TIME_HORIZON = 12\n",
        "RESOLUTION = 10\n",
        "BATCH_SIZE = 128\n",
        "EPOCHS = 50\n",
        "BATCH = True\n",
        "\n",
        "train_data, train_label, test_data, test_label = load_data(TIME_HORIZON, PH, RESOLUTION, BATCH)\n",
        "\n",
        "model = dense_net(PH)\n",
        "\n",
        "print(model.summary())\n",
        "\n",
        "dense_net = model.fit(x=np.reshape(train_data, (train_data.shape[0], train_data.shape[1] * train_data.shape[2])),\n",
        "                      y=train_label,\n",
        "                      batch_size=BATCH_SIZE,\n",
        "                      epochs=EPOCHS,\n",
        "                      validation_data=(np.reshape(test_data, (test_data.shape[0], test_data.shape[1] * test_data.shape[2])), test_label))\n",
        "\n",
        "# Save model\n",
        "model.save('saved_models/dense_TH=2hr_PH=30mins.h5')\n",
        "json.dump(dense_net.history, open('saved_models/dense_TH=2hr_PH=30mins_history', 'w'))\n",
        "\n",
        "!ls saved_models"
      ],
      "execution_count": null,
      "outputs": [
        {
          "output_type": "stream",
          "text": [
            "Model: \"sequential\"\n",
            "_________________________________________________________________\n",
            "Layer (type)                 Output Shape              Param #   \n",
            "=================================================================\n",
            "dense (Dense)                (None, 512)               18944     \n",
            "_________________________________________________________________\n",
            "dense_1 (Dense)              (None, 512)               262656    \n",
            "_________________________________________________________________\n",
            "dense_2 (Dense)              (None, 512)               262656    \n",
            "_________________________________________________________________\n",
            "dense_3 (Dense)              (None, 128)               65664     \n",
            "_________________________________________________________________\n",
            "dense_4 (Dense)              (None, 64)                8256      \n",
            "_________________________________________________________________\n",
            "dense_5 (Dense)              (None, 32)                2080      \n",
            "_________________________________________________________________\n",
            "dense_6 (Dense)              (None, 3)                 99        \n",
            "=================================================================\n",
            "Total params: 620,355\n",
            "Trainable params: 620,355\n",
            "Non-trainable params: 0\n",
            "_________________________________________________________________\n",
            "None\n",
            "Epoch 1/50\n",
            "7620/7620 [==============================] - 25s 3ms/step - loss: 0.1703 - root_mean_squared_error: 0.4126 - val_loss: 0.1631 - val_root_mean_squared_error: 0.4039\n",
            "Epoch 2/50\n",
            "7620/7620 [==============================] - 26s 3ms/step - loss: 0.1215 - root_mean_squared_error: 0.3486 - val_loss: 0.1411 - val_root_mean_squared_error: 0.3756\n",
            "Epoch 3/50\n",
            "7620/7620 [==============================] - 27s 4ms/step - loss: 0.1155 - root_mean_squared_error: 0.3398 - val_loss: 0.1128 - val_root_mean_squared_error: 0.3359\n",
            "Epoch 4/50\n",
            "7620/7620 [==============================] - 27s 3ms/step - loss: 0.1123 - root_mean_squared_error: 0.3352 - val_loss: 0.2176 - val_root_mean_squared_error: 0.4665\n",
            "Epoch 5/50\n",
            "7620/7620 [==============================] - 27s 3ms/step - loss: 0.1114 - root_mean_squared_error: 0.3337 - val_loss: 0.1402 - val_root_mean_squared_error: 0.3745\n",
            "Epoch 6/50\n",
            "7620/7620 [==============================] - 26s 3ms/step - loss: 0.1092 - root_mean_squared_error: 0.3305 - val_loss: 0.1211 - val_root_mean_squared_error: 0.3480\n",
            "Epoch 7/50\n",
            "7620/7620 [==============================] - 27s 4ms/step - loss: 0.1079 - root_mean_squared_error: 0.3285 - val_loss: 0.1048 - val_root_mean_squared_error: 0.3237\n",
            "Epoch 8/50\n",
            "7620/7620 [==============================] - 26s 3ms/step - loss: 0.1069 - root_mean_squared_error: 0.3270 - val_loss: 0.1182 - val_root_mean_squared_error: 0.3437\n",
            "Epoch 9/50\n",
            "7620/7620 [==============================] - 26s 3ms/step - loss: 0.1061 - root_mean_squared_error: 0.3258 - val_loss: 0.2150 - val_root_mean_squared_error: 0.4637\n",
            "Epoch 10/50\n",
            "7620/7620 [==============================] - 26s 3ms/step - loss: 0.1055 - root_mean_squared_error: 0.3248 - val_loss: 0.1291 - val_root_mean_squared_error: 0.3593\n",
            "Epoch 11/50\n",
            "7620/7620 [==============================] - 26s 3ms/step - loss: 0.1051 - root_mean_squared_error: 0.3242 - val_loss: 0.1044 - val_root_mean_squared_error: 0.3232\n",
            "Epoch 12/50\n",
            "7620/7620 [==============================] - 26s 3ms/step - loss: 0.1042 - root_mean_squared_error: 0.3228 - val_loss: 0.1067 - val_root_mean_squared_error: 0.3267\n",
            "Epoch 13/50\n",
            "7620/7620 [==============================] - 27s 3ms/step - loss: 0.1038 - root_mean_squared_error: 0.3222 - val_loss: 0.1197 - val_root_mean_squared_error: 0.3460\n",
            "Epoch 14/50\n",
            "7620/7620 [==============================] - 26s 3ms/step - loss: 0.1036 - root_mean_squared_error: 0.3218 - val_loss: 0.1066 - val_root_mean_squared_error: 0.3266\n",
            "Epoch 15/50\n",
            "7620/7620 [==============================] - 26s 3ms/step - loss: 0.1028 - root_mean_squared_error: 0.3207 - val_loss: 0.1280 - val_root_mean_squared_error: 0.3578\n",
            "Epoch 16/50\n",
            "7620/7620 [==============================] - 26s 3ms/step - loss: 0.1027 - root_mean_squared_error: 0.3205 - val_loss: 0.1026 - val_root_mean_squared_error: 0.3204\n",
            "Epoch 17/50\n",
            "7620/7620 [==============================] - 26s 3ms/step - loss: 0.1022 - root_mean_squared_error: 0.3197 - val_loss: 0.1053 - val_root_mean_squared_error: 0.3244\n",
            "Epoch 18/50\n",
            "7620/7620 [==============================] - 26s 3ms/step - loss: 0.1022 - root_mean_squared_error: 0.3197 - val_loss: 0.1030 - val_root_mean_squared_error: 0.3210\n",
            "Epoch 19/50\n",
            "7620/7620 [==============================] - 27s 4ms/step - loss: 0.1017 - root_mean_squared_error: 0.3190 - val_loss: 0.1036 - val_root_mean_squared_error: 0.3219\n",
            "Epoch 20/50\n",
            "7620/7620 [==============================] - 26s 3ms/step - loss: 0.1017 - root_mean_squared_error: 0.3189 - val_loss: 0.1255 - val_root_mean_squared_error: 0.3542\n",
            "Epoch 21/50\n",
            "7620/7620 [==============================] - 26s 3ms/step - loss: 0.1015 - root_mean_squared_error: 0.3186 - val_loss: 0.1242 - val_root_mean_squared_error: 0.3525\n",
            "Epoch 22/50\n",
            "7620/7620 [==============================] - 26s 3ms/step - loss: 0.1010 - root_mean_squared_error: 0.3178 - val_loss: 0.1069 - val_root_mean_squared_error: 0.3270\n",
            "Epoch 23/50\n",
            "7620/7620 [==============================] - 26s 3ms/step - loss: 0.1009 - root_mean_squared_error: 0.3176 - val_loss: 0.1039 - val_root_mean_squared_error: 0.3223\n",
            "Epoch 24/50\n",
            "7620/7620 [==============================] - 26s 3ms/step - loss: 0.1006 - root_mean_squared_error: 0.3172 - val_loss: 0.1005 - val_root_mean_squared_error: 0.3170\n",
            "Epoch 25/50\n",
            "7620/7620 [==============================] - 27s 4ms/step - loss: 0.1004 - root_mean_squared_error: 0.3168 - val_loss: 0.1016 - val_root_mean_squared_error: 0.3188\n",
            "Epoch 26/50\n",
            "7620/7620 [==============================] - 27s 3ms/step - loss: 0.1004 - root_mean_squared_error: 0.3169 - val_loss: 0.1033 - val_root_mean_squared_error: 0.3214\n",
            "Epoch 27/50\n",
            "7620/7620 [==============================] - 26s 3ms/step - loss: 0.1000 - root_mean_squared_error: 0.3163 - val_loss: 0.1304 - val_root_mean_squared_error: 0.3611\n",
            "Epoch 28/50\n",
            "7620/7620 [==============================] - 27s 4ms/step - loss: 0.1000 - root_mean_squared_error: 0.3162 - val_loss: 0.1044 - val_root_mean_squared_error: 0.3232\n",
            "Epoch 29/50\n",
            "7620/7620 [==============================] - 26s 3ms/step - loss: 0.0999 - root_mean_squared_error: 0.3161 - val_loss: 0.1041 - val_root_mean_squared_error: 0.3226\n",
            "Epoch 30/50\n",
            "7620/7620 [==============================] - 27s 4ms/step - loss: 0.0998 - root_mean_squared_error: 0.3159 - val_loss: 0.0998 - val_root_mean_squared_error: 0.3159\n",
            "Epoch 31/50\n",
            "7620/7620 [==============================] - 27s 4ms/step - loss: 0.0997 - root_mean_squared_error: 0.3157 - val_loss: 0.1046 - val_root_mean_squared_error: 0.3235\n",
            "Epoch 32/50\n",
            "7620/7620 [==============================] - 27s 4ms/step - loss: 0.0994 - root_mean_squared_error: 0.3152 - val_loss: 0.1045 - val_root_mean_squared_error: 0.3233\n",
            "Epoch 33/50\n",
            "7620/7620 [==============================] - 27s 3ms/step - loss: 0.0995 - root_mean_squared_error: 0.3154 - val_loss: 0.1086 - val_root_mean_squared_error: 0.3296\n",
            "Epoch 34/50\n",
            "7620/7620 [==============================] - 26s 3ms/step - loss: 0.0992 - root_mean_squared_error: 0.3150 - val_loss: 0.0998 - val_root_mean_squared_error: 0.3160\n",
            "Epoch 35/50\n",
            "7620/7620 [==============================] - 27s 3ms/step - loss: 0.0992 - root_mean_squared_error: 0.3149 - val_loss: 0.1024 - val_root_mean_squared_error: 0.3200\n",
            "Epoch 36/50\n",
            "7620/7620 [==============================] - 26s 3ms/step - loss: 0.0990 - root_mean_squared_error: 0.3146 - val_loss: 0.1081 - val_root_mean_squared_error: 0.3288\n",
            "Epoch 37/50\n",
            "7620/7620 [==============================] - 27s 3ms/step - loss: 0.0989 - root_mean_squared_error: 0.3145 - val_loss: 0.1161 - val_root_mean_squared_error: 0.3407\n",
            "Epoch 38/50\n",
            "7620/7620 [==============================] - 26s 3ms/step - loss: 0.0988 - root_mean_squared_error: 0.3143 - val_loss: 0.1018 - val_root_mean_squared_error: 0.3191\n",
            "Epoch 39/50\n",
            "7620/7620 [==============================] - 26s 3ms/step - loss: 0.0987 - root_mean_squared_error: 0.3141 - val_loss: 0.1085 - val_root_mean_squared_error: 0.3293\n",
            "Epoch 40/50\n",
            "7620/7620 [==============================] - 27s 3ms/step - loss: 0.0985 - root_mean_squared_error: 0.3139 - val_loss: 0.1086 - val_root_mean_squared_error: 0.3296\n",
            "Epoch 41/50\n",
            "7620/7620 [==============================] - 27s 4ms/step - loss: 0.0984 - root_mean_squared_error: 0.3137 - val_loss: 0.1005 - val_root_mean_squared_error: 0.3170\n",
            "Epoch 42/50\n",
            "7620/7620 [==============================] - 28s 4ms/step - loss: 0.0983 - root_mean_squared_error: 0.3135 - val_loss: 0.1008 - val_root_mean_squared_error: 0.3175\n",
            "Epoch 43/50\n",
            "7620/7620 [==============================] - 27s 3ms/step - loss: 0.0983 - root_mean_squared_error: 0.3135 - val_loss: 0.1176 - val_root_mean_squared_error: 0.3429\n",
            "Epoch 44/50\n",
            "7620/7620 [==============================] - 27s 4ms/step - loss: 0.0981 - root_mean_squared_error: 0.3132 - val_loss: 0.1044 - val_root_mean_squared_error: 0.3231\n",
            "Epoch 45/50\n",
            "7620/7620 [==============================] - 27s 3ms/step - loss: 0.0981 - root_mean_squared_error: 0.3133 - val_loss: 0.1071 - val_root_mean_squared_error: 0.3272\n",
            "Epoch 46/50\n",
            "7620/7620 [==============================] - 27s 4ms/step - loss: 0.0980 - root_mean_squared_error: 0.3130 - val_loss: 0.1127 - val_root_mean_squared_error: 0.3357\n",
            "Epoch 47/50\n",
            "7620/7620 [==============================] - 27s 4ms/step - loss: 0.0979 - root_mean_squared_error: 0.3129 - val_loss: 0.1018 - val_root_mean_squared_error: 0.3190\n",
            "Epoch 48/50\n",
            "7620/7620 [==============================] - 28s 4ms/step - loss: 0.0978 - root_mean_squared_error: 0.3128 - val_loss: 0.1029 - val_root_mean_squared_error: 0.3209\n",
            "Epoch 49/50\n",
            "7620/7620 [==============================] - 28s 4ms/step - loss: 0.0977 - root_mean_squared_error: 0.3126 - val_loss: 0.1028 - val_root_mean_squared_error: 0.3206\n",
            "Epoch 50/50\n",
            "7620/7620 [==============================] - 26s 3ms/step - loss: 0.0976 - root_mean_squared_error: 0.3124 - val_loss: 0.1026 - val_root_mean_squared_error: 0.3203\n",
            "'crnn_TH=2hrs_PH=20mins.h5'\t      'dense_TH=2hr_PH=20mins.h5'\n",
            "'crnn_TH=2hrs_PH=20mins_history'      'dense_TH=2hr_PH=30mins.h5'\n",
            "'dense_net_TH=2hr_PH=20mins_history'  'dense_TH=2hr_PH=30mins_history'\n"
          ],
          "name": "stdout"
        }
      ]
    },
    {
      "cell_type": "markdown",
      "metadata": {
        "id": "f9o8aSehX4hu",
        "colab_type": "text"
      },
      "source": [
        "# CNN"
      ]
    },
    {
      "cell_type": "code",
      "metadata": {
        "id": "RqTo98PM-h5T",
        "colab_type": "code",
        "colab": {}
      },
      "source": [
        "def cnn(ph):\n",
        "\n",
        "    model = tf.keras.Sequential()\n",
        "    model.add(tf.keras.layers.Conv1D(128, 5, activation='relu', padding='same', input_shape=(train_data.shape[1], train_data.shape[2])))\n",
        "    model.add(tf.keras.layers.MaxPool1D(pool_size=2, strides=1, padding='valid'))\n",
        "    model.add(tf.keras.layers.Conv1D(256, 3, activation='relu', padding='same'))\n",
        "    model.add(tf.keras.layers.MaxPool1D(pool_size=2, strides=1, padding='valid'))\n",
        "    model.add(tf.keras.layers.Conv1D(256, 3, activation='relu', padding='same'))\n",
        "    model.add(tf.keras.layers.MaxPool1D(pool_size=2, strides=1, padding='valid'))\n",
        "    model.add(tf.keras.layers.Conv1D(512, 3, activation='relu', padding='same'))\n",
        "    model.add(tf.keras.layers.Flatten())\n",
        "    model.add(tf.keras.layers.Dense(ph, activation=None))\n",
        "\n",
        "    model.compile(optimizer='adam', loss='mean_squared_error', metrics=[tf.keras.metrics.RootMeanSquaredError()])\n",
        "\n",
        "    return model"
      ],
      "execution_count": null,
      "outputs": []
    },
    {
      "cell_type": "markdown",
      "metadata": {
        "id": "Zlzyuhr7-6i1",
        "colab_type": "text"
      },
      "source": [
        "## TH = 2 hrs, PH = 20 mins"
      ]
    },
    {
      "cell_type": "code",
      "metadata": {
        "id": "MlGi-fTEX4hw",
        "colab_type": "code",
        "colab": {
          "base_uri": "https://localhost:8080/",
          "height": 1000
        },
        "outputId": "691f1d2b-471a-4707-9626-f4e143d61b62"
      },
      "source": [
        "PH = 2\n",
        "TIME_HORIZON = 12\n",
        "RESOLUTION = 10\n",
        "BATCH_SIZE = 128\n",
        "EPOCHS = 50\n",
        "BATCH = True\n",
        "\n",
        "train_data, train_label, test_data, test_label = load_data(TIME_HORIZON, PH, RESOLUTION, BATCH)\n",
        "\n",
        "print(train_data.shape, test_data.shape)\n",
        "\n",
        "model = cnn(PH)\n",
        "\n",
        "print(model.summary())\n",
        "\n",
        "cnn = model.fit(x=train_data,\n",
        "                y=train_label,\n",
        "                batch_size=BATCH_SIZE,\n",
        "                epochs=EPOCHS,\n",
        "                validation_data=(test_data, test_label))\n",
        "\n",
        "# Save model\n",
        "model.save('saved_models/cnn_TH=2hr_PH=20mins.h5')\n",
        "json.dump(cnn.history, open('saved_models/cnn_TH=2hr_PH=20mins_history', 'w'))\n",
        "\n",
        "!ls saved_models"
      ],
      "execution_count": null,
      "outputs": [
        {
          "output_type": "stream",
          "text": [
            "(982800, 12, 3) (421200, 12, 3)\n",
            "Model: \"sequential_1\"\n",
            "_________________________________________________________________\n",
            "Layer (type)                 Output Shape              Param #   \n",
            "=================================================================\n",
            "conv1d (Conv1D)              (None, 12, 128)           2048      \n",
            "_________________________________________________________________\n",
            "max_pooling1d (MaxPooling1D) (None, 11, 128)           0         \n",
            "_________________________________________________________________\n",
            "conv1d_1 (Conv1D)            (None, 11, 256)           98560     \n",
            "_________________________________________________________________\n",
            "max_pooling1d_1 (MaxPooling1 (None, 10, 256)           0         \n",
            "_________________________________________________________________\n",
            "conv1d_2 (Conv1D)            (None, 10, 256)           196864    \n",
            "_________________________________________________________________\n",
            "max_pooling1d_2 (MaxPooling1 (None, 9, 256)            0         \n",
            "_________________________________________________________________\n",
            "conv1d_3 (Conv1D)            (None, 9, 512)            393728    \n",
            "_________________________________________________________________\n",
            "flatten (Flatten)            (None, 4608)              0         \n",
            "_________________________________________________________________\n",
            "dense_7 (Dense)              (None, 2)                 9218      \n",
            "=================================================================\n",
            "Total params: 700,418\n",
            "Trainable params: 700,418\n",
            "Non-trainable params: 0\n",
            "_________________________________________________________________\n",
            "None\n",
            "Epoch 1/50\n",
            "7679/7679 [==============================] - 64s 8ms/step - loss: 0.1640 - root_mean_squared_error: 0.4050 - val_loss: 0.1072 - val_root_mean_squared_error: 0.3274\n",
            "Epoch 2/50\n",
            "7679/7679 [==============================] - 61s 8ms/step - loss: 0.1077 - root_mean_squared_error: 0.3282 - val_loss: 0.1948 - val_root_mean_squared_error: 0.4414\n",
            "Epoch 3/50\n",
            "7679/7679 [==============================] - 60s 8ms/step - loss: 0.1034 - root_mean_squared_error: 0.3216 - val_loss: 0.0978 - val_root_mean_squared_error: 0.3127\n",
            "Epoch 4/50\n",
            "7679/7679 [==============================] - 63s 8ms/step - loss: 0.1014 - root_mean_squared_error: 0.3184 - val_loss: 0.0992 - val_root_mean_squared_error: 0.3149\n",
            "Epoch 5/50\n",
            "7679/7679 [==============================] - 61s 8ms/step - loss: 0.1002 - root_mean_squared_error: 0.3165 - val_loss: 0.1152 - val_root_mean_squared_error: 0.3394\n",
            "Epoch 6/50\n",
            "7679/7679 [==============================] - 61s 8ms/step - loss: 0.0990 - root_mean_squared_error: 0.3147 - val_loss: 0.1269 - val_root_mean_squared_error: 0.3562\n",
            "Epoch 7/50\n",
            "7679/7679 [==============================] - 61s 8ms/step - loss: 0.0987 - root_mean_squared_error: 0.3141 - val_loss: 0.0991 - val_root_mean_squared_error: 0.3148\n",
            "Epoch 8/50\n",
            "7679/7679 [==============================] - 61s 8ms/step - loss: 0.0979 - root_mean_squared_error: 0.3128 - val_loss: 0.0963 - val_root_mean_squared_error: 0.3103\n",
            "Epoch 9/50\n",
            "7679/7679 [==============================] - 61s 8ms/step - loss: 0.0975 - root_mean_squared_error: 0.3122 - val_loss: 0.0988 - val_root_mean_squared_error: 0.3143\n",
            "Epoch 10/50\n",
            "7679/7679 [==============================] - 61s 8ms/step - loss: 0.0972 - root_mean_squared_error: 0.3118 - val_loss: 0.0998 - val_root_mean_squared_error: 0.3159\n",
            "Epoch 11/50\n",
            "7679/7679 [==============================] - 60s 8ms/step - loss: 0.0968 - root_mean_squared_error: 0.3111 - val_loss: 0.1021 - val_root_mean_squared_error: 0.3195\n",
            "Epoch 12/50\n",
            "7679/7679 [==============================] - 61s 8ms/step - loss: 0.0964 - root_mean_squared_error: 0.3105 - val_loss: 0.0993 - val_root_mean_squared_error: 0.3151\n",
            "Epoch 13/50\n",
            "7679/7679 [==============================] - 60s 8ms/step - loss: 0.0962 - root_mean_squared_error: 0.3101 - val_loss: 0.1027 - val_root_mean_squared_error: 0.3205\n",
            "Epoch 14/50\n",
            "7679/7679 [==============================] - 60s 8ms/step - loss: 0.0959 - root_mean_squared_error: 0.3097 - val_loss: 0.0996 - val_root_mean_squared_error: 0.3157\n",
            "Epoch 15/50\n",
            "7679/7679 [==============================] - 60s 8ms/step - loss: 0.0957 - root_mean_squared_error: 0.3094 - val_loss: 0.1057 - val_root_mean_squared_error: 0.3252\n",
            "Epoch 16/50\n",
            "7679/7679 [==============================] - 60s 8ms/step - loss: 0.0956 - root_mean_squared_error: 0.3093 - val_loss: 0.0971 - val_root_mean_squared_error: 0.3116\n",
            "Epoch 17/50\n",
            "7679/7679 [==============================] - 60s 8ms/step - loss: 0.0955 - root_mean_squared_error: 0.3090 - val_loss: 0.0984 - val_root_mean_squared_error: 0.3137\n",
            "Epoch 18/50\n",
            "7679/7679 [==============================] - 60s 8ms/step - loss: 0.0952 - root_mean_squared_error: 0.3086 - val_loss: 0.0958 - val_root_mean_squared_error: 0.3096\n",
            "Epoch 19/50\n",
            "7679/7679 [==============================] - 60s 8ms/step - loss: 0.0952 - root_mean_squared_error: 0.3085 - val_loss: 0.1037 - val_root_mean_squared_error: 0.3221\n",
            "Epoch 20/50\n",
            "7679/7679 [==============================] - 60s 8ms/step - loss: 0.0948 - root_mean_squared_error: 0.3079 - val_loss: 0.1067 - val_root_mean_squared_error: 0.3267\n",
            "Epoch 21/50\n",
            "7679/7679 [==============================] - 60s 8ms/step - loss: 0.0948 - root_mean_squared_error: 0.3079 - val_loss: 0.0956 - val_root_mean_squared_error: 0.3091\n",
            "Epoch 22/50\n",
            "7679/7679 [==============================] - 60s 8ms/step - loss: 0.0947 - root_mean_squared_error: 0.3077 - val_loss: 0.0974 - val_root_mean_squared_error: 0.3120\n",
            "Epoch 23/50\n",
            "7679/7679 [==============================] - 61s 8ms/step - loss: 0.0945 - root_mean_squared_error: 0.3074 - val_loss: 0.0951 - val_root_mean_squared_error: 0.3083\n",
            "Epoch 24/50\n",
            "7679/7679 [==============================] - 62s 8ms/step - loss: 0.0945 - root_mean_squared_error: 0.3074 - val_loss: 0.0953 - val_root_mean_squared_error: 0.3087\n",
            "Epoch 25/50\n",
            "7679/7679 [==============================] - 60s 8ms/step - loss: 0.0944 - root_mean_squared_error: 0.3073 - val_loss: 0.0941 - val_root_mean_squared_error: 0.3068\n",
            "Epoch 26/50\n",
            "7679/7679 [==============================] - 61s 8ms/step - loss: 0.0943 - root_mean_squared_error: 0.3070 - val_loss: 0.0954 - val_root_mean_squared_error: 0.3088\n",
            "Epoch 27/50\n",
            "7679/7679 [==============================] - 60s 8ms/step - loss: 0.0941 - root_mean_squared_error: 0.3067 - val_loss: 0.0940 - val_root_mean_squared_error: 0.3065\n",
            "Epoch 28/50\n",
            "7679/7679 [==============================] - 60s 8ms/step - loss: 0.0941 - root_mean_squared_error: 0.3067 - val_loss: 0.1099 - val_root_mean_squared_error: 0.3315\n",
            "Epoch 29/50\n",
            "7679/7679 [==============================] - 60s 8ms/step - loss: 0.0940 - root_mean_squared_error: 0.3066 - val_loss: 0.0982 - val_root_mean_squared_error: 0.3134\n",
            "Epoch 30/50\n",
            "7679/7679 [==============================] - 60s 8ms/step - loss: 0.0938 - root_mean_squared_error: 0.3063 - val_loss: 0.0956 - val_root_mean_squared_error: 0.3092\n",
            "Epoch 31/50\n",
            "7679/7679 [==============================] - 60s 8ms/step - loss: 0.0938 - root_mean_squared_error: 0.3062 - val_loss: 0.0948 - val_root_mean_squared_error: 0.3080\n",
            "Epoch 32/50\n",
            "7679/7679 [==============================] - 60s 8ms/step - loss: 0.0937 - root_mean_squared_error: 0.3061 - val_loss: 0.0946 - val_root_mean_squared_error: 0.3076\n",
            "Epoch 33/50\n",
            "7679/7679 [==============================] - 60s 8ms/step - loss: 0.0937 - root_mean_squared_error: 0.3061 - val_loss: 0.1007 - val_root_mean_squared_error: 0.3173\n",
            "Epoch 34/50\n",
            "7679/7679 [==============================] - 60s 8ms/step - loss: 0.0937 - root_mean_squared_error: 0.3060 - val_loss: 0.0982 - val_root_mean_squared_error: 0.3134\n",
            "Epoch 35/50\n",
            "7679/7679 [==============================] - 60s 8ms/step - loss: 0.0935 - root_mean_squared_error: 0.3058 - val_loss: 0.0945 - val_root_mean_squared_error: 0.3073\n",
            "Epoch 36/50\n",
            "7679/7679 [==============================] - 60s 8ms/step - loss: 0.0935 - root_mean_squared_error: 0.3058 - val_loss: 0.0966 - val_root_mean_squared_error: 0.3108\n",
            "Epoch 37/50\n",
            "7679/7679 [==============================] - 60s 8ms/step - loss: 0.0934 - root_mean_squared_error: 0.3056 - val_loss: 0.0944 - val_root_mean_squared_error: 0.3072\n",
            "Epoch 38/50\n",
            "7679/7679 [==============================] - 60s 8ms/step - loss: 0.0934 - root_mean_squared_error: 0.3056 - val_loss: 0.0984 - val_root_mean_squared_error: 0.3138\n",
            "Epoch 39/50\n",
            "7679/7679 [==============================] - 60s 8ms/step - loss: 0.0934 - root_mean_squared_error: 0.3055 - val_loss: 0.0961 - val_root_mean_squared_error: 0.3099\n",
            "Epoch 40/50\n",
            "7679/7679 [==============================] - 60s 8ms/step - loss: 0.0931 - root_mean_squared_error: 0.3052 - val_loss: 0.1141 - val_root_mean_squared_error: 0.3378\n",
            "Epoch 41/50\n",
            "7679/7679 [==============================] - 61s 8ms/step - loss: 0.0931 - root_mean_squared_error: 0.3051 - val_loss: 0.0963 - val_root_mean_squared_error: 0.3103\n",
            "Epoch 42/50\n",
            "7679/7679 [==============================] - 60s 8ms/step - loss: 0.0931 - root_mean_squared_error: 0.3051 - val_loss: 0.0957 - val_root_mean_squared_error: 0.3094\n",
            "Epoch 43/50\n",
            "7679/7679 [==============================] - 61s 8ms/step - loss: 0.0930 - root_mean_squared_error: 0.3050 - val_loss: 0.0960 - val_root_mean_squared_error: 0.3098\n",
            "Epoch 44/50\n",
            "7679/7679 [==============================] - 61s 8ms/step - loss: 0.0929 - root_mean_squared_error: 0.3048 - val_loss: 0.0946 - val_root_mean_squared_error: 0.3076\n",
            "Epoch 45/50\n",
            "7679/7679 [==============================] - 61s 8ms/step - loss: 0.0930 - root_mean_squared_error: 0.3050 - val_loss: 0.0951 - val_root_mean_squared_error: 0.3084\n",
            "Epoch 46/50\n",
            "7679/7679 [==============================] - 62s 8ms/step - loss: 0.0929 - root_mean_squared_error: 0.3048 - val_loss: 0.1012 - val_root_mean_squared_error: 0.3181\n",
            "Epoch 47/50\n",
            "7679/7679 [==============================] - 61s 8ms/step - loss: 0.0929 - root_mean_squared_error: 0.3048 - val_loss: 0.0953 - val_root_mean_squared_error: 0.3087\n",
            "Epoch 48/50\n",
            "7679/7679 [==============================] - 61s 8ms/step - loss: 0.0928 - root_mean_squared_error: 0.3047 - val_loss: 0.0954 - val_root_mean_squared_error: 0.3088\n",
            "Epoch 49/50\n",
            "7679/7679 [==============================] - 61s 8ms/step - loss: 0.0929 - root_mean_squared_error: 0.3047 - val_loss: 0.0945 - val_root_mean_squared_error: 0.3075\n",
            "Epoch 50/50\n",
            "7679/7679 [==============================] - 61s 8ms/step - loss: 0.0927 - root_mean_squared_error: 0.3044 - val_loss: 0.0983 - val_root_mean_squared_error: 0.3136\n",
            "'cnn_TH=2hr_PH=20mins.h5'\t  'dense_net_TH=2hr_PH=20mins_history'\n",
            "'cnn_TH=2hr_PH=20mins_history'\t  'dense_TH=2hr_PH=20mins.h5'\n",
            "'crnn_TH=2hrs_PH=20mins.h5'\t  'dense_TH=2hr_PH=30mins.h5'\n",
            "'crnn_TH=2hrs_PH=20mins_history'  'dense_TH=2hr_PH=30mins_history'\n"
          ],
          "name": "stdout"
        }
      ]
    },
    {
      "cell_type": "markdown",
      "metadata": {
        "id": "LtC9padL_-57",
        "colab_type": "text"
      },
      "source": [
        "## TH = 2hrs, PH = 30 mins"
      ]
    },
    {
      "cell_type": "code",
      "metadata": {
        "id": "1HJY3rTSAKxh",
        "colab_type": "code",
        "colab": {
          "base_uri": "https://localhost:8080/",
          "height": 1000
        },
        "outputId": "e9cfa923-f71c-459e-a132-1ec63ae64daf"
      },
      "source": [
        "PH = 3\n",
        "TIME_HORIZON = 12\n",
        "RESOLUTION = 10\n",
        "BATCH_SIZE = 128\n",
        "EPOCHS = 50\n",
        "BATCH = True\n",
        "\n",
        "train_data, train_label, test_data, test_label = load_data(TIME_HORIZON, PH, RESOLUTION, BATCH)\n",
        "\n",
        "print(train_data.shape, test_data.shape)\n",
        "\n",
        "model = cnn(PH)\n",
        "\n",
        "print(model.summary())\n",
        "\n",
        "cnn = model.fit(x=train_data,\n",
        "                y=train_label,\n",
        "                batch_size=BATCH_SIZE,\n",
        "                epochs=EPOCHS,\n",
        "                validation_data=(test_data, test_label))\n",
        "\n",
        "# Save model\n",
        "model.save('saved_models/cnn_TH=2hrs_PH=30mins.h5')\n",
        "json.dump(cnn.history, open('saved_models/cnn_TH=2hrs_PH=30mins_history', 'w'))\n",
        "\n",
        "!ls saved_models"
      ],
      "execution_count": null,
      "outputs": [
        {
          "output_type": "stream",
          "text": [
            "(975240, 12, 3) (417960, 12, 3)\n",
            "Model: \"sequential_2\"\n",
            "_________________________________________________________________\n",
            "Layer (type)                 Output Shape              Param #   \n",
            "=================================================================\n",
            "conv1d_4 (Conv1D)            (None, 12, 128)           2048      \n",
            "_________________________________________________________________\n",
            "max_pooling1d_3 (MaxPooling1 (None, 11, 128)           0         \n",
            "_________________________________________________________________\n",
            "conv1d_5 (Conv1D)            (None, 11, 256)           98560     \n",
            "_________________________________________________________________\n",
            "max_pooling1d_4 (MaxPooling1 (None, 10, 256)           0         \n",
            "_________________________________________________________________\n",
            "conv1d_6 (Conv1D)            (None, 10, 256)           196864    \n",
            "_________________________________________________________________\n",
            "max_pooling1d_5 (MaxPooling1 (None, 9, 256)            0         \n",
            "_________________________________________________________________\n",
            "conv1d_7 (Conv1D)            (None, 9, 512)            393728    \n",
            "_________________________________________________________________\n",
            "flatten_1 (Flatten)          (None, 4608)              0         \n",
            "_________________________________________________________________\n",
            "dense_8 (Dense)              (None, 3)                 13827     \n",
            "=================================================================\n",
            "Total params: 705,027\n",
            "Trainable params: 705,027\n",
            "Non-trainable params: 0\n",
            "_________________________________________________________________\n",
            "None\n",
            "Epoch 1/50\n",
            "7620/7620 [==============================] - 61s 8ms/step - loss: 0.1603 - root_mean_squared_error: 0.4003 - val_loss: 0.1262 - val_root_mean_squared_error: 0.3553\n",
            "Epoch 2/50\n",
            "7620/7620 [==============================] - 60s 8ms/step - loss: 0.1140 - root_mean_squared_error: 0.3377 - val_loss: 0.1088 - val_root_mean_squared_error: 0.3298\n",
            "Epoch 3/50\n",
            "7620/7620 [==============================] - 60s 8ms/step - loss: 0.1092 - root_mean_squared_error: 0.3304 - val_loss: 0.1069 - val_root_mean_squared_error: 0.3269\n",
            "Epoch 4/50\n",
            "7620/7620 [==============================] - 60s 8ms/step - loss: 0.1067 - root_mean_squared_error: 0.3267 - val_loss: 0.1065 - val_root_mean_squared_error: 0.3264\n",
            "Epoch 5/50\n",
            "7620/7620 [==============================] - 60s 8ms/step - loss: 0.1051 - root_mean_squared_error: 0.3241 - val_loss: 0.1061 - val_root_mean_squared_error: 0.3258\n",
            "Epoch 6/50\n",
            "7620/7620 [==============================] - 60s 8ms/step - loss: 0.1042 - root_mean_squared_error: 0.3227 - val_loss: 0.1282 - val_root_mean_squared_error: 0.3581\n",
            "Epoch 7/50\n",
            "7620/7620 [==============================] - 60s 8ms/step - loss: 0.1034 - root_mean_squared_error: 0.3215 - val_loss: 0.1071 - val_root_mean_squared_error: 0.3273\n",
            "Epoch 8/50\n",
            "7620/7620 [==============================] - 61s 8ms/step - loss: 0.1029 - root_mean_squared_error: 0.3208 - val_loss: 0.1135 - val_root_mean_squared_error: 0.3368\n",
            "Epoch 9/50\n",
            "7620/7620 [==============================] - 61s 8ms/step - loss: 0.1024 - root_mean_squared_error: 0.3200 - val_loss: 0.1123 - val_root_mean_squared_error: 0.3351\n",
            "Epoch 10/50\n",
            "7620/7620 [==============================] - 61s 8ms/step - loss: 0.1017 - root_mean_squared_error: 0.3188 - val_loss: 0.1089 - val_root_mean_squared_error: 0.3300\n",
            "Epoch 11/50\n",
            "7620/7620 [==============================] - 61s 8ms/step - loss: 0.1014 - root_mean_squared_error: 0.3184 - val_loss: 0.1083 - val_root_mean_squared_error: 0.3291\n",
            "Epoch 12/50\n",
            "7620/7620 [==============================] - 62s 8ms/step - loss: 0.1008 - root_mean_squared_error: 0.3175 - val_loss: 0.1027 - val_root_mean_squared_error: 0.3205\n",
            "Epoch 13/50\n",
            "7620/7620 [==============================] - 61s 8ms/step - loss: 0.1006 - root_mean_squared_error: 0.3171 - val_loss: 0.1200 - val_root_mean_squared_error: 0.3464\n",
            "Epoch 14/50\n",
            "7620/7620 [==============================] - 61s 8ms/step - loss: 0.1005 - root_mean_squared_error: 0.3170 - val_loss: 0.1026 - val_root_mean_squared_error: 0.3203\n",
            "Epoch 15/50\n",
            "7620/7620 [==============================] - 60s 8ms/step - loss: 0.1002 - root_mean_squared_error: 0.3165 - val_loss: 0.1019 - val_root_mean_squared_error: 0.3192\n",
            "Epoch 16/50\n",
            "7620/7620 [==============================] - 60s 8ms/step - loss: 0.1001 - root_mean_squared_error: 0.3163 - val_loss: 0.1075 - val_root_mean_squared_error: 0.3279\n",
            "Epoch 17/50\n",
            "7620/7620 [==============================] - 61s 8ms/step - loss: 0.0998 - root_mean_squared_error: 0.3159 - val_loss: 0.1021 - val_root_mean_squared_error: 0.3195\n",
            "Epoch 18/50\n",
            "7620/7620 [==============================] - 60s 8ms/step - loss: 0.0997 - root_mean_squared_error: 0.3158 - val_loss: 0.1006 - val_root_mean_squared_error: 0.3172\n",
            "Epoch 19/50\n",
            "7620/7620 [==============================] - 60s 8ms/step - loss: 0.0994 - root_mean_squared_error: 0.3152 - val_loss: 0.1180 - val_root_mean_squared_error: 0.3435\n",
            "Epoch 20/50\n",
            "7620/7620 [==============================] - 60s 8ms/step - loss: 0.0992 - root_mean_squared_error: 0.3149 - val_loss: 0.1014 - val_root_mean_squared_error: 0.3184\n",
            "Epoch 21/50\n",
            "7620/7620 [==============================] - 60s 8ms/step - loss: 0.0991 - root_mean_squared_error: 0.3148 - val_loss: 0.1005 - val_root_mean_squared_error: 0.3169\n",
            "Epoch 22/50\n",
            "7620/7620 [==============================] - 60s 8ms/step - loss: 0.0989 - root_mean_squared_error: 0.3144 - val_loss: 0.1010 - val_root_mean_squared_error: 0.3177\n",
            "Epoch 23/50\n",
            "7620/7620 [==============================] - 60s 8ms/step - loss: 0.0986 - root_mean_squared_error: 0.3140 - val_loss: 0.1119 - val_root_mean_squared_error: 0.3346\n",
            "Epoch 24/50\n",
            "7620/7620 [==============================] - 60s 8ms/step - loss: 0.0986 - root_mean_squared_error: 0.3141 - val_loss: 0.1003 - val_root_mean_squared_error: 0.3167\n",
            "Epoch 25/50\n",
            "7620/7620 [==============================] - 60s 8ms/step - loss: 0.0985 - root_mean_squared_error: 0.3138 - val_loss: 0.1035 - val_root_mean_squared_error: 0.3216\n",
            "Epoch 26/50\n",
            "7620/7620 [==============================] - 60s 8ms/step - loss: 0.0984 - root_mean_squared_error: 0.3137 - val_loss: 0.1069 - val_root_mean_squared_error: 0.3269\n",
            "Epoch 27/50\n",
            "7620/7620 [==============================] - 60s 8ms/step - loss: 0.0982 - root_mean_squared_error: 0.3133 - val_loss: 0.1058 - val_root_mean_squared_error: 0.3252\n",
            "Epoch 28/50\n",
            "7620/7620 [==============================] - 59s 8ms/step - loss: 0.0980 - root_mean_squared_error: 0.3131 - val_loss: 0.1029 - val_root_mean_squared_error: 0.3208\n",
            "Epoch 29/50\n",
            "7620/7620 [==============================] - 60s 8ms/step - loss: 0.0979 - root_mean_squared_error: 0.3129 - val_loss: 0.1042 - val_root_mean_squared_error: 0.3228\n",
            "Epoch 30/50\n",
            "7620/7620 [==============================] - 60s 8ms/step - loss: 0.0978 - root_mean_squared_error: 0.3128 - val_loss: 0.1126 - val_root_mean_squared_error: 0.3355\n",
            "Epoch 31/50\n",
            "7620/7620 [==============================] - 60s 8ms/step - loss: 0.0978 - root_mean_squared_error: 0.3127 - val_loss: 0.1012 - val_root_mean_squared_error: 0.3182\n",
            "Epoch 32/50\n",
            "7620/7620 [==============================] - 60s 8ms/step - loss: 0.0977 - root_mean_squared_error: 0.3125 - val_loss: 0.1025 - val_root_mean_squared_error: 0.3201\n",
            "Epoch 33/50\n",
            "7620/7620 [==============================] - 60s 8ms/step - loss: 0.0976 - root_mean_squared_error: 0.3124 - val_loss: 0.1046 - val_root_mean_squared_error: 0.3234\n",
            "Epoch 34/50\n",
            "7620/7620 [==============================] - 60s 8ms/step - loss: 0.0976 - root_mean_squared_error: 0.3125 - val_loss: 0.1023 - val_root_mean_squared_error: 0.3199\n",
            "Epoch 35/50\n",
            "7620/7620 [==============================] - 60s 8ms/step - loss: 0.0974 - root_mean_squared_error: 0.3121 - val_loss: 0.1050 - val_root_mean_squared_error: 0.3241\n",
            "Epoch 36/50\n",
            "7620/7620 [==============================] - 60s 8ms/step - loss: 0.0973 - root_mean_squared_error: 0.3118 - val_loss: 0.1046 - val_root_mean_squared_error: 0.3235\n",
            "Epoch 37/50\n",
            "7620/7620 [==============================] - 60s 8ms/step - loss: 0.0973 - root_mean_squared_error: 0.3119 - val_loss: 0.1005 - val_root_mean_squared_error: 0.3170\n",
            "Epoch 38/50\n",
            "7620/7620 [==============================] - 60s 8ms/step - loss: 0.0972 - root_mean_squared_error: 0.3117 - val_loss: 0.1005 - val_root_mean_squared_error: 0.3171\n",
            "Epoch 39/50\n",
            "7620/7620 [==============================] - 60s 8ms/step - loss: 0.0970 - root_mean_squared_error: 0.3115 - val_loss: 0.1125 - val_root_mean_squared_error: 0.3355\n",
            "Epoch 40/50\n",
            "7620/7620 [==============================] - 60s 8ms/step - loss: 0.0970 - root_mean_squared_error: 0.3114 - val_loss: 0.1037 - val_root_mean_squared_error: 0.3220\n",
            "Epoch 41/50\n",
            "7620/7620 [==============================] - 59s 8ms/step - loss: 0.0971 - root_mean_squared_error: 0.3117 - val_loss: 0.1008 - val_root_mean_squared_error: 0.3174\n",
            "Epoch 42/50\n",
            "7620/7620 [==============================] - 59s 8ms/step - loss: 0.0969 - root_mean_squared_error: 0.3112 - val_loss: 0.1004 - val_root_mean_squared_error: 0.3168\n",
            "Epoch 43/50\n",
            "7620/7620 [==============================] - 60s 8ms/step - loss: 0.0968 - root_mean_squared_error: 0.3111 - val_loss: 0.1056 - val_root_mean_squared_error: 0.3250\n",
            "Epoch 44/50\n",
            "7620/7620 [==============================] - 59s 8ms/step - loss: 0.0967 - root_mean_squared_error: 0.3110 - val_loss: 0.1077 - val_root_mean_squared_error: 0.3282\n",
            "Epoch 45/50\n",
            "7620/7620 [==============================] - 59s 8ms/step - loss: 0.0967 - root_mean_squared_error: 0.3110 - val_loss: 0.1011 - val_root_mean_squared_error: 0.3179\n",
            "Epoch 46/50\n",
            "7620/7620 [==============================] - 59s 8ms/step - loss: 0.0966 - root_mean_squared_error: 0.3108 - val_loss: 0.1035 - val_root_mean_squared_error: 0.3218\n",
            "Epoch 47/50\n",
            "7620/7620 [==============================] - 60s 8ms/step - loss: 0.0966 - root_mean_squared_error: 0.3108 - val_loss: 0.1028 - val_root_mean_squared_error: 0.3207\n",
            "Epoch 48/50\n",
            "7620/7620 [==============================] - 60s 8ms/step - loss: 0.0965 - root_mean_squared_error: 0.3106 - val_loss: 0.1005 - val_root_mean_squared_error: 0.3171\n",
            "Epoch 49/50\n",
            "7620/7620 [==============================] - 60s 8ms/step - loss: 0.0965 - root_mean_squared_error: 0.3106 - val_loss: 0.0998 - val_root_mean_squared_error: 0.3159\n",
            "Epoch 50/50\n",
            "7620/7620 [==============================] - 60s 8ms/step - loss: 0.0964 - root_mean_squared_error: 0.3105 - val_loss: 0.1004 - val_root_mean_squared_error: 0.3168\n",
            "'cnn_TH=2hr_PH=20mins.h5'\t 'crnn_TH=2hrs_PH=20mins_history'\n",
            "'cnn_TH=2hr_PH=20mins_history'\t 'dense_net_TH=2hr_PH=20mins_history'\n",
            "'cnn_TH=2hrs_PH=30mins.h5'\t 'dense_TH=2hr_PH=20mins.h5'\n",
            "'cnn_TH=2hrs_PH=30mins_history'  'dense_TH=2hr_PH=30mins.h5'\n",
            "'crnn_TH=2hrs_PH=20mins.h5'\t 'dense_TH=2hr_PH=30mins_history'\n"
          ],
          "name": "stdout"
        }
      ]
    },
    {
      "cell_type": "markdown",
      "metadata": {
        "id": "0LqzIxXnX4h3",
        "colab_type": "text"
      },
      "source": [
        "# LSTM"
      ]
    },
    {
      "cell_type": "code",
      "metadata": {
        "id": "0vGQSNauAgxJ",
        "colab_type": "code",
        "colab": {}
      },
      "source": [
        "def lstm(ph):\n",
        "\n",
        "    model = tf.keras.Sequential()\n",
        "    model.add(tf.keras.layers.LSTM(200, return_sequences=True, input_shape=(train_data.shape[1], train_data.shape[2])))\n",
        "    model.add(tf.keras.layers.LSTM(200, return_sequences=True))\n",
        "    model.add(tf.keras.layers.LSTM(200, return_sequences=True))\n",
        "    model.add(tf.keras.layers.LSTM(ph, activation=None))\n",
        "#    model.add(tf.keras.layers.Dense(1000))\n",
        "#    model.add(tf.keras.layers.Dense(250))\n",
        "#    model.add(tf.keras.layers.Dense(ph, activation=None))\n",
        "\n",
        "    model.compile(optimizer='adam', loss='mean_squared_error', metrics=[tf.keras.metrics.RootMeanSquaredError()])\n",
        "\n",
        "    return model"
      ],
      "execution_count": null,
      "outputs": []
    },
    {
      "cell_type": "markdown",
      "metadata": {
        "id": "yiHsXYIbAuZO",
        "colab_type": "text"
      },
      "source": [
        "## TH = 2hrs, PH = 20mins"
      ]
    },
    {
      "cell_type": "code",
      "metadata": {
        "id": "pOdb8j2cX4h4",
        "colab_type": "code",
        "colab": {
          "base_uri": "https://localhost:8080/",
          "height": 1000
        },
        "outputId": "77548a03-e23e-4727-f5ec-547e0172cb7c"
      },
      "source": [
        "PH = 2\n",
        "TIME_HORIZON = 12\n",
        "RESOLUTION = 10\n",
        "BATCH_SIZE = 128\n",
        "EPOCHS = 50\n",
        "BATCH = True\n",
        "\n",
        "train_data, train_label, test_data, test_label = load_data(TIME_HORIZON, PH, RESOLUTION, BATCH)\n",
        "\n",
        "print(train_data.shape, test_data.shape)\n",
        "\n",
        "model = lstm(PH)\n",
        "\n",
        "print(model.summary())\n",
        "\n",
        "lstm = model.fit(x=train_data,\n",
        "                 y=train_label,\n",
        "                 batch_size=BATCH_SIZE,\n",
        "                 epochs=EPOCHS,\n",
        "                 validation_data=(test_data, test_label))\n",
        "\n",
        "model.save('saved_models/lstm_TH=2hrs_PH=20mins.h5')\n",
        "json.dump(lstm.history, open('saved_models/lstm_TH=2hrs_PH=20mins_history', 'w'))\n",
        "\n",
        "!ls saved_models"
      ],
      "execution_count": null,
      "outputs": [
        {
          "output_type": "stream",
          "text": [
            "(982800, 12, 3) (421200, 12, 3)\n",
            "WARNING:tensorflow:Layer lstm_3 will not use cuDNN kernel since it doesn't meet the cuDNN kernel criteria. It will use generic GPU kernel as fallback when running on GPU\n",
            "Model: \"sequential\"\n",
            "_________________________________________________________________\n",
            "Layer (type)                 Output Shape              Param #   \n",
            "=================================================================\n",
            "lstm (LSTM)                  (None, 12, 200)           163200    \n",
            "_________________________________________________________________\n",
            "lstm_1 (LSTM)                (None, 12, 200)           320800    \n",
            "_________________________________________________________________\n",
            "lstm_2 (LSTM)                (None, 12, 200)           320800    \n",
            "_________________________________________________________________\n",
            "lstm_3 (LSTM)                (None, 2)                 1624      \n",
            "=================================================================\n",
            "Total params: 806,424\n",
            "Trainable params: 806,424\n",
            "Non-trainable params: 0\n",
            "_________________________________________________________________\n",
            "None\n",
            "Epoch 1/50\n",
            "7679/7679 [==============================] - 204s 27ms/step - loss: 3.6080 - root_mean_squared_error: 1.8995 - val_loss: 0.1058 - val_root_mean_squared_error: 0.3253\n",
            "Epoch 2/50\n",
            "7679/7679 [==============================] - 203s 26ms/step - loss: 0.1054 - root_mean_squared_error: 0.3247 - val_loss: 0.1026 - val_root_mean_squared_error: 0.3204\n",
            "Epoch 3/50\n",
            "7679/7679 [==============================] - 202s 26ms/step - loss: 0.1009 - root_mean_squared_error: 0.3176 - val_loss: 0.1038 - val_root_mean_squared_error: 0.3222\n",
            "Epoch 4/50\n",
            "7679/7679 [==============================] - 200s 26ms/step - loss: 0.0984 - root_mean_squared_error: 0.3136 - val_loss: 0.0981 - val_root_mean_squared_error: 0.3131\n",
            "Epoch 5/50\n",
            "7679/7679 [==============================] - 199s 26ms/step - loss: 0.0963 - root_mean_squared_error: 0.3103 - val_loss: 0.0952 - val_root_mean_squared_error: 0.3086\n",
            "Epoch 6/50\n",
            "7679/7679 [==============================] - 201s 26ms/step - loss: 0.0948 - root_mean_squared_error: 0.3079 - val_loss: 0.0980 - val_root_mean_squared_error: 0.3131\n",
            "Epoch 7/50\n",
            "7679/7679 [==============================] - 202s 26ms/step - loss: 0.0934 - root_mean_squared_error: 0.3057 - val_loss: 0.0938 - val_root_mean_squared_error: 0.3062\n",
            "Epoch 8/50\n",
            "7679/7679 [==============================] - 202s 26ms/step - loss: 0.0923 - root_mean_squared_error: 0.3038 - val_loss: 0.0964 - val_root_mean_squared_error: 0.3105\n",
            "Epoch 9/50\n",
            "7679/7679 [==============================] - 203s 26ms/step - loss: 0.0915 - root_mean_squared_error: 0.3025 - val_loss: 0.0969 - val_root_mean_squared_error: 0.3113\n",
            "Epoch 10/50\n",
            "7679/7679 [==============================] - 202s 26ms/step - loss: 0.0906 - root_mean_squared_error: 0.3010 - val_loss: 0.0984 - val_root_mean_squared_error: 0.3137\n",
            "Epoch 11/50\n",
            "7679/7679 [==============================] - 201s 26ms/step - loss: 0.0898 - root_mean_squared_error: 0.2996 - val_loss: 0.0944 - val_root_mean_squared_error: 0.3073\n",
            "Epoch 12/50\n",
            "7679/7679 [==============================] - 203s 26ms/step - loss: 0.0891 - root_mean_squared_error: 0.2985 - val_loss: 0.0963 - val_root_mean_squared_error: 0.3103\n",
            "Epoch 13/50\n",
            "7679/7679 [==============================] - 207s 27ms/step - loss: 0.0886 - root_mean_squared_error: 0.2976 - val_loss: 0.0926 - val_root_mean_squared_error: 0.3042\n",
            "Epoch 14/50\n",
            "7679/7679 [==============================] - 206s 27ms/step - loss: 0.0879 - root_mean_squared_error: 0.2965 - val_loss: 0.0922 - val_root_mean_squared_error: 0.3037\n",
            "Epoch 15/50\n",
            "7679/7679 [==============================] - 206s 27ms/step - loss: 0.0873 - root_mean_squared_error: 0.2955 - val_loss: 0.1049 - val_root_mean_squared_error: 0.3239\n",
            "Epoch 16/50\n",
            "7679/7679 [==============================] - 204s 27ms/step - loss: 0.0867 - root_mean_squared_error: 0.2944 - val_loss: 0.0989 - val_root_mean_squared_error: 0.3145\n",
            "Epoch 17/50\n",
            "7679/7679 [==============================] - 205s 27ms/step - loss: 0.0862 - root_mean_squared_error: 0.2935 - val_loss: 0.0972 - val_root_mean_squared_error: 0.3117\n",
            "Epoch 18/50\n",
            "7679/7679 [==============================] - 206s 27ms/step - loss: 0.0856 - root_mean_squared_error: 0.2926 - val_loss: 0.0923 - val_root_mean_squared_error: 0.3038\n",
            "Epoch 19/50\n",
            "7679/7679 [==============================] - 206s 27ms/step - loss: 0.0851 - root_mean_squared_error: 0.2918 - val_loss: 0.0937 - val_root_mean_squared_error: 0.3061\n",
            "Epoch 20/50\n",
            "7679/7679 [==============================] - 205s 27ms/step - loss: 0.0848 - root_mean_squared_error: 0.2912 - val_loss: 0.0928 - val_root_mean_squared_error: 0.3046\n",
            "Epoch 21/50\n",
            "7679/7679 [==============================] - 205s 27ms/step - loss: 0.0842 - root_mean_squared_error: 0.2902 - val_loss: 0.0922 - val_root_mean_squared_error: 0.3036\n",
            "Epoch 22/50\n",
            "7679/7679 [==============================] - 206s 27ms/step - loss: 0.0836 - root_mean_squared_error: 0.2892 - val_loss: 0.0926 - val_root_mean_squared_error: 0.3042\n",
            "Epoch 23/50\n",
            "7679/7679 [==============================] - 204s 27ms/step - loss: 0.0833 - root_mean_squared_error: 0.2887 - val_loss: 0.0921 - val_root_mean_squared_error: 0.3035\n",
            "Epoch 24/50\n",
            "7679/7679 [==============================] - 206s 27ms/step - loss: 0.0828 - root_mean_squared_error: 0.2878 - val_loss: 0.0950 - val_root_mean_squared_error: 0.3082\n",
            "Epoch 25/50\n",
            "7679/7679 [==============================] - 205s 27ms/step - loss: 0.0825 - root_mean_squared_error: 0.2872 - val_loss: 0.0948 - val_root_mean_squared_error: 0.3079\n",
            "Epoch 26/50\n",
            "7679/7679 [==============================] - 204s 27ms/step - loss: 0.0820 - root_mean_squared_error: 0.2863 - val_loss: 0.0931 - val_root_mean_squared_error: 0.3051\n",
            "Epoch 27/50\n",
            "7679/7679 [==============================] - 207s 27ms/step - loss: 0.0816 - root_mean_squared_error: 0.2856 - val_loss: 0.0941 - val_root_mean_squared_error: 0.3067\n",
            "Epoch 28/50\n",
            "7679/7679 [==============================] - 207s 27ms/step - loss: 0.0811 - root_mean_squared_error: 0.2848 - val_loss: 0.0942 - val_root_mean_squared_error: 0.3069\n",
            "Epoch 29/50\n",
            "7679/7679 [==============================] - 206s 27ms/step - loss: 0.0808 - root_mean_squared_error: 0.2842 - val_loss: 0.0935 - val_root_mean_squared_error: 0.3058\n",
            "Epoch 30/50\n",
            "7679/7679 [==============================] - 205s 27ms/step - loss: 0.0804 - root_mean_squared_error: 0.2835 - val_loss: 0.0936 - val_root_mean_squared_error: 0.3059\n",
            "Epoch 31/50\n",
            "7679/7679 [==============================] - 206s 27ms/step - loss: 0.0800 - root_mean_squared_error: 0.2829 - val_loss: 0.0937 - val_root_mean_squared_error: 0.3061\n",
            "Epoch 32/50\n",
            "7679/7679 [==============================] - 204s 27ms/step - loss: 0.0797 - root_mean_squared_error: 0.2824 - val_loss: 0.0948 - val_root_mean_squared_error: 0.3079\n",
            "Epoch 33/50\n",
            "7679/7679 [==============================] - 204s 27ms/step - loss: 0.0793 - root_mean_squared_error: 0.2817 - val_loss: 0.0951 - val_root_mean_squared_error: 0.3084\n",
            "Epoch 34/50\n",
            "7679/7679 [==============================] - 204s 27ms/step - loss: 0.0790 - root_mean_squared_error: 0.2811 - val_loss: 0.0986 - val_root_mean_squared_error: 0.3140\n",
            "Epoch 35/50\n",
            "7679/7679 [==============================] - 203s 26ms/step - loss: 0.0787 - root_mean_squared_error: 0.2806 - val_loss: 0.0957 - val_root_mean_squared_error: 0.3093\n",
            "Epoch 36/50\n",
            "7679/7679 [==============================] - 204s 27ms/step - loss: 0.0783 - root_mean_squared_error: 0.2799 - val_loss: 0.0950 - val_root_mean_squared_error: 0.3082\n",
            "Epoch 37/50\n",
            "7679/7679 [==============================] - 202s 26ms/step - loss: 0.0781 - root_mean_squared_error: 0.2795 - val_loss: 0.0951 - val_root_mean_squared_error: 0.3083\n",
            "Epoch 38/50\n",
            "7679/7679 [==============================] - 204s 27ms/step - loss: 0.0777 - root_mean_squared_error: 0.2788 - val_loss: 0.0969 - val_root_mean_squared_error: 0.3113\n",
            "Epoch 39/50\n",
            "7679/7679 [==============================] - 207s 27ms/step - loss: 0.0774 - root_mean_squared_error: 0.2782 - val_loss: 0.0989 - val_root_mean_squared_error: 0.3145\n",
            "Epoch 40/50\n",
            "7679/7679 [==============================] - 208s 27ms/step - loss: 0.0772 - root_mean_squared_error: 0.2778 - val_loss: 0.0960 - val_root_mean_squared_error: 0.3099\n",
            "Epoch 41/50\n",
            "7679/7679 [==============================] - 211s 28ms/step - loss: 0.0769 - root_mean_squared_error: 0.2772 - val_loss: 0.0962 - val_root_mean_squared_error: 0.3102\n",
            "Epoch 42/50\n",
            "7679/7679 [==============================] - 213s 28ms/step - loss: 0.0766 - root_mean_squared_error: 0.2768 - val_loss: 0.0970 - val_root_mean_squared_error: 0.3115\n",
            "Epoch 43/50\n",
            "7679/7679 [==============================] - 211s 28ms/step - loss: 0.0763 - root_mean_squared_error: 0.2763 - val_loss: 0.0963 - val_root_mean_squared_error: 0.3103\n",
            "Epoch 44/50\n",
            "7679/7679 [==============================] - 212s 28ms/step - loss: 0.0760 - root_mean_squared_error: 0.2757 - val_loss: 0.0959 - val_root_mean_squared_error: 0.3096\n",
            "Epoch 45/50\n",
            "7679/7679 [==============================] - 205s 27ms/step - loss: 0.0758 - root_mean_squared_error: 0.2753 - val_loss: 0.0965 - val_root_mean_squared_error: 0.3106\n",
            "Epoch 46/50\n",
            "7679/7679 [==============================] - 205s 27ms/step - loss: 0.0756 - root_mean_squared_error: 0.2749 - val_loss: 0.0976 - val_root_mean_squared_error: 0.3124\n",
            "Epoch 47/50\n",
            "7679/7679 [==============================] - 206s 27ms/step - loss: 0.0753 - root_mean_squared_error: 0.2744 - val_loss: 0.0973 - val_root_mean_squared_error: 0.3120\n",
            "Epoch 48/50\n",
            "7679/7679 [==============================] - 203s 26ms/step - loss: 0.0751 - root_mean_squared_error: 0.2740 - val_loss: 0.0968 - val_root_mean_squared_error: 0.3110\n",
            "Epoch 49/50\n",
            "7679/7679 [==============================] - 205s 27ms/step - loss: 0.0748 - root_mean_squared_error: 0.2735 - val_loss: 0.0995 - val_root_mean_squared_error: 0.3154\n",
            "Epoch 50/50\n",
            "7679/7679 [==============================] - 206s 27ms/step - loss: 0.0747 - root_mean_squared_error: 0.2732 - val_loss: 0.0982 - val_root_mean_squared_error: 0.3133\n",
            "'cnn_TH=2hr_PH=20mins.h5'\t  'dense_net_TH=2hr_PH=20mins_history'\n",
            "'cnn_TH=2hr_PH=20mins_history'\t  'dense_TH=2hr_PH=20mins.h5'\n",
            "'cnn_TH=2hrs_PH=30mins.h5'\t  'dense_TH=2hr_PH=30mins.h5'\n",
            "'cnn_TH=2hrs_PH=30mins_history'   'dense_TH=2hr_PH=30mins_history'\n",
            "'crnn_TH=2hrs_PH=20mins.h5'\t  'lstm_TH=2hrs_PH=20mins.h5'\n",
            "'crnn_TH=2hrs_PH=20mins_history'  'lstm_TH=2hrs_PH=20mins_history'\n"
          ],
          "name": "stdout"
        }
      ]
    },
    {
      "cell_type": "markdown",
      "metadata": {
        "id": "CPzhNPyBC23S",
        "colab_type": "text"
      },
      "source": [
        "## TH = 2hrs, PH = 30 mins"
      ]
    },
    {
      "cell_type": "code",
      "metadata": {
        "id": "J8wR2kVqC1yE",
        "colab_type": "code",
        "colab": {
          "base_uri": "https://localhost:8080/",
          "height": 1000
        },
        "outputId": "2f19fc61-b171-44d5-c440-65a87120777e"
      },
      "source": [
        "PH = 3\n",
        "TIME_HORIZON = 12\n",
        "RESOLUTION = 10\n",
        "BATCH_SIZE = 128\n",
        "EPOCHS = 50\n",
        "BATCH = True\n",
        "\n",
        "train_data, train_label, test_data, test_label = load_data(TIME_HORIZON, PH, RESOLUTION, BATCH)\n",
        "\n",
        "print(train_data.shape, test_data.shape)\n",
        "\n",
        "model = lstm(PH)\n",
        "\n",
        "print(model.summary())\n",
        "\n",
        "lstm = model.fit(x=train_data,\n",
        "                 y=train_label,\n",
        "                 batch_size=BATCH_SIZE,\n",
        "                 epochs=EPOCHS,\n",
        "                 validation_data=(test_data, test_label))\n",
        "\n",
        "model.save('saved_models/lstm_TH=2hrs_PH=30mins.h5')\n",
        "json.dump(lstm.history, open('saved_models/lstm_TH=2hrs_PH=30mins_history', 'w'))\n",
        "\n",
        "!ls saved_models"
      ],
      "execution_count": null,
      "outputs": [
        {
          "output_type": "stream",
          "text": [
            "(975240, 12, 3) (417960, 12, 3)\n",
            "WARNING:tensorflow:Layer lstm_3 will not use cuDNN kernel since it doesn't meet the cuDNN kernel criteria. It will use generic GPU kernel as fallback when running on GPU\n",
            "Model: \"sequential\"\n",
            "_________________________________________________________________\n",
            "Layer (type)                 Output Shape              Param #   \n",
            "=================================================================\n",
            "lstm (LSTM)                  (None, 12, 200)           163200    \n",
            "_________________________________________________________________\n",
            "lstm_1 (LSTM)                (None, 12, 200)           320800    \n",
            "_________________________________________________________________\n",
            "lstm_2 (LSTM)                (None, 12, 200)           320800    \n",
            "_________________________________________________________________\n",
            "lstm_3 (LSTM)                (None, 3)                 2448      \n",
            "=================================================================\n",
            "Total params: 807,248\n",
            "Trainable params: 807,248\n",
            "Non-trainable params: 0\n",
            "_________________________________________________________________\n",
            "None\n",
            "Epoch 1/50\n",
            "7620/7620 [==============================] - 204s 27ms/step - loss: 0.2298 - root_mean_squared_error: 0.4794 - val_loss: 0.1209 - val_root_mean_squared_error: 0.3476\n",
            "Epoch 2/50\n",
            "7620/7620 [==============================] - 206s 27ms/step - loss: 0.1084 - root_mean_squared_error: 0.3293 - val_loss: 0.1065 - val_root_mean_squared_error: 0.3264\n",
            "Epoch 3/50\n",
            "7620/7620 [==============================] - 205s 27ms/step - loss: 0.1033 - root_mean_squared_error: 0.3214 - val_loss: 0.1054 - val_root_mean_squared_error: 0.3246\n",
            "Epoch 4/50\n",
            "7620/7620 [==============================] - 206s 27ms/step - loss: 0.1001 - root_mean_squared_error: 0.3163 - val_loss: 0.1146 - val_root_mean_squared_error: 0.3385\n",
            "Epoch 5/50\n",
            "7620/7620 [==============================] - 206s 27ms/step - loss: 0.0982 - root_mean_squared_error: 0.3133 - val_loss: 0.0986 - val_root_mean_squared_error: 0.3141\n",
            "Epoch 6/50\n",
            "7620/7620 [==============================] - 205s 27ms/step - loss: 0.0965 - root_mean_squared_error: 0.3107 - val_loss: 0.1208 - val_root_mean_squared_error: 0.3476\n",
            "Epoch 7/50\n",
            "7620/7620 [==============================] - 206s 27ms/step - loss: 0.0949 - root_mean_squared_error: 0.3081 - val_loss: 0.0971 - val_root_mean_squared_error: 0.3116\n",
            "Epoch 8/50\n",
            "7620/7620 [==============================] - 205s 27ms/step - loss: 0.0937 - root_mean_squared_error: 0.3061 - val_loss: 0.0999 - val_root_mean_squared_error: 0.3161\n",
            "Epoch 9/50\n",
            "7620/7620 [==============================] - 204s 27ms/step - loss: 0.0927 - root_mean_squared_error: 0.3044 - val_loss: 0.0959 - val_root_mean_squared_error: 0.3096\n",
            "Epoch 10/50\n",
            "7620/7620 [==============================] - 203s 27ms/step - loss: 0.0916 - root_mean_squared_error: 0.3027 - val_loss: 0.0961 - val_root_mean_squared_error: 0.3101\n",
            "Epoch 11/50\n",
            "7620/7620 [==============================] - 204s 27ms/step - loss: 0.0908 - root_mean_squared_error: 0.3013 - val_loss: 0.0960 - val_root_mean_squared_error: 0.3099\n",
            "Epoch 12/50\n",
            "7620/7620 [==============================] - 204s 27ms/step - loss: 0.0899 - root_mean_squared_error: 0.2998 - val_loss: 0.0963 - val_root_mean_squared_error: 0.3102\n",
            "Epoch 13/50\n",
            "7620/7620 [==============================] - 203s 27ms/step - loss: 0.0892 - root_mean_squared_error: 0.2986 - val_loss: 0.0957 - val_root_mean_squared_error: 0.3093\n",
            "Epoch 14/50\n",
            "7620/7620 [==============================] - 205s 27ms/step - loss: 0.0884 - root_mean_squared_error: 0.2973 - val_loss: 0.0960 - val_root_mean_squared_error: 0.3099\n",
            "Epoch 15/50\n",
            "7620/7620 [==============================] - 207s 27ms/step - loss: 0.0877 - root_mean_squared_error: 0.2962 - val_loss: 0.0987 - val_root_mean_squared_error: 0.3142\n",
            "Epoch 16/50\n",
            "7620/7620 [==============================] - 204s 27ms/step - loss: 0.0870 - root_mean_squared_error: 0.2950 - val_loss: 0.0976 - val_root_mean_squared_error: 0.3124\n",
            "Epoch 17/50\n",
            "7620/7620 [==============================] - 204s 27ms/step - loss: 0.0862 - root_mean_squared_error: 0.2936 - val_loss: 0.0972 - val_root_mean_squared_error: 0.3117\n",
            "Epoch 18/50\n",
            "7620/7620 [==============================] - 205s 27ms/step - loss: 0.0856 - root_mean_squared_error: 0.2926 - val_loss: 0.1023 - val_root_mean_squared_error: 0.3199\n",
            "Epoch 19/50\n",
            "7620/7620 [==============================] - 207s 27ms/step - loss: 0.0850 - root_mean_squared_error: 0.2915 - val_loss: 0.0999 - val_root_mean_squared_error: 0.3160\n",
            "Epoch 20/50\n",
            "7620/7620 [==============================] - 208s 27ms/step - loss: 0.0843 - root_mean_squared_error: 0.2903 - val_loss: 0.0983 - val_root_mean_squared_error: 0.3135\n",
            "Epoch 21/50\n",
            "7620/7620 [==============================] - 206s 27ms/step - loss: 0.0837 - root_mean_squared_error: 0.2892 - val_loss: 0.1040 - val_root_mean_squared_error: 0.3225\n",
            "Epoch 22/50\n",
            "7620/7620 [==============================] - 205s 27ms/step - loss: 0.0831 - root_mean_squared_error: 0.2883 - val_loss: 0.1001 - val_root_mean_squared_error: 0.3164\n",
            "Epoch 23/50\n",
            "7620/7620 [==============================] - 208s 27ms/step - loss: 0.0825 - root_mean_squared_error: 0.2872 - val_loss: 0.0994 - val_root_mean_squared_error: 0.3153\n",
            "Epoch 24/50\n",
            "7620/7620 [==============================] - 207s 27ms/step - loss: 0.0819 - root_mean_squared_error: 0.2863 - val_loss: 0.1021 - val_root_mean_squared_error: 0.3195\n",
            "Epoch 25/50\n",
            "7620/7620 [==============================] - 205s 27ms/step - loss: 0.0814 - root_mean_squared_error: 0.2853 - val_loss: 0.1001 - val_root_mean_squared_error: 0.3165\n",
            "Epoch 26/50\n",
            "7620/7620 [==============================] - 208s 27ms/step - loss: 0.0809 - root_mean_squared_error: 0.2844 - val_loss: 0.1006 - val_root_mean_squared_error: 0.3172\n",
            "Epoch 27/50\n",
            "7620/7620 [==============================] - 209s 27ms/step - loss: 0.0804 - root_mean_squared_error: 0.2836 - val_loss: 0.1015 - val_root_mean_squared_error: 0.3186\n",
            "Epoch 28/50\n",
            "7620/7620 [==============================] - 208s 27ms/step - loss: 0.0798 - root_mean_squared_error: 0.2824 - val_loss: 0.1021 - val_root_mean_squared_error: 0.3196\n",
            "Epoch 29/50\n",
            "7620/7620 [==============================] - 210s 28ms/step - loss: 0.0793 - root_mean_squared_error: 0.2816 - val_loss: 0.1021 - val_root_mean_squared_error: 0.3195\n",
            "Epoch 30/50\n",
            "7620/7620 [==============================] - 209s 27ms/step - loss: 0.0788 - root_mean_squared_error: 0.2807 - val_loss: 0.1045 - val_root_mean_squared_error: 0.3232\n",
            "Epoch 31/50\n",
            "7620/7620 [==============================] - 207s 27ms/step - loss: 0.0784 - root_mean_squared_error: 0.2799 - val_loss: 0.1026 - val_root_mean_squared_error: 0.3204\n",
            "Epoch 32/50\n",
            "7620/7620 [==============================] - 206s 27ms/step - loss: 0.0778 - root_mean_squared_error: 0.2790 - val_loss: 0.1053 - val_root_mean_squared_error: 0.3244\n",
            "Epoch 33/50\n",
            "7620/7620 [==============================] - 210s 28ms/step - loss: 0.0774 - root_mean_squared_error: 0.2782 - val_loss: 0.1162 - val_root_mean_squared_error: 0.3409\n",
            "Epoch 34/50\n",
            "7620/7620 [==============================] - 209s 27ms/step - loss: 0.0770 - root_mean_squared_error: 0.2774 - val_loss: 0.1030 - val_root_mean_squared_error: 0.3209\n",
            "Epoch 35/50\n",
            "7620/7620 [==============================] - 209s 27ms/step - loss: 0.0766 - root_mean_squared_error: 0.2768 - val_loss: 0.1035 - val_root_mean_squared_error: 0.3217\n",
            "Epoch 36/50\n",
            "7620/7620 [==============================] - 212s 28ms/step - loss: 0.0761 - root_mean_squared_error: 0.2759 - val_loss: 0.1102 - val_root_mean_squared_error: 0.3319\n",
            "Epoch 37/50\n",
            "7620/7620 [==============================] - 212s 28ms/step - loss: 0.0756 - root_mean_squared_error: 0.2750 - val_loss: 0.1066 - val_root_mean_squared_error: 0.3266\n",
            "Epoch 38/50\n",
            "7620/7620 [==============================] - 210s 27ms/step - loss: 0.0752 - root_mean_squared_error: 0.2743 - val_loss: 0.1047 - val_root_mean_squared_error: 0.3235\n",
            "Epoch 39/50\n",
            "7620/7620 [==============================] - 206s 27ms/step - loss: 0.0748 - root_mean_squared_error: 0.2736 - val_loss: 0.1064 - val_root_mean_squared_error: 0.3262\n",
            "Epoch 40/50\n",
            "7620/7620 [==============================] - 205s 27ms/step - loss: 0.0745 - root_mean_squared_error: 0.2729 - val_loss: 0.1067 - val_root_mean_squared_error: 0.3266\n",
            "Epoch 41/50\n",
            "7620/7620 [==============================] - 206s 27ms/step - loss: 0.0744 - root_mean_squared_error: 0.2728 - val_loss: 0.1069 - val_root_mean_squared_error: 0.3270\n",
            "Epoch 42/50\n",
            "7620/7620 [==============================] - 207s 27ms/step - loss: 0.0738 - root_mean_squared_error: 0.2717 - val_loss: 0.1092 - val_root_mean_squared_error: 0.3304\n",
            "Epoch 43/50\n",
            "7620/7620 [==============================] - 206s 27ms/step - loss: 0.0734 - root_mean_squared_error: 0.2709 - val_loss: 0.1083 - val_root_mean_squared_error: 0.3291\n",
            "Epoch 44/50\n",
            "7620/7620 [==============================] - 205s 27ms/step - loss: 0.0731 - root_mean_squared_error: 0.2703 - val_loss: 0.1072 - val_root_mean_squared_error: 0.3274\n",
            "Epoch 45/50\n",
            "7620/7620 [==============================] - 207s 27ms/step - loss: 0.0727 - root_mean_squared_error: 0.2696 - val_loss: 0.1084 - val_root_mean_squared_error: 0.3293\n",
            "Epoch 46/50\n",
            "7620/7620 [==============================] - 207s 27ms/step - loss: 0.0723 - root_mean_squared_error: 0.2689 - val_loss: 0.1079 - val_root_mean_squared_error: 0.3284\n",
            "Epoch 47/50\n",
            "7620/7620 [==============================] - 207s 27ms/step - loss: 0.0720 - root_mean_squared_error: 0.2684 - val_loss: 0.1067 - val_root_mean_squared_error: 0.3267\n",
            "Epoch 48/50\n",
            "7620/7620 [==============================] - 206s 27ms/step - loss: 0.0717 - root_mean_squared_error: 0.2677 - val_loss: 0.1091 - val_root_mean_squared_error: 0.3304\n",
            "Epoch 49/50\n",
            "7620/7620 [==============================] - 205s 27ms/step - loss: 0.0733 - root_mean_squared_error: 0.2708 - val_loss: 0.1097 - val_root_mean_squared_error: 0.3312\n",
            "Epoch 50/50\n",
            "7620/7620 [==============================] - 206s 27ms/step - loss: 0.0713 - root_mean_squared_error: 0.2670 - val_loss: 0.1107 - val_root_mean_squared_error: 0.3328\n",
            "'cnn_TH=2hr_PH=20mins.h5'\t      'dense_TH=2hr_PH=20mins.h5'\n",
            "'cnn_TH=2hr_PH=20mins_history'\t      'dense_TH=2hr_PH=30mins.h5'\n",
            "'cnn_TH=2hrs_PH=30mins.h5'\t      'dense_TH=2hr_PH=30mins_history'\n",
            "'cnn_TH=2hrs_PH=30mins_history'       'lstm_TH=2hrs_PH=20mins.h5'\n",
            "'crnn_TH=2hrs_PH=20mins.h5'\t      'lstm_TH=2hrs_PH=20mins_history'\n",
            "'crnn_TH=2hrs_PH=20mins_history'      'lstm_TH=2hrs_PH=30mins.h5'\n",
            "'dense_net_TH=2hr_PH=20mins_history'  'lstm_TH=2hrs_PH=30mins_history'\n"
          ],
          "name": "stdout"
        }
      ]
    },
    {
      "cell_type": "markdown",
      "metadata": {
        "id": "_5V-CdoJX4h-",
        "colab_type": "text"
      },
      "source": [
        "# CRNN"
      ]
    },
    {
      "cell_type": "code",
      "metadata": {
        "id": "hoJvjUvNDpFW",
        "colab_type": "code",
        "colab": {}
      },
      "source": [
        "def crnn(ph):\n",
        "\n",
        "    model = tf.keras.Sequential()\n",
        "    model.add(tf.keras.layers.Conv1D(128, 4, activation='relu', padding='same', input_shape=(train_data.shape[1], train_data.shape[2])))\n",
        "    model.add(tf.keras.layers.MaxPool1D(pool_size=2, strides=1, padding='same'))\n",
        "    model.add(tf.keras.layers.Conv1D(256, 4, activation='relu', padding='same'))\n",
        "    model.add(tf.keras.layers.MaxPool1D(pool_size=2, strides=1, padding='same'))\n",
        "    model.add(tf.keras.layers.Conv1D(512, 4, activation='relu', padding='same'))\n",
        "    model.add(tf.keras.layers.MaxPool1D(pool_size=2, strides=1, padding='same'))\n",
        "    model.add(tf.keras.layers.LSTM(200, return_sequences=True))\n",
        "    model.add(tf.keras.layers.LSTM(200, return_sequences=True))\n",
        "    model.add(tf.keras.layers.LSTM(200, return_sequences=True))\n",
        "#    model.add(tf.keras.layers.Dense(256, activation='relu'))\n",
        "#    model.add(tf.keras.layers.Dense(32, activation='relu'))\n",
        "    model.add(tf.keras.layers.LSTM(ph, activation=None))\n",
        "\n",
        "    model.compile(optimizer='adam', loss='mean_squared_error', metrics=[tf.keras.metrics.RootMeanSquaredError()])\n",
        "\n",
        "    return model"
      ],
      "execution_count": null,
      "outputs": []
    },
    {
      "cell_type": "markdown",
      "metadata": {
        "id": "LPrA3ztvEzjL",
        "colab_type": "text"
      },
      "source": [
        "## TH = 2hrs, PH = 20 mins"
      ]
    },
    {
      "cell_type": "code",
      "metadata": {
        "id": "CGuAlnqhX4h_",
        "colab_type": "code",
        "colab": {
          "base_uri": "https://localhost:8080/",
          "height": 1000
        },
        "outputId": "9d11e7a5-ec1d-4bb9-dd2c-fd161372d8eb"
      },
      "source": [
        "PH = 2\n",
        "TIME_HORIZON = 12\n",
        "RESOLUTION = 10\n",
        "BATCH_SIZE = 128\n",
        "EPOCHS = 50\n",
        "BATCH = True # indicates whether to convert data into batches\n",
        "\n",
        "train_data, train_label, test_data, test_label = load_data(TIME_HORIZON, PH, RESOLUTION, BATCH)\n",
        "\n",
        "model = crnn(PH)\n",
        "\n",
        "print(model.summary())\n",
        "\n",
        "crnn = model.fit(x=train_data,\n",
        "                 y=train_label,\n",
        "                 batch_size=BATCH_SIZE,\n",
        "                 epochs=EPOCHS,\n",
        "                 validation_data=(test_data, test_label))\n",
        "\n",
        "model.save('saved_models/crnn_TH=2hrs_PH=20mins.h5')\n",
        "json.dump(crnn.history, open('saved_models/crnn_TH=2hrs_PH=20mins_history', 'w'))\n",
        "\n",
        "!ls saved_models"
      ],
      "execution_count": null,
      "outputs": [
        {
          "output_type": "stream",
          "text": [
            "WARNING:tensorflow:Layer lstm_7 will not use cuDNN kernel since it doesn't meet the cuDNN kernel criteria. It will use generic GPU kernel as fallback when running on GPU\n",
            "Model: \"sequential_1\"\n",
            "_________________________________________________________________\n",
            "Layer (type)                 Output Shape              Param #   \n",
            "=================================================================\n",
            "conv1d (Conv1D)              (None, 12, 128)           1664      \n",
            "_________________________________________________________________\n",
            "max_pooling1d (MaxPooling1D) (None, 12, 128)           0         \n",
            "_________________________________________________________________\n",
            "conv1d_1 (Conv1D)            (None, 12, 256)           131328    \n",
            "_________________________________________________________________\n",
            "max_pooling1d_1 (MaxPooling1 (None, 12, 256)           0         \n",
            "_________________________________________________________________\n",
            "conv1d_2 (Conv1D)            (None, 12, 512)           524800    \n",
            "_________________________________________________________________\n",
            "max_pooling1d_2 (MaxPooling1 (None, 12, 512)           0         \n",
            "_________________________________________________________________\n",
            "lstm_4 (LSTM)                (None, 12, 200)           570400    \n",
            "_________________________________________________________________\n",
            "lstm_5 (LSTM)                (None, 12, 200)           320800    \n",
            "_________________________________________________________________\n",
            "lstm_6 (LSTM)                (None, 12, 200)           320800    \n",
            "_________________________________________________________________\n",
            "lstm_7 (LSTM)                (None, 2)                 1624      \n",
            "=================================================================\n",
            "Total params: 1,871,416\n",
            "Trainable params: 1,871,416\n",
            "Non-trainable params: 0\n",
            "_________________________________________________________________\n",
            "None\n",
            "Epoch 1/50\n",
            "7679/7679 [==============================] - 241s 31ms/step - loss: 0.2285 - root_mean_squared_error: 0.4780 - val_loss: 0.1178 - val_root_mean_squared_error: 0.3432\n",
            "Epoch 2/50\n",
            "7679/7679 [==============================] - 241s 31ms/step - loss: 0.1118 - root_mean_squared_error: 0.3344 - val_loss: 0.1078 - val_root_mean_squared_error: 0.3283\n",
            "Epoch 3/50\n",
            "7679/7679 [==============================] - 241s 31ms/step - loss: 0.1050 - root_mean_squared_error: 0.3241 - val_loss: 0.1642 - val_root_mean_squared_error: 0.4052\n",
            "Epoch 4/50\n",
            "7679/7679 [==============================] - 239s 31ms/step - loss: 0.1017 - root_mean_squared_error: 0.3189 - val_loss: 0.1003 - val_root_mean_squared_error: 0.3166\n",
            "Epoch 5/50\n",
            "7679/7679 [==============================] - 239s 31ms/step - loss: 0.0996 - root_mean_squared_error: 0.3156 - val_loss: 0.0954 - val_root_mean_squared_error: 0.3088\n",
            "Epoch 6/50\n",
            "7679/7679 [==============================] - 239s 31ms/step - loss: 0.0979 - root_mean_squared_error: 0.3129 - val_loss: 0.0962 - val_root_mean_squared_error: 0.3101\n",
            "Epoch 7/50\n",
            "7679/7679 [==============================] - 241s 31ms/step - loss: 0.0968 - root_mean_squared_error: 0.3111 - val_loss: 0.0961 - val_root_mean_squared_error: 0.3100\n",
            "Epoch 8/50\n",
            "7679/7679 [==============================] - 239s 31ms/step - loss: 0.0960 - root_mean_squared_error: 0.3098 - val_loss: 0.1047 - val_root_mean_squared_error: 0.3237\n",
            "Epoch 9/50\n",
            "7679/7679 [==============================] - 242s 32ms/step - loss: 0.0951 - root_mean_squared_error: 0.3083 - val_loss: 0.0983 - val_root_mean_squared_error: 0.3135\n",
            "Epoch 10/50\n",
            "7679/7679 [==============================] - 242s 32ms/step - loss: 0.0944 - root_mean_squared_error: 0.3073 - val_loss: 0.1146 - val_root_mean_squared_error: 0.3385\n",
            "Epoch 11/50\n",
            "7679/7679 [==============================] - 239s 31ms/step - loss: 0.0939 - root_mean_squared_error: 0.3065 - val_loss: 0.0961 - val_root_mean_squared_error: 0.3099\n",
            "Epoch 12/50\n",
            "7679/7679 [==============================] - 237s 31ms/step - loss: 0.0933 - root_mean_squared_error: 0.3055 - val_loss: 0.0941 - val_root_mean_squared_error: 0.3068\n",
            "Epoch 13/50\n",
            "7679/7679 [==============================] - 238s 31ms/step - loss: 0.0929 - root_mean_squared_error: 0.3047 - val_loss: 0.0951 - val_root_mean_squared_error: 0.3083\n",
            "Epoch 14/50\n",
            "7679/7679 [==============================] - 239s 31ms/step - loss: 0.0924 - root_mean_squared_error: 0.3040 - val_loss: 0.0950 - val_root_mean_squared_error: 0.3083\n",
            "Epoch 15/50\n",
            "7679/7679 [==============================] - 242s 32ms/step - loss: 0.0922 - root_mean_squared_error: 0.3037 - val_loss: 0.0929 - val_root_mean_squared_error: 0.3048\n",
            "Epoch 16/50\n",
            "7679/7679 [==============================] - 241s 31ms/step - loss: 0.0918 - root_mean_squared_error: 0.3031 - val_loss: 0.0976 - val_root_mean_squared_error: 0.3125\n",
            "Epoch 17/50\n",
            "7679/7679 [==============================] - 240s 31ms/step - loss: 0.0915 - root_mean_squared_error: 0.3025 - val_loss: 0.1020 - val_root_mean_squared_error: 0.3194\n",
            "Epoch 18/50\n",
            "7679/7679 [==============================] - 241s 31ms/step - loss: 0.0914 - root_mean_squared_error: 0.3023 - val_loss: 0.1170 - val_root_mean_squared_error: 0.3421\n",
            "Epoch 19/50\n",
            "7679/7679 [==============================] - 243s 32ms/step - loss: 0.0912 - root_mean_squared_error: 0.3021 - val_loss: 0.0991 - val_root_mean_squared_error: 0.3147\n",
            "Epoch 20/50\n",
            "7679/7679 [==============================] - 242s 31ms/step - loss: 0.0908 - root_mean_squared_error: 0.3014 - val_loss: 0.1018 - val_root_mean_squared_error: 0.3191\n",
            "Epoch 21/50\n",
            "7679/7679 [==============================] - 241s 31ms/step - loss: 0.0908 - root_mean_squared_error: 0.3013 - val_loss: 0.0935 - val_root_mean_squared_error: 0.3059\n",
            "Epoch 22/50\n",
            "7679/7679 [==============================] - 243s 32ms/step - loss: 0.0905 - root_mean_squared_error: 0.3009 - val_loss: 0.0946 - val_root_mean_squared_error: 0.3075\n",
            "Epoch 23/50\n",
            "7679/7679 [==============================] - 240s 31ms/step - loss: 0.0904 - root_mean_squared_error: 0.3006 - val_loss: 0.0932 - val_root_mean_squared_error: 0.3052\n",
            "Epoch 24/50\n",
            "7679/7679 [==============================] - 238s 31ms/step - loss: 0.0901 - root_mean_squared_error: 0.3002 - val_loss: 0.0950 - val_root_mean_squared_error: 0.3082\n",
            "Epoch 25/50\n",
            "7679/7679 [==============================] - 238s 31ms/step - loss: 0.0902 - root_mean_squared_error: 0.3003 - val_loss: 0.0929 - val_root_mean_squared_error: 0.3047\n",
            "Epoch 26/50\n",
            "7679/7679 [==============================] - 238s 31ms/step - loss: 0.0900 - root_mean_squared_error: 0.2999 - val_loss: 0.0932 - val_root_mean_squared_error: 0.3053\n",
            "Epoch 27/50\n",
            "7679/7679 [==============================] - 238s 31ms/step - loss: 0.0899 - root_mean_squared_error: 0.2999 - val_loss: 0.0940 - val_root_mean_squared_error: 0.3067\n",
            "Epoch 28/50\n",
            "7679/7679 [==============================] - 241s 31ms/step - loss: 0.0898 - root_mean_squared_error: 0.2996 - val_loss: 0.0961 - val_root_mean_squared_error: 0.3101\n",
            "Epoch 29/50\n",
            "7679/7679 [==============================] - 241s 31ms/step - loss: 0.0897 - root_mean_squared_error: 0.2996 - val_loss: 0.1028 - val_root_mean_squared_error: 0.3206\n",
            "Epoch 30/50\n",
            "7679/7679 [==============================] - 238s 31ms/step - loss: 0.0896 - root_mean_squared_error: 0.2994 - val_loss: 0.0933 - val_root_mean_squared_error: 0.3055\n",
            "Epoch 31/50\n",
            "7679/7679 [==============================] - 237s 31ms/step - loss: 0.0895 - root_mean_squared_error: 0.2992 - val_loss: 0.0965 - val_root_mean_squared_error: 0.3107\n",
            "Epoch 32/50\n",
            "7679/7679 [==============================] - 237s 31ms/step - loss: 0.0894 - root_mean_squared_error: 0.2990 - val_loss: 0.0965 - val_root_mean_squared_error: 0.3106\n",
            "Epoch 33/50\n",
            "7679/7679 [==============================] - 239s 31ms/step - loss: 0.0894 - root_mean_squared_error: 0.2991 - val_loss: 0.0935 - val_root_mean_squared_error: 0.3057\n",
            "Epoch 34/50\n",
            "7679/7679 [==============================] - 236s 31ms/step - loss: 0.0893 - root_mean_squared_error: 0.2988 - val_loss: 0.0938 - val_root_mean_squared_error: 0.3062\n",
            "Epoch 35/50\n",
            "7679/7679 [==============================] - 236s 31ms/step - loss: 0.0892 - root_mean_squared_error: 0.2987 - val_loss: 0.0937 - val_root_mean_squared_error: 0.3061\n",
            "Epoch 36/50\n",
            "7679/7679 [==============================] - 239s 31ms/step - loss: 0.0893 - root_mean_squared_error: 0.2989 - val_loss: 0.0984 - val_root_mean_squared_error: 0.3137\n",
            "Epoch 37/50\n",
            "7679/7679 [==============================] - 237s 31ms/step - loss: 0.0892 - root_mean_squared_error: 0.2986 - val_loss: 0.0933 - val_root_mean_squared_error: 0.3055\n",
            "Epoch 38/50\n",
            "7679/7679 [==============================] - 236s 31ms/step - loss: 0.0893 - root_mean_squared_error: 0.2989 - val_loss: 0.0938 - val_root_mean_squared_error: 0.3063\n",
            "Epoch 39/50\n",
            "7679/7679 [==============================] - 237s 31ms/step - loss: 0.0892 - root_mean_squared_error: 0.2987 - val_loss: 0.0947 - val_root_mean_squared_error: 0.3077\n",
            "Epoch 40/50\n",
            "7679/7679 [==============================] - 236s 31ms/step - loss: 0.0892 - root_mean_squared_error: 0.2986 - val_loss: 0.0928 - val_root_mean_squared_error: 0.3047\n",
            "Epoch 41/50\n",
            "7679/7679 [==============================] - 237s 31ms/step - loss: 0.0891 - root_mean_squared_error: 0.2985 - val_loss: 0.1002 - val_root_mean_squared_error: 0.3166\n",
            "Epoch 42/50\n",
            "7679/7679 [==============================] - 236s 31ms/step - loss: 0.0890 - root_mean_squared_error: 0.2983 - val_loss: 0.0948 - val_root_mean_squared_error: 0.3079\n",
            "Epoch 43/50\n",
            "7679/7679 [==============================] - 236s 31ms/step - loss: 0.0890 - root_mean_squared_error: 0.2984 - val_loss: 0.0927 - val_root_mean_squared_error: 0.3045\n",
            "Epoch 44/50\n",
            "7679/7679 [==============================] - 236s 31ms/step - loss: 0.0891 - root_mean_squared_error: 0.2985 - val_loss: 0.0929 - val_root_mean_squared_error: 0.3048\n",
            "Epoch 45/50\n",
            "7679/7679 [==============================] - 236s 31ms/step - loss: 0.0892 - root_mean_squared_error: 0.2986 - val_loss: 0.0927 - val_root_mean_squared_error: 0.3045\n",
            "Epoch 46/50\n",
            "7679/7679 [==============================] - 236s 31ms/step - loss: 0.0891 - root_mean_squared_error: 0.2984 - val_loss: 0.0919 - val_root_mean_squared_error: 0.3032\n",
            "Epoch 47/50\n",
            "7679/7679 [==============================] - 237s 31ms/step - loss: 0.0891 - root_mean_squared_error: 0.2986 - val_loss: 0.1062 - val_root_mean_squared_error: 0.3258\n",
            "Epoch 48/50\n",
            "7679/7679 [==============================] - 237s 31ms/step - loss: 0.0890 - root_mean_squared_error: 0.2983 - val_loss: 0.0944 - val_root_mean_squared_error: 0.3073\n",
            "Epoch 49/50\n",
            "7679/7679 [==============================] - 237s 31ms/step - loss: 0.0890 - root_mean_squared_error: 0.2983 - val_loss: 0.0935 - val_root_mean_squared_error: 0.3057\n",
            "Epoch 50/50\n",
            "7679/7679 [==============================] - 236s 31ms/step - loss: 0.0894 - root_mean_squared_error: 0.2990 - val_loss: 0.0924 - val_root_mean_squared_error: 0.3040\n",
            "'cnn_TH=2hr_PH=20mins.h5'\t      'dense_TH=2hr_PH=20mins.h5'\n",
            "'cnn_TH=2hr_PH=20mins_history'\t      'dense_TH=2hr_PH=30mins.h5'\n",
            "'cnn_TH=2hrs_PH=30mins.h5'\t      'dense_TH=2hr_PH=30mins_history'\n",
            "'cnn_TH=2hrs_PH=30mins_history'       'lstm_TH=2hrs_PH=20mins.h5'\n",
            "'crnn_TH=2hrs_PH=20mins.h5'\t      'lstm_TH=2hrs_PH=20mins_history'\n",
            "'crnn_TH=2hrs_PH=20mins_history'      'lstm_TH=2hrs_PH=30mins.h5'\n",
            "'dense_net_TH=2hr_PH=20mins_history'  'lstm_TH=2hrs_PH=30mins_history'\n"
          ],
          "name": "stdout"
        }
      ]
    },
    {
      "cell_type": "markdown",
      "metadata": {
        "id": "XvfY3XUHFf0Y",
        "colab_type": "text"
      },
      "source": [
        "## TH = 2hrs, PH = 30 mins"
      ]
    },
    {
      "cell_type": "code",
      "metadata": {
        "id": "BTkG0QtVFjHh",
        "colab_type": "code",
        "colab": {}
      },
      "source": [
        "PH = 3\n",
        "TIME_HORIZON = 12\n",
        "RESOLUTION = 10\n",
        "BATCH_SIZE = 128\n",
        "EPOCHS = 50\n",
        "BATCH = True\n",
        "\n",
        "train_data, train_label, test_data, test_label = load_data(TIME_HORIZON, PH, RESOLUTION, BATCH)\n",
        "\n",
        "model = crnn(PH)\n",
        "\n",
        "print(model.summary())\n",
        "\n",
        "crnn = model.fit(x=train_data,\n",
        "                 y=train_label,\n",
        "                 batch_size=BATCH_SIZE,\n",
        "                 epochs=EPOCHS,\n",
        "                 validation_data=(test_data, test_label))\n",
        "\n",
        "model.save('saved_models/crnn_TH=2hrs_PH=30mins.h5')\n",
        "json.dump(crnn.history, open('saved_models/crnn_TH=2hrs_PH=30mins_history', 'w'))\n",
        "\n",
        "!ls saved_models"
      ],
      "execution_count": null,
      "outputs": []
    },
    {
      "cell_type": "markdown",
      "metadata": {
        "id": "v5Iry3IPzRiX",
        "colab_type": "text"
      },
      "source": [
        "# Bidirectional LSTM"
      ]
    },
    {
      "cell_type": "code",
      "metadata": {
        "id": "rmMz08D-zXYP",
        "colab_type": "code",
        "colab": {}
      },
      "source": [
        "def bilstm(ph):\n",
        "\n",
        "    model = tf.keras.Sequential()\n",
        "    model.add(tf.keras.layers.Bidirectional(tf.keras.layers.LSTM(200, return_sequences=True)))\n",
        "    model.add(tf.keras.layers.Bidirectional(tf.keras.layers.LSTM(200, return_sequences=True)))\n",
        "    model.add(tf.keras.layers.Flatten())\n",
        "  #  model.add(tf.keras.layers.Dense(264, activation='relu'))\n",
        "  #  model.add(tf.keras.layers.Dropout(rate=0.5))\n",
        "  #  model.add(tf.keras.layers.Dense(128, activation='relu'))\n",
        "    model.add(tf.keras.layers.Dense(ph))\n",
        "\n",
        "    model.compile(optimizer='adam', loss='mean_squared_error', metrics=[tf.keras.metrics.RootMeanSquaredError()])\n",
        "\n",
        "    return model"
      ],
      "execution_count": null,
      "outputs": []
    },
    {
      "cell_type": "markdown",
      "metadata": {
        "id": "loNcCDN54Mji",
        "colab_type": "text"
      },
      "source": [
        "## TH = 2hrs, PH = 20 mins"
      ]
    },
    {
      "cell_type": "code",
      "metadata": {
        "id": "scpZkyDO4PIm",
        "colab_type": "code",
        "colab": {
          "base_uri": "https://localhost:8080/",
          "height": 1000
        },
        "outputId": "5eed7f18-350d-4c04-bfdf-aa704917b974"
      },
      "source": [
        "PH = 2\n",
        "TIME_HORIZON = 12\n",
        "RESOLUTION = 10\n",
        "BATCH_SIZE = 128\n",
        "EPOCHS = 50\n",
        "BATCH = True # indicates whether to convert data into batches\n",
        "\n",
        "train_data, train_label, test_data, test_label = load_data(TIME_HORIZON, PH, RESOLUTION, BATCH)\n",
        "\n",
        "model = bilstm(PH)\n",
        "\n",
        "#print(model.summary())\n",
        "\n",
        "bilstm = model.fit(x=train_data,\n",
        "                   y=train_label,\n",
        "                   batch_size=BATCH_SIZE,\n",
        "                   epochs=EPOCHS,\n",
        "                   validation_data=(test_data, test_label))\n",
        "\n",
        "print(model.summary())\n",
        "\n",
        "model.save('saved_models/bilstm_TH=2hrs_PH=20mins.h5')\n",
        "json.dump(bilstm.history, open('saved_models/bilstm_TH=2hrs_PH=20mins_history', 'w'))\n",
        "\n",
        "!ls saved_models"
      ],
      "execution_count": null,
      "outputs": [
        {
          "output_type": "stream",
          "text": [
            "Epoch 1/50\n",
            "7679/7679 [==============================] - 92s 12ms/step - loss: 0.1549 - root_mean_squared_error: 0.3935 - val_loss: 0.1046 - val_root_mean_squared_error: 0.3234\n",
            "Epoch 2/50\n",
            "7679/7679 [==============================] - 92s 12ms/step - loss: 0.1017 - root_mean_squared_error: 0.3189 - val_loss: 0.0973 - val_root_mean_squared_error: 0.3120\n",
            "Epoch 3/50\n",
            "7679/7679 [==============================] - 91s 12ms/step - loss: 0.0978 - root_mean_squared_error: 0.3127 - val_loss: 0.1002 - val_root_mean_squared_error: 0.3165\n",
            "Epoch 4/50\n",
            "7679/7679 [==============================] - 90s 12ms/step - loss: 0.0955 - root_mean_squared_error: 0.3090 - val_loss: 0.0948 - val_root_mean_squared_error: 0.3080\n",
            "Epoch 5/50\n",
            "7679/7679 [==============================] - 91s 12ms/step - loss: 0.0940 - root_mean_squared_error: 0.3066 - val_loss: 0.1011 - val_root_mean_squared_error: 0.3180\n",
            "Epoch 6/50\n",
            "7679/7679 [==============================] - 90s 12ms/step - loss: 0.0928 - root_mean_squared_error: 0.3046 - val_loss: 0.0978 - val_root_mean_squared_error: 0.3128\n",
            "Epoch 7/50\n",
            "7679/7679 [==============================] - 90s 12ms/step - loss: 0.0918 - root_mean_squared_error: 0.3030 - val_loss: 0.0961 - val_root_mean_squared_error: 0.3100\n",
            "Epoch 8/50\n",
            "7679/7679 [==============================] - 90s 12ms/step - loss: 0.0910 - root_mean_squared_error: 0.3016 - val_loss: 0.0926 - val_root_mean_squared_error: 0.3043\n",
            "Epoch 9/50\n",
            "7679/7679 [==============================] - 91s 12ms/step - loss: 0.0903 - root_mean_squared_error: 0.3004 - val_loss: 0.0944 - val_root_mean_squared_error: 0.3072\n",
            "Epoch 10/50\n",
            "7679/7679 [==============================] - 90s 12ms/step - loss: 0.0896 - root_mean_squared_error: 0.2994 - val_loss: 0.0965 - val_root_mean_squared_error: 0.3106\n",
            "Epoch 11/50\n",
            "7679/7679 [==============================] - 90s 12ms/step - loss: 0.0890 - root_mean_squared_error: 0.2984 - val_loss: 0.0909 - val_root_mean_squared_error: 0.3015\n",
            "Epoch 12/50\n",
            "7679/7679 [==============================] - 91s 12ms/step - loss: 0.0886 - root_mean_squared_error: 0.2977 - val_loss: 0.0918 - val_root_mean_squared_error: 0.3030\n",
            "Epoch 13/50\n",
            "7679/7679 [==============================] - 90s 12ms/step - loss: 0.0882 - root_mean_squared_error: 0.2969 - val_loss: 0.0917 - val_root_mean_squared_error: 0.3028\n",
            "Epoch 14/50\n",
            "7679/7679 [==============================] - 90s 12ms/step - loss: 0.0878 - root_mean_squared_error: 0.2962 - val_loss: 0.0909 - val_root_mean_squared_error: 0.3014\n",
            "Epoch 15/50\n",
            "7679/7679 [==============================] - 91s 12ms/step - loss: 0.0874 - root_mean_squared_error: 0.2956 - val_loss: 0.0941 - val_root_mean_squared_error: 0.3067\n",
            "Epoch 16/50\n",
            "7679/7679 [==============================] - 90s 12ms/step - loss: 0.0869 - root_mean_squared_error: 0.2948 - val_loss: 0.0957 - val_root_mean_squared_error: 0.3093\n",
            "Epoch 17/50\n",
            "7679/7679 [==============================] - 90s 12ms/step - loss: 0.0866 - root_mean_squared_error: 0.2942 - val_loss: 0.0908 - val_root_mean_squared_error: 0.3014\n",
            "Epoch 18/50\n",
            "7679/7679 [==============================] - 90s 12ms/step - loss: 0.0862 - root_mean_squared_error: 0.2936 - val_loss: 0.0929 - val_root_mean_squared_error: 0.3049\n",
            "Epoch 19/50\n",
            "7679/7679 [==============================] - 91s 12ms/step - loss: 0.0859 - root_mean_squared_error: 0.2930 - val_loss: 0.0903 - val_root_mean_squared_error: 0.3004\n",
            "Epoch 20/50\n",
            "7679/7679 [==============================] - 89s 12ms/step - loss: 0.0855 - root_mean_squared_error: 0.2925 - val_loss: 0.0916 - val_root_mean_squared_error: 0.3027\n",
            "Epoch 21/50\n",
            "7679/7679 [==============================] - 89s 12ms/step - loss: 0.0854 - root_mean_squared_error: 0.2922 - val_loss: 0.0965 - val_root_mean_squared_error: 0.3106\n",
            "Epoch 22/50\n",
            "7679/7679 [==============================] - 91s 12ms/step - loss: 0.0850 - root_mean_squared_error: 0.2916 - val_loss: 0.0924 - val_root_mean_squared_error: 0.3039\n",
            "Epoch 23/50\n",
            "7679/7679 [==============================] - 91s 12ms/step - loss: 0.0847 - root_mean_squared_error: 0.2910 - val_loss: 0.0909 - val_root_mean_squared_error: 0.3015\n",
            "Epoch 24/50\n",
            "7679/7679 [==============================] - 91s 12ms/step - loss: 0.0844 - root_mean_squared_error: 0.2906 - val_loss: 0.0915 - val_root_mean_squared_error: 0.3025\n",
            "Epoch 25/50\n",
            "7679/7679 [==============================] - 91s 12ms/step - loss: 0.0842 - root_mean_squared_error: 0.2902 - val_loss: 0.0930 - val_root_mean_squared_error: 0.3050\n",
            "Epoch 26/50\n",
            "7679/7679 [==============================] - 92s 12ms/step - loss: 0.0839 - root_mean_squared_error: 0.2896 - val_loss: 0.0918 - val_root_mean_squared_error: 0.3030\n",
            "Epoch 27/50\n",
            "7679/7679 [==============================] - 91s 12ms/step - loss: 0.0837 - root_mean_squared_error: 0.2893 - val_loss: 0.0927 - val_root_mean_squared_error: 0.3044\n",
            "Epoch 28/50\n",
            "7679/7679 [==============================] - 91s 12ms/step - loss: 0.0834 - root_mean_squared_error: 0.2887 - val_loss: 0.0939 - val_root_mean_squared_error: 0.3064\n",
            "Epoch 29/50\n",
            "7679/7679 [==============================] - 91s 12ms/step - loss: 0.0832 - root_mean_squared_error: 0.2884 - val_loss: 0.0914 - val_root_mean_squared_error: 0.3024\n",
            "Epoch 30/50\n",
            "7679/7679 [==============================] - 90s 12ms/step - loss: 0.0829 - root_mean_squared_error: 0.2880 - val_loss: 0.0978 - val_root_mean_squared_error: 0.3127\n",
            "Epoch 31/50\n",
            "7679/7679 [==============================] - 90s 12ms/step - loss: 0.0827 - root_mean_squared_error: 0.2875 - val_loss: 0.0980 - val_root_mean_squared_error: 0.3131\n",
            "Epoch 32/50\n",
            "7679/7679 [==============================] - 90s 12ms/step - loss: 0.0823 - root_mean_squared_error: 0.2869 - val_loss: 0.0931 - val_root_mean_squared_error: 0.3051\n",
            "Epoch 33/50\n",
            "7679/7679 [==============================] - 91s 12ms/step - loss: 0.0822 - root_mean_squared_error: 0.2866 - val_loss: 0.0927 - val_root_mean_squared_error: 0.3044\n",
            "Epoch 34/50\n",
            "7679/7679 [==============================] - 90s 12ms/step - loss: 0.0819 - root_mean_squared_error: 0.2862 - val_loss: 0.0951 - val_root_mean_squared_error: 0.3084\n",
            "Epoch 35/50\n",
            "7679/7679 [==============================] - 90s 12ms/step - loss: 0.0817 - root_mean_squared_error: 0.2858 - val_loss: 0.0946 - val_root_mean_squared_error: 0.3076\n",
            "Epoch 36/50\n",
            "7679/7679 [==============================] - 91s 12ms/step - loss: 0.0814 - root_mean_squared_error: 0.2853 - val_loss: 0.0927 - val_root_mean_squared_error: 0.3045\n",
            "Epoch 37/50\n",
            "7679/7679 [==============================] - 90s 12ms/step - loss: 0.0812 - root_mean_squared_error: 0.2849 - val_loss: 0.0922 - val_root_mean_squared_error: 0.3036\n",
            "Epoch 38/50\n",
            "7679/7679 [==============================] - 89s 12ms/step - loss: 0.0809 - root_mean_squared_error: 0.2844 - val_loss: 0.0946 - val_root_mean_squared_error: 0.3075\n",
            "Epoch 39/50\n",
            "7679/7679 [==============================] - 90s 12ms/step - loss: 0.0807 - root_mean_squared_error: 0.2840 - val_loss: 0.0934 - val_root_mean_squared_error: 0.3057\n",
            "Epoch 40/50\n",
            "7679/7679 [==============================] - 90s 12ms/step - loss: 0.0805 - root_mean_squared_error: 0.2837 - val_loss: 0.0939 - val_root_mean_squared_error: 0.3064\n",
            "Epoch 41/50\n",
            "7679/7679 [==============================] - 90s 12ms/step - loss: 0.0802 - root_mean_squared_error: 0.2833 - val_loss: 0.0938 - val_root_mean_squared_error: 0.3063\n",
            "Epoch 42/50\n",
            "7679/7679 [==============================] - 91s 12ms/step - loss: 0.0800 - root_mean_squared_error: 0.2828 - val_loss: 0.0992 - val_root_mean_squared_error: 0.3149\n",
            "Epoch 43/50\n",
            "7679/7679 [==============================] - 91s 12ms/step - loss: 0.0798 - root_mean_squared_error: 0.2824 - val_loss: 0.0943 - val_root_mean_squared_error: 0.3071\n",
            "Epoch 44/50\n",
            "7679/7679 [==============================] - 91s 12ms/step - loss: 0.0796 - root_mean_squared_error: 0.2821 - val_loss: 0.0961 - val_root_mean_squared_error: 0.3101\n",
            "Epoch 45/50\n",
            "7679/7679 [==============================] - 90s 12ms/step - loss: 0.0793 - root_mean_squared_error: 0.2816 - val_loss: 0.0945 - val_root_mean_squared_error: 0.3073\n",
            "Epoch 46/50\n",
            "7679/7679 [==============================] - 91s 12ms/step - loss: 0.0791 - root_mean_squared_error: 0.2812 - val_loss: 0.0945 - val_root_mean_squared_error: 0.3074\n",
            "Epoch 47/50\n",
            "7679/7679 [==============================] - 90s 12ms/step - loss: 0.0789 - root_mean_squared_error: 0.2809 - val_loss: 0.0952 - val_root_mean_squared_error: 0.3085\n",
            "Epoch 48/50\n",
            "7679/7679 [==============================] - 93s 12ms/step - loss: 0.0787 - root_mean_squared_error: 0.2806 - val_loss: 0.0979 - val_root_mean_squared_error: 0.3129\n",
            "Epoch 49/50\n",
            "7679/7679 [==============================] - 91s 12ms/step - loss: 0.0784 - root_mean_squared_error: 0.2801 - val_loss: 0.0965 - val_root_mean_squared_error: 0.3107\n",
            "Epoch 50/50\n",
            "7679/7679 [==============================] - 90s 12ms/step - loss: 0.0782 - root_mean_squared_error: 0.2796 - val_loss: 0.0946 - val_root_mean_squared_error: 0.3076\n",
            "Model: \"sequential_19\"\n",
            "_________________________________________________________________\n",
            "Layer (type)                 Output Shape              Param #   \n",
            "=================================================================\n",
            "bidirectional_22 (Bidirectio multiple                  326400    \n",
            "_________________________________________________________________\n",
            "bidirectional_23 (Bidirectio multiple                  961600    \n",
            "_________________________________________________________________\n",
            "flatten (Flatten)            multiple                  0         \n",
            "_________________________________________________________________\n",
            "dense_20 (Dense)             multiple                  9602      \n",
            "=================================================================\n",
            "Total params: 1,297,602\n",
            "Trainable params: 1,297,602\n",
            "Non-trainable params: 0\n",
            "_________________________________________________________________\n",
            "None\n",
            "'bilstm_TH=2hrs_PH=20mins.h5'\t      'dense_TH=2hr_PH=30mins.h5'\n",
            "'bilstm_TH=2hrs_PH=20mins_history'    'dense_TH=2hr_PH=30mins_history'\n",
            "'bilstm_TH=2hrs_PH=30mins.h5'\t      'lstm_TH=2hrs_PH=20mins.h5'\n",
            "'bilstm_TH=2hrs_PH=30mins_history'    'lstm_TH=2hrs_PH=20mins_history'\n",
            "'cnn_TH=2hr_PH=20mins.h5'\t      'lstm_TH=2hrs_PH=30mins.h5'\n",
            "'cnn_TH=2hr_PH=20mins_history'\t      'lstm_TH=2hrs_PH=30mins_history'\n",
            "'cnn_TH=2hrs_PH=30mins.h5'\t      'pruned_crnn_TH=2hrs_PH=20mins.h5'\n",
            "'cnn_TH=2hrs_PH=30mins_history'       'pruned_crnn_TH=2hrs_PH=20mins_history'\n",
            "'crnn_TH=2hrs_PH=20mins.h5'\t      'pruned_crnn_TH=2hrs_PH=30mins.h5'\n",
            "'crnn_TH=2hrs_PH=20mins_history'      'pruned_crnn_TH=2hrs_PH=30mins_history'\n",
            "'crnn_TH=2hrs_PH=30mins.h5'\t      'pruned_lstm_TH=2hrs_PH=20mins.h5'\n",
            "'crnn_TH=2hrs_PH=30mins_history'      'pruned_lstm_TH=2hrs_PH=20mins_history'\n",
            "'dense_net_TH=2hr_PH=20mins_history'  'pruned_lstm_TH=2hrs_PH=30mins.h5'\n",
            "'dense_TH=2hr_PH=20mins.h5'\t      'pruned_lstm_TH=2hrs_PH=30mins_history'\n"
          ],
          "name": "stdout"
        }
      ]
    },
    {
      "cell_type": "markdown",
      "metadata": {
        "id": "w29x7fcBM61S",
        "colab_type": "text"
      },
      "source": [
        "## TH = 2hrs, PH = 30 mins"
      ]
    },
    {
      "cell_type": "code",
      "metadata": {
        "id": "s8GUoN_DM_UA",
        "colab_type": "code",
        "colab": {
          "base_uri": "https://localhost:8080/",
          "height": 1000
        },
        "outputId": "72454e75-bd5b-4fb2-ba66-6ecd8ac67dbc"
      },
      "source": [
        "PH = 3\n",
        "TIME_HORIZON = 12\n",
        "RESOLUTION = 10\n",
        "BATCH_SIZE = 128\n",
        "EPOCHS = 50\n",
        "BATCH = True # indicates whether to convert data into batches\n",
        "\n",
        "train_data, train_label, test_data, test_label = load_data(TIME_HORIZON, PH, RESOLUTION, BATCH)\n",
        "\n",
        "model = bilstm(PH)\n",
        "\n",
        "#print(model.summary())\n",
        "\n",
        "bilstm = model.fit(x=train_data,\n",
        "                   y=train_label,\n",
        "                   batch_size=BATCH_SIZE,\n",
        "                   epochs=EPOCHS,\n",
        "                   validation_data=(test_data, test_label))\n",
        "\n",
        "print(model.summary())\n",
        "\n",
        "model.save('saved_models/bilstm_TH=2hrs_PH=30mins.h5')\n",
        "json.dump(bilstm.history, open('saved_models/bilstm_TH=2hrs_PH=30mins_history', 'w'))\n",
        "\n",
        "!ls saved_models"
      ],
      "execution_count": null,
      "outputs": [
        {
          "output_type": "stream",
          "text": [
            "Epoch 1/50\n",
            "7620/7620 [==============================] - 93s 12ms/step - loss: 0.1726 - root_mean_squared_error: 0.4154 - val_loss: 0.1103 - val_root_mean_squared_error: 0.3322\n",
            "Epoch 2/50\n",
            "7620/7620 [==============================] - 92s 12ms/step - loss: 0.1065 - root_mean_squared_error: 0.3263 - val_loss: 0.1067 - val_root_mean_squared_error: 0.3266\n",
            "Epoch 3/50\n",
            "7620/7620 [==============================] - 91s 12ms/step - loss: 0.1025 - root_mean_squared_error: 0.3202 - val_loss: 0.1290 - val_root_mean_squared_error: 0.3592\n",
            "Epoch 4/50\n",
            "7620/7620 [==============================] - 91s 12ms/step - loss: 0.0998 - root_mean_squared_error: 0.3159 - val_loss: 0.1105 - val_root_mean_squared_error: 0.3324\n",
            "Epoch 5/50\n",
            "7620/7620 [==============================] - 90s 12ms/step - loss: 0.0978 - root_mean_squared_error: 0.3127 - val_loss: 0.0996 - val_root_mean_squared_error: 0.3157\n",
            "Epoch 6/50\n",
            "7620/7620 [==============================] - 90s 12ms/step - loss: 0.0963 - root_mean_squared_error: 0.3103 - val_loss: 0.0969 - val_root_mean_squared_error: 0.3114\n",
            "Epoch 7/50\n",
            "7620/7620 [==============================] - 90s 12ms/step - loss: 0.0951 - root_mean_squared_error: 0.3084 - val_loss: 0.0998 - val_root_mean_squared_error: 0.3159\n",
            "Epoch 8/50\n",
            "7620/7620 [==============================] - 89s 12ms/step - loss: 0.0942 - root_mean_squared_error: 0.3068 - val_loss: 0.1001 - val_root_mean_squared_error: 0.3165\n",
            "Epoch 9/50\n",
            "7620/7620 [==============================] - 89s 12ms/step - loss: 0.0932 - root_mean_squared_error: 0.3053 - val_loss: 0.0971 - val_root_mean_squared_error: 0.3116\n",
            "Epoch 10/50\n",
            "7620/7620 [==============================] - 87s 11ms/step - loss: 0.0924 - root_mean_squared_error: 0.3040 - val_loss: 0.0961 - val_root_mean_squared_error: 0.3100\n",
            "Epoch 11/50\n",
            "7620/7620 [==============================] - 89s 12ms/step - loss: 0.0918 - root_mean_squared_error: 0.3029 - val_loss: 0.0973 - val_root_mean_squared_error: 0.3120\n",
            "Epoch 12/50\n",
            "7620/7620 [==============================] - 89s 12ms/step - loss: 0.0911 - root_mean_squared_error: 0.3018 - val_loss: 0.0970 - val_root_mean_squared_error: 0.3115\n",
            "Epoch 13/50\n",
            "7620/7620 [==============================] - 89s 12ms/step - loss: 0.0905 - root_mean_squared_error: 0.3009 - val_loss: 0.1002 - val_root_mean_squared_error: 0.3165\n",
            "Epoch 14/50\n",
            "7620/7620 [==============================] - 89s 12ms/step - loss: 0.0900 - root_mean_squared_error: 0.3000 - val_loss: 0.0970 - val_root_mean_squared_error: 0.3115\n",
            "Epoch 15/50\n",
            "7620/7620 [==============================] - 89s 12ms/step - loss: 0.0894 - root_mean_squared_error: 0.2991 - val_loss: 0.0967 - val_root_mean_squared_error: 0.3110\n",
            "Epoch 16/50\n",
            "7620/7620 [==============================] - 89s 12ms/step - loss: 0.0889 - root_mean_squared_error: 0.2981 - val_loss: 0.0973 - val_root_mean_squared_error: 0.3119\n",
            "Epoch 17/50\n",
            "7620/7620 [==============================] - 88s 12ms/step - loss: 0.0885 - root_mean_squared_error: 0.2975 - val_loss: 0.0975 - val_root_mean_squared_error: 0.3122\n",
            "Epoch 18/50\n",
            "7620/7620 [==============================] - 90s 12ms/step - loss: 0.0880 - root_mean_squared_error: 0.2967 - val_loss: 0.1011 - val_root_mean_squared_error: 0.3180\n",
            "Epoch 19/50\n",
            "7620/7620 [==============================] - 89s 12ms/step - loss: 0.0876 - root_mean_squared_error: 0.2959 - val_loss: 0.1022 - val_root_mean_squared_error: 0.3197\n",
            "Epoch 20/50\n",
            "7620/7620 [==============================] - 89s 12ms/step - loss: 0.0872 - root_mean_squared_error: 0.2953 - val_loss: 0.1031 - val_root_mean_squared_error: 0.3211\n",
            "Epoch 21/50\n",
            "7620/7620 [==============================] - 89s 12ms/step - loss: 0.0868 - root_mean_squared_error: 0.2946 - val_loss: 0.0973 - val_root_mean_squared_error: 0.3120\n",
            "Epoch 22/50\n",
            "7620/7620 [==============================] - 89s 12ms/step - loss: 0.0864 - root_mean_squared_error: 0.2940 - val_loss: 0.1007 - val_root_mean_squared_error: 0.3173\n",
            "Epoch 23/50\n",
            "7620/7620 [==============================] - 88s 11ms/step - loss: 0.0861 - root_mean_squared_error: 0.2933 - val_loss: 0.0976 - val_root_mean_squared_error: 0.3124\n",
            "Epoch 24/50\n",
            "7620/7620 [==============================] - 88s 12ms/step - loss: 0.0857 - root_mean_squared_error: 0.2928 - val_loss: 0.0993 - val_root_mean_squared_error: 0.3151\n",
            "Epoch 25/50\n",
            "7620/7620 [==============================] - 89s 12ms/step - loss: 0.0854 - root_mean_squared_error: 0.2921 - val_loss: 0.0988 - val_root_mean_squared_error: 0.3144\n",
            "Epoch 26/50\n",
            "7620/7620 [==============================] - 89s 12ms/step - loss: 0.0851 - root_mean_squared_error: 0.2917 - val_loss: 0.1003 - val_root_mean_squared_error: 0.3167\n",
            "Epoch 27/50\n",
            "7620/7620 [==============================] - 89s 12ms/step - loss: 0.0847 - root_mean_squared_error: 0.2910 - val_loss: 0.1009 - val_root_mean_squared_error: 0.3177\n",
            "Epoch 28/50\n",
            "7620/7620 [==============================] - 89s 12ms/step - loss: 0.0844 - root_mean_squared_error: 0.2904 - val_loss: 0.0985 - val_root_mean_squared_error: 0.3138\n",
            "Epoch 29/50\n",
            "7620/7620 [==============================] - 89s 12ms/step - loss: 0.0841 - root_mean_squared_error: 0.2900 - val_loss: 0.1022 - val_root_mean_squared_error: 0.3197\n",
            "Epoch 30/50\n",
            "7620/7620 [==============================] - 90s 12ms/step - loss: 0.0838 - root_mean_squared_error: 0.2894 - val_loss: 0.0991 - val_root_mean_squared_error: 0.3148\n",
            "Epoch 31/50\n",
            "7620/7620 [==============================] - 88s 12ms/step - loss: 0.0835 - root_mean_squared_error: 0.2890 - val_loss: 0.0995 - val_root_mean_squared_error: 0.3155\n",
            "Epoch 32/50\n",
            "7620/7620 [==============================] - 90s 12ms/step - loss: 0.0832 - root_mean_squared_error: 0.2884 - val_loss: 0.0989 - val_root_mean_squared_error: 0.3145\n",
            "Epoch 33/50\n",
            "7620/7620 [==============================] - 89s 12ms/step - loss: 0.0829 - root_mean_squared_error: 0.2880 - val_loss: 0.1105 - val_root_mean_squared_error: 0.3324\n",
            "Epoch 34/50\n",
            "7620/7620 [==============================] - 89s 12ms/step - loss: 0.0828 - root_mean_squared_error: 0.2877 - val_loss: 0.1010 - val_root_mean_squared_error: 0.3179\n",
            "Epoch 35/50\n",
            "7620/7620 [==============================] - 90s 12ms/step - loss: 0.0825 - root_mean_squared_error: 0.2873 - val_loss: 0.1003 - val_root_mean_squared_error: 0.3167\n",
            "Epoch 36/50\n",
            "7620/7620 [==============================] - 89s 12ms/step - loss: 0.0823 - root_mean_squared_error: 0.2868 - val_loss: 0.0996 - val_root_mean_squared_error: 0.3156\n",
            "Epoch 37/50\n",
            "7620/7620 [==============================] - 89s 12ms/step - loss: 0.0820 - root_mean_squared_error: 0.2864 - val_loss: 0.1016 - val_root_mean_squared_error: 0.3187\n",
            "Epoch 38/50\n",
            "7620/7620 [==============================] - 89s 12ms/step - loss: 0.0818 - root_mean_squared_error: 0.2859 - val_loss: 0.1072 - val_root_mean_squared_error: 0.3274\n",
            "Epoch 39/50\n",
            "7620/7620 [==============================] - 90s 12ms/step - loss: 0.0816 - root_mean_squared_error: 0.2856 - val_loss: 0.1004 - val_root_mean_squared_error: 0.3169\n",
            "Epoch 40/50\n",
            "7620/7620 [==============================] - 89s 12ms/step - loss: 0.0814 - root_mean_squared_error: 0.2853 - val_loss: 0.1090 - val_root_mean_squared_error: 0.3302\n",
            "Epoch 41/50\n",
            "7620/7620 [==============================] - 90s 12ms/step - loss: 0.0811 - root_mean_squared_error: 0.2848 - val_loss: 0.1028 - val_root_mean_squared_error: 0.3207\n",
            "Epoch 42/50\n",
            "7620/7620 [==============================] - 91s 12ms/step - loss: 0.0810 - root_mean_squared_error: 0.2846 - val_loss: 0.1055 - val_root_mean_squared_error: 0.3249\n",
            "Epoch 43/50\n",
            "7620/7620 [==============================] - 90s 12ms/step - loss: 0.0808 - root_mean_squared_error: 0.2842 - val_loss: 0.1007 - val_root_mean_squared_error: 0.3173\n",
            "Epoch 44/50\n",
            "7620/7620 [==============================] - 89s 12ms/step - loss: 0.0805 - root_mean_squared_error: 0.2838 - val_loss: 0.1030 - val_root_mean_squared_error: 0.3210\n",
            "Epoch 45/50\n",
            "7620/7620 [==============================] - 89s 12ms/step - loss: 0.0804 - root_mean_squared_error: 0.2835 - val_loss: 0.1376 - val_root_mean_squared_error: 0.3710\n",
            "Epoch 46/50\n",
            "7620/7620 [==============================] - 89s 12ms/step - loss: 0.0802 - root_mean_squared_error: 0.2832 - val_loss: 0.1022 - val_root_mean_squared_error: 0.3197\n",
            "Epoch 47/50\n",
            "7620/7620 [==============================] - 88s 12ms/step - loss: 0.0801 - root_mean_squared_error: 0.2830 - val_loss: 0.1018 - val_root_mean_squared_error: 0.3190\n",
            "Epoch 48/50\n",
            "7620/7620 [==============================] - 87s 11ms/step - loss: 0.0799 - root_mean_squared_error: 0.2826 - val_loss: 0.1046 - val_root_mean_squared_error: 0.3235\n",
            "Epoch 49/50\n",
            "7620/7620 [==============================] - 89s 12ms/step - loss: 0.0797 - root_mean_squared_error: 0.2823 - val_loss: 0.1019 - val_root_mean_squared_error: 0.3192\n",
            "Epoch 50/50\n",
            "7620/7620 [==============================] - 88s 12ms/step - loss: 0.0795 - root_mean_squared_error: 0.2819 - val_loss: 0.1104 - val_root_mean_squared_error: 0.3323\n",
            "Model: \"sequential_13\"\n",
            "_________________________________________________________________\n",
            "Layer (type)                 Output Shape              Param #   \n",
            "=================================================================\n",
            "bidirectional_10 (Bidirectio multiple                  326400    \n",
            "_________________________________________________________________\n",
            "bidirectional_11 (Bidirectio multiple                  961600    \n",
            "_________________________________________________________________\n",
            "dense_8 (Dense)              multiple                  1203      \n",
            "=================================================================\n",
            "Total params: 1,289,203\n",
            "Trainable params: 1,289,203\n",
            "Non-trainable params: 0\n",
            "_________________________________________________________________\n",
            "None\n",
            "'bilstm_TH=2hrs_PH=20mins.h5'\t      'dense_TH=2hr_PH=30mins_history'\n",
            "'bilstm_TH=2hrs_PH=30mins.h5'\t      'lstm_TH=2hrs_PH=20mins.h5'\n",
            "'bilstm_TH=2hrs_PH=30mins_history'    'lstm_TH=2hrs_PH=20mins_history'\n",
            "'cnn_TH=2hr_PH=20mins.h5'\t      'lstm_TH=2hrs_PH=30mins.h5'\n",
            "'cnn_TH=2hr_PH=20mins_history'\t      'lstm_TH=2hrs_PH=30mins_history'\n",
            "'cnn_TH=2hrs_PH=30mins.h5'\t      'pruned_crnn_TH=2hrs_PH=20mins.h5'\n",
            "'cnn_TH=2hrs_PH=30mins_history'       'pruned_crnn_TH=2hrs_PH=20mins_history'\n",
            "'crnn_TH=2hrs_PH=20mins.h5'\t      'pruned_crnn_TH=2hrs_PH=30mins.h5'\n",
            "'crnn_TH=2hrs_PH=20mins_history'      'pruned_crnn_TH=2hrs_PH=30mins_history'\n",
            "'crnn_TH=2hrs_PH=30mins.h5'\t      'pruned_lstm_TH=2hrs_PH=20mins.h5'\n",
            "'crnn_TH=2hrs_PH=30mins_history'      'pruned_lstm_TH=2hrs_PH=20mins_history'\n",
            "'dense_net_TH=2hr_PH=20mins_history'  'pruned_lstm_TH=2hrs_PH=30mins.h5'\n",
            "'dense_TH=2hr_PH=20mins.h5'\t      'pruned_lstm_TH=2hrs_PH=30mins_history'\n",
            "'dense_TH=2hr_PH=30mins.h5'\n"
          ],
          "name": "stdout"
        }
      ]
    },
    {
      "cell_type": "markdown",
      "metadata": {
        "id": "A2VKh8HvjFs5",
        "colab_type": "text"
      },
      "source": [
        "# Comparison of Glucose Predictive Curves (for first test record)"
      ]
    },
    {
      "cell_type": "markdown",
      "metadata": {
        "id": "tt2HDREdDy8e",
        "colab_type": "text"
      },
      "source": [
        "## TH = 2hrs, PH = 20 mins"
      ]
    },
    {
      "cell_type": "code",
      "metadata": {
        "id": "7S9NbojmjNVw",
        "colab_type": "code",
        "colab": {
          "base_uri": "https://localhost:8080/",
          "height": 591
        },
        "outputId": "c2424fa2-78db-46b1-dafd-9082caeb79b0"
      },
      "source": [
        "dense_net = tf.keras.models.load_model('saved_models/dense_TH=2hr_PH=20mins.h5')\n",
        "cnn = tf.keras.models.load_model('saved_models/cnn_TH=2hr_PH=20mins.h5')\n",
        "lstm = tf.keras.models.load_model('saved_models/lstm_TH=2hrs_PH=20mins.h5')\n",
        "crnn = tf.keras.models.load_model('saved_models/crnn_TH=2hrs_PH=20mins.h5')\n",
        "\n",
        "TIME_HORIZON = 12\n",
        "PH = 2\n",
        "RESOLUTION = 10\n",
        "BATCH = False\n",
        "\n",
        "train_data, test_data = load_data(TIME_HORIZON, PH, RESOLUTION, BATCH)\n",
        "\n",
        "test_sample = np.expand_dims(np.expand_dims(test_data[0,0,:,:], axis=0), axis=0) # first trajectory of first sample\n",
        "\n",
        "test_sample, test_label = process_data(test_sample, TIME_HORIZON, PH)\n",
        "\n",
        "dense_pred = dense_net.predict(np.reshape(test_sample, (test_sample.shape[0], test_sample.shape[1] * test_sample.shape[2])))\n",
        "cnn_pred = cnn.predict(np.swapaxes(test_sample,1,2))\n",
        "lstm_pred = lstm.predict(np.swapaxes(test_sample,1,2))\n",
        "crnn_pred = crnn.predict(np.swapaxes(test_sample,1,2))\n",
        "\n",
        "\n",
        "time = np.arange(144-TIME_HORIZON-PH)*10\n",
        "print(trajectory.shape, dense_pred.shape, test_label.shape)\n",
        "\n",
        "plt.plot(time, test_label[:,0], label='Test label')\n",
        "#plt.plot(time, dense_pred[:,0], label='Dense prediction')\n",
        "plt.plot(time, cnn_pred[:,0], label='CNN prediction')\n",
        "plt.plot(time, lstm_pred[:,0], label='LSTM prediction')\n",
        "plt.plot(time, crnn_pred[:,0], label='CRNN prediction')\n",
        "plt.xlabel('Time')\n",
        "plt.ylabel('CGM value')\n",
        "plt.title('10 minute forecast')\n",
        "plt.legend()\n",
        "plt.show()\n",
        "\n",
        "plt.plot(time, test_label[:,1], label='Test label')\n",
        "#plt.plot(time, dense_pred[:,1], label='Dense prediction')\n",
        "plt.plot(time, cnn_pred[:,1], label='CNN prediction')\n",
        "plt.plot(time, lstm_pred[:,1], label='LSTM prediction')\n",
        "plt.plot(time, crnn_pred[:,1], label='CRNN prediction')\n",
        "plt.xlabel('Time (mins)')\n",
        "plt.ylabel('CGM value')\n",
        "plt.title('20 minute forecast')\n",
        "plt.legend()\n",
        "plt.show()\n",
        "\n",
        "#plt.plot(minutes, test_label[PH+1:1441], label='Test label')\n",
        "#plt.plot(minutes, lstm_pred, label='LSTM prediction')\n",
        "#plt.plot(minutes, crnn_pred, label='CRNN prediction')\n",
        "#plt.xlabel('Time')\n",
        "#plt.ylabel('CGM value')\n",
        "#plt.legend()\n",
        "#plt.show()\n"
      ],
      "execution_count": null,
      "outputs": [
        {
          "output_type": "stream",
          "text": [
            "(130,) (130, 2) (130, 2)\n"
          ],
          "name": "stdout"
        },
        {
          "output_type": "display_data",
          "data": {
            "image/png": "[encoded data removed]",
            "text/plain": [
              "<Figure size 432x288 with 1 Axes>"
            ]
          },
          "metadata": {
            "tags": [],
            "needs_background": "light"
          }
        },
        {
          "output_type": "display_data",
          "data": {
            "image/png": "[encoded data removed]",
            "text/plain": [
              "<Figure size 432x288 with 1 Axes>"
            ]
          },
          "metadata": {
            "tags": [],
            "needs_background": "light"
          }
        }
      ]
    },
    {
      "cell_type": "markdown",
      "metadata": {
        "id": "wBKYTDj1R1_4",
        "colab_type": "text"
      },
      "source": [
        "## TH = 2hrs, PH = 30 mins"
      ]
    },
    {
      "cell_type": "code",
      "metadata": {
        "colab_type": "code",
        "id": "3xb2LrKGRGfv",
        "colab": {
          "base_uri": "https://localhost:8080/",
          "height": 868
        },
        "outputId": "3850a780-eef5-4b73-ccf7-cd6fdbfbbd8a"
      },
      "source": [
        "dense_net = tf.keras.models.load_model('saved_models/dense_TH=2hr_PH=30mins.h5')\n",
        "cnn = tf.keras.models.load_model('saved_models/cnn_TH=2hrs_PH=30mins.h5')\n",
        "lstm = tf.keras.models.load_model('saved_models/lstm_TH=2hrs_PH=30mins.h5')\n",
        "crnn = tf.keras.models.load_model('saved_models/crnn_TH=2hrs_PH=30mins.h5')\n",
        "\n",
        "TIME_HORIZON = 12\n",
        "PH = 3\n",
        "RESOLUTION = 10\n",
        "BATCH = False\n",
        "\n",
        "train_data, test_data = load_data(TIME_HORIZON, PH, RESOLUTION, BATCH)\n",
        "\n",
        "test_sample = np.expand_dims(np.expand_dims(test_data[0,0,:,:], axis=0), axis=0) # first trajectory of first sample\n",
        "\n",
        "test_sample, test_label = process_data(test_sample, TIME_HORIZON, PH)\n",
        "\n",
        "dense_pred = dense_net.predict(np.reshape(test_sample, (test_sample.shape[0], test_sample.shape[1] * test_sample.shape[2])))\n",
        "cnn_pred = cnn.predict(np.swapaxes(test_sample,1,2))\n",
        "lstm_pred = lstm.predict(np.swapaxes(test_sample,1,2))\n",
        "crnn_pred = crnn.predict(np.swapaxes(test_sample,1,2))\n",
        "\n",
        "\n",
        "time = np.arange(144-TIME_HORIZON-PH)*10\n",
        "print(trajectory.shape, dense_pred.shape, test_label.shape)\n",
        "\n",
        "plt.plot(time, test_label[:,0], label='Test label')\n",
        "#plt.plot(time, dense_pred[:,0], label='Dense prediction')\n",
        "plt.plot(time, cnn_pred[:,0], label='CNN prediction')\n",
        "plt.plot(time, lstm_pred[:,0], label='LSTM prediction')\n",
        "plt.plot(time, crnn_pred[:,0], label='CRNN prediction')\n",
        "plt.xlabel('Time')\n",
        "plt.ylabel('CGM value')\n",
        "plt.title('10 minute forecast')\n",
        "plt.legend()\n",
        "plt.show()\n",
        "\n",
        "plt.plot(time, test_label[:,1], label='Test label')\n",
        "#plt.plot(time, dense_pred[:,1], label='Dense prediction')\n",
        "plt.plot(time, cnn_pred[:,1], label='CNN prediction')\n",
        "plt.plot(time, lstm_pred[:,1], label='LSTM prediction')\n",
        "plt.plot(time, crnn_pred[:,1], label='CRNN prediction')\n",
        "plt.xlabel('Time (mins)')\n",
        "plt.ylabel('CGM value')\n",
        "plt.title('20 minute forecast')\n",
        "plt.legend()\n",
        "plt.show()\n",
        "\n",
        "plt.plot(time, test_label[:,2], label='Test label')\n",
        "#plt.plot(time, dense_pred[:,2], label='Dense prediction')\n",
        "plt.plot(time, cnn_pred[:,2], label='CNN prediction')\n",
        "plt.plot(time, lstm_pred[:,2], label='LSTM prediction')\n",
        "plt.plot(time, crnn_pred[:,2], label='CRNN prediction')\n",
        "plt.xlabel('Time (mins)')\n",
        "plt.ylabel('CGM value')\n",
        "plt.title('30 minute forecast')\n",
        "plt.legend()\n",
        "plt.show()\n",
        "\n",
        "#plt.plot(minutes, test_label[PH+1:1441], label='Test label')\n",
        "#plt.plot(minutes, lstm_pred, label='LSTM prediction')\n",
        "#plt.plot(minutes, crnn_pred, label='CRNN prediction')\n",
        "#plt.xlabel('Time')\n",
        "#plt.ylabel('CGM value')\n",
        "#plt.legend()\n",
        "#plt.show()\n"
      ],
      "execution_count": null,
      "outputs": [
        {
          "output_type": "stream",
          "text": [
            "(130,) (129, 3) (129, 3)\n"
          ],
          "name": "stdout"
        },
        {
          "output_type": "display_data",
          "data": {
            "image/png": "[encoded data removed]",
            "text/plain": [
              "<Figure size 432x288 with 1 Axes>"
            ]
          },
          "metadata": {
            "tags": [],
            "needs_background": "light"
          }
        },
        {
          "output_type": "display_data",
          "data": {
            "image/png": "[encoded data removed]",
            "text/plain": [
              "<Figure size 432x288 with 1 Axes>"
            ]
          },
          "metadata": {
            "tags": [],
            "needs_background": "light"
          }
        },
        {
          "output_type": "display_data",
          "data": {
            "image/png": "[encoded data removed]",
            "text/plain": [
              "<Figure size 432x288 with 1 Axes>"
            ]
          },
          "metadata": {
            "tags": [],
            "needs_background": "light"
          }
        }
      ]
    },
    {
      "cell_type": "markdown",
      "metadata": {
        "id": "vaXD_T38jOMh",
        "colab_type": "text"
      },
      "source": [
        "# Comparison of Train & Validation Loss"
      ]
    },
    {
      "cell_type": "markdown",
      "metadata": {
        "id": "tdh4bqEfEF0H",
        "colab_type": "text"
      },
      "source": [
        "## TH = 2hrs, PH = 20 mins"
      ]
    },
    {
      "cell_type": "code",
      "metadata": {
        "id": "QH8sJzKIjX6l",
        "colab_type": "code",
        "colab": {
          "base_uri": "https://localhost:8080/",
          "height": 542
        },
        "outputId": "e5a74d90-8698-458d-cbd6-f5461935e3c6"
      },
      "source": [
        "epochs = np.arange(1,50) # Drop first epoch because it is uninformative # start from maybe epoch 5\n",
        "\n",
        "dense_train_loss = json.load(open('saved_models/dense_net_TH=2hr_PH=20mins_history'))['loss'][1:]\n",
        "cnn_train_loss = json.load(open('saved_models/cnn_TH=2hr_PH=20mins_history'))['loss'][1:]\n",
        "lstm_train_loss = json.load(open('saved_models/lstm_TH=2hrs_PH=20mins_history'))['loss'][1:]\n",
        "crnn_train_loss = json.load(open('saved_models/crnn_TH=2hrs_PH=20mins_history'))['loss'][1:]\n",
        "bilstm_train_loss = json.load(open('saved_models/bilstm_TH=2hrs_PH=20mins_history'))['loss'][1:]\n",
        "\n",
        "plt.plot(epochs, dense_train_loss, label='dense')\n",
        "plt.plot(epochs, cnn_train_loss, label='cnn')\n",
        "plt.plot(epochs, lstm_train_loss, label='lstm')\n",
        "plt.plot(epochs, crnn_train_loss, label='crnn')\n",
        "plt.plot(epochs, bilstm_train_loss, label='bilstm')\n",
        "plt.xlabel('Epochs')\n",
        "plt.ylabel('Train MSE')\n",
        "plt.legend()\n",
        "plt.show()\n",
        "\n",
        "#dense_val_loss = json.load(open('saved_models/dense_net_TH=2hr_PH=20mins_history'))['val_loss'][1:]\n",
        "#cnn_val_loss = json.load(open('saved_models/cnn_TH=2hr_PH=20mins_history'))['val_loss'][1:]\n",
        "lstm_val_loss = json.load(open('saved_models/lstm_TH=2hrs_PH=20mins_history'))['val_loss'][1:]\n",
        "crnn_val_loss = json.load(open('saved_models/crnn_TH=2hrs_PH=20mins_history'))['val_loss'][1:]\n",
        "bilstm_val_loss = json.load(open('saved_models/bilstm_TH=2hrs_PH=20mins_history'))['val_loss'][1:]\n",
        "\n",
        "#plt.plot(epochs, dense_val_loss, label='dense')\n",
        "#plt.plot(epochs, cnn_val_loss, label='cnn')\n",
        "plt.plot(epochs, lstm_val_loss, label='lstm')\n",
        "plt.plot(epochs, crnn_val_loss, label='crnn')\n",
        "plt.plot(epochs, bilstm_val_loss, label='bilstm')\n",
        "plt.xlabel('Epochs')\n",
        "plt.ylabel('Validation MSE')\n",
        "plt.legend()\n",
        "plt.show()"
      ],
      "execution_count": null,
      "outputs": [
        {
          "output_type": "display_data",
          "data": {
            "image/png": "[encoded data removed]",
            "text/plain": [
              "<Figure size 432x288 with 1 Axes>"
            ]
          },
          "metadata": {
            "tags": [],
            "needs_background": "light"
          }
        },
        {
          "output_type": "display_data",
          "data": {
            "image/png": "[encoded data removed]",
            "text/plain": [
              "<Figure size 432x288 with 1 Axes>"
            ]
          },
          "metadata": {
            "tags": [],
            "needs_background": "light"
          }
        }
      ]
    },
    {
      "cell_type": "markdown",
      "metadata": {
        "id": "M4yV4llBEOI3",
        "colab_type": "text"
      },
      "source": [
        "## TH = 2hrs, PH = 30 mins"
      ]
    },
    {
      "cell_type": "code",
      "metadata": {
        "id": "-hoFU99FEQxw",
        "colab_type": "code",
        "colab": {
          "base_uri": "https://localhost:8080/",
          "height": 543
        },
        "outputId": "6bcdc738-45b3-4b17-9965-b5fe526af51c"
      },
      "source": [
        "epochs = np.arange(1,50)\n",
        "\n",
        "dense_train_loss = json.load(open('saved_models/dense_TH=2hr_PH=30mins_history'))['loss'][1:]\n",
        "cnn_train_loss = json.load(open('saved_models/cnn_TH=2hrs_PH=30mins_history'))['loss'][1:]\n",
        "lstm_train_loss = json.load(open('saved_models/lstm_TH=2hrs_PH=30mins_history'))['loss'][1:]\n",
        "crnn_train_loss = json.load(open('saved_models/crnn_TH=2hrs_PH=30mins_history'))['loss'][1:]\n",
        "bilstm_train_loss = json.load(open('saved_models/bilstm_TH=2hrs_PH=30mins_history'))['loss'][1:]\n",
        "\n",
        "plt.plot(epochs, dense_train_loss, label='dense')\n",
        "plt.plot(epochs, cnn_train_loss, label='cnn')\n",
        "plt.plot(epochs, lstm_train_loss, label='lstm')\n",
        "plt.plot(epochs, crnn_train_loss, label='crnn')\n",
        "plt.plot(epochs, bilstm_train_loss, label='bilstm')\n",
        "plt.xlabel('Epochs')\n",
        "plt.ylabel('Train MSE')\n",
        "plt.legend()\n",
        "plt.show()\n",
        "\n",
        "dense_val_loss = json.load(open('saved_models/dense_TH=2hr_PH=30mins_history'))['val_loss'][1:]\n",
        "cnn_val_loss = json.load(open('saved_models/cnn_TH=2hrs_PH=30mins_history'))['val_loss'][1:]\n",
        "lstm_val_loss = json.load(open('saved_models/lstm_TH=2hrs_PH=30mins_history'))['val_loss'][1:]\n",
        "crnn_val_loss = json.load(open('saved_models/crnn_TH=2hrs_PH=30mins_history'))['val_loss'][1:]\n",
        "bilstm_val_loss = json.load(open('saved_models/bilstm_TH=2hrs_PH=30mins_history'))['val_loss'][1:]\n",
        "\n",
        "#plt.plot(epochs, dense_val_loss, label='dense')\n",
        "#plt.plot(epochs, cnn_val_loss, label='cnn')\n",
        "plt.plot(epochs, lstm_val_loss, label='lstm')\n",
        "plt.plot(epochs, crnn_val_loss, label='crnn')\n",
        "plt.plot(epochs, bilstm_val_loss, label='bilstm')\n",
        "plt.xlabel('Epochs')\n",
        "plt.ylabel('Validation MSE')\n",
        "plt.legend()\n",
        "plt.show()"
      ],
      "execution_count": null,
      "outputs": [
        {
          "output_type": "display_data",
          "data": {
            "image/png": "[encoded data removed]",
            "text/plain": [
              "<Figure size 432x288 with 1 Axes>"
            ]
          },
          "metadata": {
            "tags": [],
            "needs_background": "light"
          }
        },
        {
          "output_type": "display_data",
          "data": {
            "image/png": "[encoded data removed]",
            "text/plain": [
              "<Figure size 432x288 with 1 Axes>"
            ]
          },
          "metadata": {
            "tags": [],
            "needs_background": "light"
          }
        }
      ]
    },
    {
      "cell_type": "markdown",
      "metadata": {
        "id": "D3OcpguNOowQ",
        "colab_type": "text"
      },
      "source": [
        "# Pruned CRNN\n"
      ]
    },
    {
      "cell_type": "markdown",
      "metadata": {
        "id": "mhSDtsF_1c_D",
        "colab_type": "text"
      },
      "source": [
        "## TH = 2hrs, PH = 20 mins"
      ]
    },
    {
      "cell_type": "code",
      "metadata": {
        "id": "ngihgjfHxwex",
        "colab_type": "code",
        "colab": {
          "base_uri": "https://localhost:8080/",
          "height": 1000
        },
        "outputId": "83165b83-30c6-4ca7-fc38-40eda08382c5"
      },
      "source": [
        "# Work in progress\n",
        "\n",
        "PH = 2\n",
        "TIME_HORIZON = 12\n",
        "RESOLUTION = 10\n",
        "BATCH_SIZE = 128\n",
        "EPOCHS = 50\n",
        "BATCH = True\n",
        "\n",
        "train_data, train_label, test_data, test_label = load_data(TIME_HORIZON, PH, RESOLUTION, BATCH)\n",
        "\n",
        "prune_low_magnitude = tfmot.sparsity.keras.prune_low_magnitude\n",
        "\n",
        "pruning_params = {\n",
        "      'pruning_schedule': tfmot.sparsity.keras.PolynomialDecay(initial_sparsity=0.65,\n",
        "                                                               final_sparsity=0.85,\n",
        "                                                               begin_step=10,\n",
        "                                                               end_step=EPOCHS)\n",
        "}\n",
        "\n",
        "#with tpu_strategy.scope():\n",
        "model_for_pruning = prune_low_magnitude(crnn(PH))#tf.keras.models.load_model('saved_models/lstm_TH=2hrs_PH=30mins.h5'), **pruning_params)\n",
        "\n",
        "model_for_pruning.compile(optimizer='adam',\n",
        "                          loss='mean_squared_error',\n",
        "                           metrics=[tf.keras.metrics.RootMeanSquaredError()])\n",
        "\n",
        "model_for_pruning.summary()\n",
        "\n",
        "logdir = tempfile.mkdtemp()\n",
        "\n",
        "callbacks = [\n",
        "  tfmot.sparsity.keras.UpdatePruningStep(),\n",
        "  tfmot.sparsity.keras.PruningSummaries(log_dir=logdir),\n",
        "]\n",
        "  \n",
        "pruned_crnn = model_for_pruning.fit(x=train_data,\n",
        "                                    y=train_label,\n",
        "                                    batch_size=BATCH_SIZE,\n",
        "                                    epochs=EPOCHS,\n",
        "                                    verbose=2,\n",
        "                                    validation_data=(test_data, test_label),\n",
        "                                    callbacks=callbacks)\n",
        "\n",
        "json.dump(pruned_crnn.history, open('saved_models/pruned_crnn_TH=2hrs_PH=20mins_historyv2', 'w'))\n",
        "\n",
        "model_for_export = tfmot.sparsity.keras.strip_pruning(model_for_pruning)\n",
        "tf.keras.models.save_model(model_for_export, 'saved_models/pruned_crnn_TH=2hrs_PH=20minsv2.h5', include_optimizer=False)\n",
        "\n",
        "!ls saved_models"
      ],
      "execution_count": null,
      "outputs": [
        {
          "output_type": "stream",
          "text": [
            "WARNING:tensorflow:Layer lstm_44 will not use cuDNN kernel since it doesn't meet the cuDNN kernel criteria. It will use generic GPU kernel as fallback when running on GPU\n",
            "Model: \"sequential_20\"\n",
            "_________________________________________________________________\n",
            "Layer (type)                 Output Shape              Param #   \n",
            "=================================================================\n",
            "prune_low_magnitude_conv1d_3 (None, 12, 128)           3202      \n",
            "_________________________________________________________________\n",
            "prune_low_magnitude_max_pool (None, 12, 128)           1         \n",
            "_________________________________________________________________\n",
            "prune_low_magnitude_conv1d_4 (None, 12, 256)           262402    \n",
            "_________________________________________________________________\n",
            "prune_low_magnitude_max_pool (None, 12, 256)           1         \n",
            "_________________________________________________________________\n",
            "prune_low_magnitude_conv1d_5 (None, 12, 512)           1049090   \n",
            "_________________________________________________________________\n",
            "prune_low_magnitude_max_pool (None, 12, 512)           1         \n",
            "_________________________________________________________________\n",
            "prune_low_magnitude_lstm_41  (None, 12, 200)           1140003   \n",
            "_________________________________________________________________\n",
            "prune_low_magnitude_lstm_42  (None, 12, 200)           640803    \n",
            "_________________________________________________________________\n",
            "prune_low_magnitude_lstm_43  (None, 12, 200)           640803    \n",
            "_________________________________________________________________\n",
            "prune_low_magnitude_lstm_44  (None, 2)                 3243      \n",
            "=================================================================\n",
            "Total params: 3,739,549\n",
            "Trainable params: 1,871,416\n",
            "Non-trainable params: 1,868,133\n",
            "_________________________________________________________________\n",
            "Epoch 1/50\n",
            "WARNING:tensorflow:Method (on_train_batch_end) is slow compared to the batch update (0.639343). Check your callbacks.\n",
            "7679/7679 - 264s - loss: 0.2454 - root_mean_squared_error: 0.4954 - val_loss: 0.1410 - val_root_mean_squared_error: 0.3755\n",
            "Epoch 2/50\n",
            "7679/7679 - 263s - loss: 0.1073 - root_mean_squared_error: 0.3276 - val_loss: 0.1033 - val_root_mean_squared_error: 0.3214\n",
            "Epoch 3/50\n",
            "7679/7679 - 263s - loss: 0.1019 - root_mean_squared_error: 0.3192 - val_loss: 0.1129 - val_root_mean_squared_error: 0.3360\n",
            "Epoch 4/50\n",
            "7679/7679 - 263s - loss: 0.0984 - root_mean_squared_error: 0.3137 - val_loss: 0.1000 - val_root_mean_squared_error: 0.3162\n",
            "Epoch 5/50\n",
            "7679/7679 - 263s - loss: 0.0961 - root_mean_squared_error: 0.3100 - val_loss: 0.0989 - val_root_mean_squared_error: 0.3144\n",
            "Epoch 6/50\n",
            "7679/7679 - 262s - loss: 0.0948 - root_mean_squared_error: 0.3078 - val_loss: 0.1004 - val_root_mean_squared_error: 0.3169\n",
            "Epoch 7/50\n",
            "7679/7679 - 263s - loss: 0.0934 - root_mean_squared_error: 0.3057 - val_loss: 0.0945 - val_root_mean_squared_error: 0.3074\n",
            "Epoch 8/50\n",
            "7679/7679 - 262s - loss: 0.0925 - root_mean_squared_error: 0.3041 - val_loss: 0.0934 - val_root_mean_squared_error: 0.3056\n",
            "Epoch 9/50\n",
            "7679/7679 - 263s - loss: 0.0916 - root_mean_squared_error: 0.3027 - val_loss: 0.0924 - val_root_mean_squared_error: 0.3040\n",
            "Epoch 10/50\n",
            "7679/7679 - 263s - loss: 0.0908 - root_mean_squared_error: 0.3014 - val_loss: 0.0949 - val_root_mean_squared_error: 0.3080\n",
            "Epoch 11/50\n",
            "7679/7679 - 262s - loss: 0.0902 - root_mean_squared_error: 0.3003 - val_loss: 0.0918 - val_root_mean_squared_error: 0.3030\n",
            "Epoch 12/50\n",
            "7679/7679 - 262s - loss: 0.0895 - root_mean_squared_error: 0.2992 - val_loss: 0.0931 - val_root_mean_squared_error: 0.3052\n",
            "Epoch 13/50\n",
            "7679/7679 - 261s - loss: 0.0889 - root_mean_squared_error: 0.2982 - val_loss: 0.0938 - val_root_mean_squared_error: 0.3062\n",
            "Epoch 14/50\n"
          ],
          "name": "stdout"
        }
      ]
    },
    {
      "cell_type": "markdown",
      "metadata": {
        "id": "0XgLiJXfyMva",
        "colab_type": "text"
      },
      "source": [
        "Try fine tuning."
      ]
    },
    {
      "cell_type": "code",
      "metadata": {
        "id": "GG-CCiPo1gpk",
        "colab_type": "code",
        "colab": {
          "base_uri": "https://localhost:8080/",
          "height": 1000
        },
        "outputId": "74f2df48-7e89-4ad2-f0ad-17f32f3af03c"
      },
      "source": [
        "PH = 2\n",
        "TIME_HORIZON = 12\n",
        "RESOLUTION = 10\n",
        "BATCH_SIZE = 128\n",
        "EPOCHS = 25\n",
        "BATCH = True\n",
        "\n",
        "train_data, train_label, test_data, test_label = load_data(TIME_HORIZON, PH, RESOLUTION, BATCH)\n",
        "\n",
        "prune_low_magnitude = tfmot.sparsity.keras.prune_low_magnitude\n",
        "\n",
        "pruning_params = {\n",
        "      'pruning_schedule': tfmot.sparsity.keras.PolynomialDecay(initial_sparsity=0.50,\n",
        "                                                               final_sparsity=0.98,\n",
        "                                                               begin_step=0,\n",
        "                                                               end_step=EPOCHS)\n",
        "}\n",
        "\n",
        "model_for_pruning = prune_low_magnitude(tf.keras.models.load_model('saved_models/crnn_TH=2hrs_PH=20mins.h5'), **pruning_params)\n",
        "\n",
        "model_for_pruning.compile(optimizer='adam',\n",
        "                          loss='mean_squared_error',\n",
        "                          metrics=[tf.keras.metrics.RootMeanSquaredError()])\n",
        "\n",
        "model_for_pruning.summary()\n",
        "\n",
        "logdir = tempfile.mkdtemp()\n",
        "\n",
        "callbacks = [\n",
        "  tfmot.sparsity.keras.UpdatePruningStep(),\n",
        "  tfmot.sparsity.keras.PruningSummaries(log_dir=logdir),\n",
        "]\n",
        "  \n",
        "pruned_crnn = model_for_pruning.fit(x=train_data,\n",
        "                                    y=train_label,\n",
        "                                    batch_size=BATCH_SIZE,\n",
        "                                    epochs=EPOCHS,\n",
        "                                    validation_data=(test_data, test_label),\n",
        "                                    callbacks=callbacks)\n",
        "\n",
        "json.dump(pruned_crnn.history, open('saved_models/pruned_crnn_TH=2hrs_PH=20mins_history', 'w'))\n",
        "\n",
        "model_for_export = tfmot.sparsity.keras.strip_pruning(model_for_pruning)\n",
        "tf.keras.models.save_model(model_for_export, 'saved_models/pruned_crnn_TH=2hrs_PH=20mins.h5', include_optimizer=False)\n",
        "\n",
        "!ls saved_models"
      ],
      "execution_count": null,
      "outputs": [
        {
          "output_type": "stream",
          "text": [
            "WARNING:tensorflow:Layer lstm_7 will not use cuDNN kernel since it doesn't meet the cuDNN kernel criteria. It will use generic GPU kernel as fallback when running on GPU\n",
            "Model: \"sequential_1\"\n",
            "_________________________________________________________________\n",
            "Layer (type)                 Output Shape              Param #   \n",
            "=================================================================\n",
            "prune_low_magnitude_conv1d ( (None, 12, 128)           3202      \n",
            "_________________________________________________________________\n",
            "prune_low_magnitude_max_pool (None, 12, 128)           1         \n",
            "_________________________________________________________________\n",
            "prune_low_magnitude_conv1d_1 (None, 12, 256)           262402    \n",
            "_________________________________________________________________\n",
            "prune_low_magnitude_max_pool (None, 12, 256)           1         \n",
            "_________________________________________________________________\n",
            "prune_low_magnitude_conv1d_2 (None, 12, 512)           1049090   \n",
            "_________________________________________________________________\n",
            "prune_low_magnitude_max_pool (None, 12, 512)           1         \n",
            "_________________________________________________________________\n",
            "prune_low_magnitude_lstm_4 ( (None, 12, 200)           1140003   \n",
            "_________________________________________________________________\n",
            "prune_low_magnitude_lstm_5 ( (None, 12, 200)           640803    \n",
            "_________________________________________________________________\n",
            "prune_low_magnitude_lstm_6 ( (None, 12, 200)           640803    \n",
            "_________________________________________________________________\n",
            "prune_low_magnitude_lstm_7 ( (None, 2)                 3243      \n",
            "=================================================================\n",
            "Total params: 3,739,549\n",
            "Trainable params: 1,871,416\n",
            "Non-trainable params: 1,868,133\n",
            "_________________________________________________________________\n",
            "Epoch 1/25\n",
            "   2/7679 [..............................] - ETA: 24:01 - loss: 69.1001 - root_mean_squared_error: 8.3126WARNING:tensorflow:Method (on_train_batch_end) is slow compared to the batch update (0.164316). Check your callbacks.\n",
            "7679/7679 [==============================] - 316s 41ms/step - loss: 0.1883 - root_mean_squared_error: 0.4340 - val_loss: 0.1015 - val_root_mean_squared_error: 0.3185\n",
            "Epoch 2/25\n",
            "7679/7679 [==============================] - 315s 41ms/step - loss: 0.0968 - root_mean_squared_error: 0.3111 - val_loss: 0.0994 - val_root_mean_squared_error: 0.3153\n",
            "Epoch 3/25\n",
            "7679/7679 [==============================] - 316s 41ms/step - loss: 0.0947 - root_mean_squared_error: 0.3078 - val_loss: 0.0999 - val_root_mean_squared_error: 0.3161\n",
            "Epoch 4/25\n",
            "7679/7679 [==============================] - 316s 41ms/step - loss: 0.0935 - root_mean_squared_error: 0.3058 - val_loss: 0.0962 - val_root_mean_squared_error: 0.3101\n",
            "Epoch 5/25\n",
            "7679/7679 [==============================] - 314s 41ms/step - loss: 0.0927 - root_mean_squared_error: 0.3044 - val_loss: 0.0931 - val_root_mean_squared_error: 0.3051\n",
            "Epoch 6/25\n",
            "7679/7679 [==============================] - 315s 41ms/step - loss: 0.0921 - root_mean_squared_error: 0.3035 - val_loss: 0.0929 - val_root_mean_squared_error: 0.3048\n",
            "Epoch 7/25\n",
            "7679/7679 [==============================] - 314s 41ms/step - loss: 0.0917 - root_mean_squared_error: 0.3028 - val_loss: 0.0947 - val_root_mean_squared_error: 0.3077\n",
            "Epoch 8/25\n",
            "7679/7679 [==============================] - 315s 41ms/step - loss: 0.0913 - root_mean_squared_error: 0.3021 - val_loss: 0.0935 - val_root_mean_squared_error: 0.3057\n",
            "Epoch 9/25\n",
            "7679/7679 [==============================] - 314s 41ms/step - loss: 0.0910 - root_mean_squared_error: 0.3016 - val_loss: 0.0941 - val_root_mean_squared_error: 0.3068\n",
            "Epoch 10/25\n",
            "7679/7679 [==============================] - 314s 41ms/step - loss: 0.0908 - root_mean_squared_error: 0.3014 - val_loss: 0.0943 - val_root_mean_squared_error: 0.3070\n",
            "Epoch 11/25\n",
            "7679/7679 [==============================] - 315s 41ms/step - loss: 0.0906 - root_mean_squared_error: 0.3010 - val_loss: 0.0926 - val_root_mean_squared_error: 0.3043\n",
            "Epoch 12/25\n",
            "7679/7679 [==============================] - 315s 41ms/step - loss: 0.0904 - root_mean_squared_error: 0.3007 - val_loss: 0.0918 - val_root_mean_squared_error: 0.3030\n",
            "Epoch 13/25\n",
            "7679/7679 [==============================] - 315s 41ms/step - loss: 0.0903 - root_mean_squared_error: 0.3005 - val_loss: 0.0934 - val_root_mean_squared_error: 0.3056\n",
            "Epoch 14/25\n",
            "7679/7679 [==============================] - 316s 41ms/step - loss: 0.0903 - root_mean_squared_error: 0.3005 - val_loss: 0.0918 - val_root_mean_squared_error: 0.3030\n",
            "Epoch 15/25\n",
            "7679/7679 [==============================] - 315s 41ms/step - loss: 0.0904 - root_mean_squared_error: 0.3006 - val_loss: 0.0940 - val_root_mean_squared_error: 0.3065\n",
            "Epoch 16/25\n",
            "7679/7679 [==============================] - 315s 41ms/step - loss: 0.0900 - root_mean_squared_error: 0.3000 - val_loss: 0.0919 - val_root_mean_squared_error: 0.3031\n",
            "Epoch 17/25\n",
            "7679/7679 [==============================] - 314s 41ms/step - loss: 0.0900 - root_mean_squared_error: 0.2999 - val_loss: 0.0920 - val_root_mean_squared_error: 0.3033\n",
            "Epoch 18/25\n",
            "7679/7679 [==============================] - 315s 41ms/step - loss: 0.0899 - root_mean_squared_error: 0.2999 - val_loss: 0.0922 - val_root_mean_squared_error: 0.3037\n",
            "Epoch 19/25\n",
            "7679/7679 [==============================] - 314s 41ms/step - loss: 0.0898 - root_mean_squared_error: 0.2996 - val_loss: 0.0946 - val_root_mean_squared_error: 0.3076\n",
            "Epoch 20/25\n",
            "7679/7679 [==============================] - 316s 41ms/step - loss: 0.0897 - root_mean_squared_error: 0.2996 - val_loss: 0.0963 - val_root_mean_squared_error: 0.3104\n",
            "Epoch 21/25\n",
            "7679/7679 [==============================] - 315s 41ms/step - loss: 0.0896 - root_mean_squared_error: 0.2994 - val_loss: 0.0926 - val_root_mean_squared_error: 0.3043\n",
            "Epoch 22/25\n",
            "7679/7679 [==============================] - 315s 41ms/step - loss: 0.0896 - root_mean_squared_error: 0.2994 - val_loss: 0.0922 - val_root_mean_squared_error: 0.3036\n",
            "Epoch 23/25\n",
            "7679/7679 [==============================] - 315s 41ms/step - loss: 0.0896 - root_mean_squared_error: 0.2993 - val_loss: 0.0967 - val_root_mean_squared_error: 0.3109\n",
            "Epoch 24/25\n",
            "7679/7679 [==============================] - 315s 41ms/step - loss: 0.0895 - root_mean_squared_error: 0.2991 - val_loss: 0.0913 - val_root_mean_squared_error: 0.3021\n",
            "Epoch 25/25\n",
            "7679/7679 [==============================] - 316s 41ms/step - loss: 0.0895 - root_mean_squared_error: 0.2992 - val_loss: 0.0926 - val_root_mean_squared_error: 0.3043\n",
            "'cnn_TH=2hr_PH=20mins.h5'\t      'dense_TH=2hr_PH=20mins.h5'\n",
            "'cnn_TH=2hr_PH=20mins_history'\t      'dense_TH=2hr_PH=30mins.h5'\n",
            "'cnn_TH=2hrs_PH=30mins.h5'\t      'dense_TH=2hr_PH=30mins_history'\n",
            "'cnn_TH=2hrs_PH=30mins_history'       'lstm_TH=2hrs_PH=20mins.h5'\n",
            "'crnn_TH=2hrs_PH=20mins.h5'\t      'lstm_TH=2hrs_PH=20mins_history'\n",
            "'crnn_TH=2hrs_PH=20mins_history'      'lstm_TH=2hrs_PH=30mins.h5'\n",
            "'crnn_TH=2hrs_PH=30mins.h5'\t      'lstm_TH=2hrs_PH=30mins_history'\n",
            "'crnn_TH=2hrs_PH=30mins_history'      'pruned_crnn_TH=2hrs_PH=20mins.h5'\n",
            "'dense_net_TH=2hr_PH=20mins_history'  'pruned_crnn_TH=2hrs_PH=20mins_history'\n"
          ],
          "name": "stdout"
        }
      ]
    },
    {
      "cell_type": "markdown",
      "metadata": {
        "id": "aGZP0ksvh8WI",
        "colab_type": "text"
      },
      "source": [
        "#### Comparison with CRNN"
      ]
    },
    {
      "cell_type": "code",
      "metadata": {
        "id": "fX-N4R8qiFUc",
        "colab_type": "code",
        "colab": {
          "base_uri": "https://localhost:8080/",
          "height": 559
        },
        "outputId": "8e8d150a-fc4a-4f20-c736-b6a469ed9241"
      },
      "source": [
        "crnn_train_loss = json.load(open('saved_models/crnn_TH=2hrs_PH=20mins_history'))['loss'][1:]#[26:]\n",
        "crnn_val_loss = json.load(open('saved_models/crnn_TH=2hrs_PH=20mins_history'))['val_loss'][1:]#[26:]\n",
        "\n",
        "pruned_crnn_train_loss = json.load(open('saved_models/pruned_crnn_TH=2hrs_PH=20mins_history'))['loss'][1:]\n",
        "pruned_crnn_val_loss = json.load(open('saved_models/pruned_crnn_TH=2hrs_PH=20mins_history'))['val_loss'][1:]\n",
        "\n",
        "#epochs = np.arange(26,50)\n",
        "epochs = np.arange(1,75)\n",
        "\n",
        "print(len(crnn_train_loss), epochs.shape)\n",
        "\n",
        "plt.plot(epochs[1:50], crnn_train_loss, label='CRNN')\n",
        "plt.plot(epochs[50:], pruned_crnn_train_loss, label='Pruned CRNN')\n",
        "plt.xlabel('Epochs')\n",
        "plt.ylabel('Train MSE')\n",
        "plt.legend()\n",
        "plt.show()\n",
        "\n",
        "plt.plot(epochs[1:50], crnn_val_loss, label='CRNN')\n",
        "plt.plot(epochs[50:], pruned_crnn_val_loss, label='Pruned CRNN')\n",
        "plt.xlabel('Epochs')\n",
        "plt.ylabel('Validation MSE')\n",
        "plt.legend()\n",
        "plt.show()"
      ],
      "execution_count": null,
      "outputs": [
        {
          "output_type": "stream",
          "text": [
            "49 (74,)\n"
          ],
          "name": "stdout"
        },
        {
          "output_type": "display_data",
          "data": {
            "image/png": "[encoded data removed]",
            "text/plain": [
              "<Figure size 432x288 with 1 Axes>"
            ]
          },
          "metadata": {
            "tags": [],
            "needs_background": "light"
          }
        },
        {
          "output_type": "display_data",
          "data": {
            "image/png": "[encoded data removed]",
            "text/plain": [
              "<Figure size 432x288 with 1 Axes>"
            ]
          },
          "metadata": {
            "tags": [],
            "needs_background": "light"
          }
        }
      ]
    },
    {
      "cell_type": "markdown",
      "metadata": {
        "id": "VZX0dAdN1hTq",
        "colab_type": "text"
      },
      "source": [
        "## TH = 2hrs, PH = 30 mins"
      ]
    },
    {
      "cell_type": "code",
      "metadata": {
        "id": "Q0yaUrzW1kOK",
        "colab_type": "code",
        "colab": {
          "base_uri": "https://localhost:8080/",
          "height": 1000
        },
        "outputId": "b66e61e0-995b-4aa9-e2b0-1079cbc1cd9a"
      },
      "source": [
        "PH = 3\n",
        "TIME_HORIZON = 12\n",
        "RESOLUTION = 10\n",
        "BATCH_SIZE = 64\n",
        "EPOCHS = 50\n",
        "BATCH = True\n",
        "\n",
        "train_data, train_label, test_data, test_label = load_data(TIME_HORIZON, PH, RESOLUTION, BATCH)\n",
        "\n",
        "prune_low_magnitude = tfmot.sparsity.keras.prune_low_magnitude\n",
        "\n",
        "pruning_params = {\n",
        "      'pruning_schedule': tfmot.sparsity.keras.PolynomialDecay(initial_sparsity=0.65,\n",
        "                                                               final_sparsity=0.95,\n",
        "                                                               begin_step=10,\n",
        "                                                               end_step=EPOCHS)\n",
        "}\n",
        "\n",
        "#with tpu_strategy.scope():\n",
        "model_for_pruning = prune_low_magnitude(crnn(PH))#tf.keras.models.load_model('saved_models/lstm_TH=2hrs_PH=30mins.h5'), **pruning_params)\n",
        "\n",
        "model_for_pruning.compile(optimizer='adam',\n",
        "                          loss='mean_squared_error',\n",
        "                           metrics=[tf.keras.metrics.RootMeanSquaredError()])\n",
        "\n",
        "model_for_pruning.summary()\n",
        "\n",
        "logdir = tempfile.mkdtemp()\n",
        "\n",
        "callbacks = [\n",
        "  tfmot.sparsity.keras.UpdatePruningStep(),\n",
        "  tfmot.sparsity.keras.PruningSummaries(log_dir=logdir),\n",
        "]\n",
        "  \n",
        "pruned_crnn = model_for_pruning.fit(x=train_data,\n",
        "                                    y=train_label,\n",
        "                                    batch_size=BATCH_SIZE,\n",
        "                                    epochs=EPOCHS,\n",
        "                                    verbose=2,\n",
        "                                    validation_data=(test_data, test_label),\n",
        "                                    callbacks=callbacks)\n",
        "\n",
        "json.dump(pruned_crnn.history, open('saved_models/pruned_crnn_TH=2hrs_PH=30mins_history', 'w'))\n",
        "\n",
        "model_for_export = tfmot.sparsity.keras.strip_pruning(model_for_pruning)\n",
        "tf.keras.models.save_model(model_for_export, 'saved_models/pruned_crnn_TH=2hrs_PH=30mins.h5', include_optimizer=False)\n",
        "\n",
        "!ls saved_models"
      ],
      "execution_count": null,
      "outputs": [
        {
          "output_type": "stream",
          "text": [
            "WARNING:tensorflow:Layer lstm_11 will not use cuDNN kernel since it doesn't meet the cuDNN kernel criteria. It will use generic GPU kernel as fallback when running on GPU\n",
            "Model: \"sequential_2\"\n",
            "_________________________________________________________________\n",
            "Layer (type)                 Output Shape              Param #   \n",
            "=================================================================\n",
            "prune_low_magnitude_conv1d_6 (None, 12, 128)           3202      \n",
            "_________________________________________________________________\n",
            "prune_low_magnitude_max_pool (None, 12, 128)           1         \n",
            "_________________________________________________________________\n",
            "prune_low_magnitude_conv1d_7 (None, 12, 256)           262402    \n",
            "_________________________________________________________________\n",
            "prune_low_magnitude_max_pool (None, 12, 256)           1         \n",
            "_________________________________________________________________\n",
            "prune_low_magnitude_conv1d_8 (None, 12, 512)           1049090   \n",
            "_________________________________________________________________\n",
            "prune_low_magnitude_max_pool (None, 12, 512)           1         \n",
            "_________________________________________________________________\n",
            "prune_low_magnitude_lstm_8 ( (None, 12, 200)           1140003   \n",
            "_________________________________________________________________\n",
            "prune_low_magnitude_lstm_9 ( (None, 12, 200)           640803    \n",
            "_________________________________________________________________\n",
            "prune_low_magnitude_lstm_10  (None, 12, 200)           640803    \n",
            "_________________________________________________________________\n",
            "prune_low_magnitude_lstm_11  (None, 3)                 4887      \n",
            "=================================================================\n",
            "Total params: 3,741,193\n",
            "Trainable params: 1,872,240\n",
            "Non-trainable params: 1,868,953\n",
            "_________________________________________________________________\n",
            "Epoch 1/50\n",
            "WARNING:tensorflow:Method (on_train_batch_end) is slow compared to the batch update (0.154440). Check your callbacks.\n",
            "15239/15239 - 524s - loss: 0.1883 - root_mean_squared_error: 0.4339 - val_loss: 0.1323 - val_root_mean_squared_error: 0.3638\n",
            "Epoch 2/50\n",
            "15239/15239 - 515s - loss: 0.1114 - root_mean_squared_error: 0.3338 - val_loss: 0.1162 - val_root_mean_squared_error: 0.3409\n",
            "Epoch 3/50\n",
            "15239/15239 - 498s - loss: 0.1049 - root_mean_squared_error: 0.3239 - val_loss: 0.1009 - val_root_mean_squared_error: 0.3177\n",
            "Epoch 4/50\n",
            "15239/15239 - 493s - loss: 0.1015 - root_mean_squared_error: 0.3186 - val_loss: 0.1055 - val_root_mean_squared_error: 0.3248\n",
            "Epoch 5/50\n",
            "15239/15239 - 494s - loss: 0.0991 - root_mean_squared_error: 0.3148 - val_loss: 0.1027 - val_root_mean_squared_error: 0.3205\n",
            "Epoch 6/50\n",
            "15239/15239 - 493s - loss: 0.0971 - root_mean_squared_error: 0.3117 - val_loss: 0.1007 - val_root_mean_squared_error: 0.3173\n",
            "Epoch 7/50\n",
            "15239/15239 - 488s - loss: 0.0957 - root_mean_squared_error: 0.3093 - val_loss: 0.1014 - val_root_mean_squared_error: 0.3184\n",
            "Epoch 8/50\n",
            "15239/15239 - 485s - loss: 0.0945 - root_mean_squared_error: 0.3075 - val_loss: 0.0989 - val_root_mean_squared_error: 0.3145\n",
            "Epoch 9/50\n",
            "15239/15239 - 482s - loss: 0.0935 - root_mean_squared_error: 0.3057 - val_loss: 0.0984 - val_root_mean_squared_error: 0.3137\n",
            "Epoch 10/50\n",
            "15239/15239 - 485s - loss: 0.0926 - root_mean_squared_error: 0.3043 - val_loss: 0.1185 - val_root_mean_squared_error: 0.3442\n",
            "Epoch 11/50\n",
            "15239/15239 - 483s - loss: 0.0916 - root_mean_squared_error: 0.3026 - val_loss: 0.0981 - val_root_mean_squared_error: 0.3133\n",
            "Epoch 12/50\n",
            "15239/15239 - 486s - loss: 0.0910 - root_mean_squared_error: 0.3017 - val_loss: 0.0983 - val_root_mean_squared_error: 0.3136\n",
            "Epoch 13/50\n",
            "15239/15239 - 492s - loss: 0.0902 - root_mean_squared_error: 0.3004 - val_loss: 0.1010 - val_root_mean_squared_error: 0.3177\n",
            "Epoch 14/50\n",
            "15239/15239 - 490s - loss: 0.0896 - root_mean_squared_error: 0.2993 - val_loss: 0.1020 - val_root_mean_squared_error: 0.3193\n",
            "Epoch 15/50\n",
            "15239/15239 - 489s - loss: 0.0891 - root_mean_squared_error: 0.2986 - val_loss: 0.1015 - val_root_mean_squared_error: 0.3186\n",
            "Epoch 16/50\n",
            "15239/15239 - 488s - loss: 0.0886 - root_mean_squared_error: 0.2976 - val_loss: 0.0988 - val_root_mean_squared_error: 0.3143\n",
            "Epoch 17/50\n",
            "15239/15239 - 490s - loss: 0.0882 - root_mean_squared_error: 0.2970 - val_loss: 0.0976 - val_root_mean_squared_error: 0.3123\n",
            "Epoch 18/50\n",
            "15239/15239 - 487s - loss: 0.0877 - root_mean_squared_error: 0.2962 - val_loss: 0.1001 - val_root_mean_squared_error: 0.3164\n",
            "Epoch 19/50\n",
            "15239/15239 - 484s - loss: 0.0874 - root_mean_squared_error: 0.2956 - val_loss: 0.1001 - val_root_mean_squared_error: 0.3164\n",
            "Epoch 20/50\n",
            "15239/15239 - 484s - loss: 0.0871 - root_mean_squared_error: 0.2952 - val_loss: 0.1001 - val_root_mean_squared_error: 0.3163\n",
            "Epoch 21/50\n",
            "15239/15239 - 488s - loss: 0.0868 - root_mean_squared_error: 0.2946 - val_loss: 0.0991 - val_root_mean_squared_error: 0.3148\n",
            "Epoch 22/50\n",
            "15239/15239 - 501s - loss: 0.0865 - root_mean_squared_error: 0.2941 - val_loss: 0.0986 - val_root_mean_squared_error: 0.3140\n",
            "Epoch 23/50\n",
            "15239/15239 - 496s - loss: 0.0863 - root_mean_squared_error: 0.2938 - val_loss: 0.1016 - val_root_mean_squared_error: 0.3187\n",
            "Epoch 24/50\n",
            "15239/15239 - 485s - loss: 0.0861 - root_mean_squared_error: 0.2933 - val_loss: 0.0990 - val_root_mean_squared_error: 0.3147\n",
            "Epoch 25/50\n",
            "15239/15239 - 483s - loss: 0.0858 - root_mean_squared_error: 0.2929 - val_loss: 0.1052 - val_root_mean_squared_error: 0.3244\n",
            "Epoch 26/50\n",
            "15239/15239 - 483s - loss: 0.0856 - root_mean_squared_error: 0.2927 - val_loss: 0.1000 - val_root_mean_squared_error: 0.3162\n",
            "Epoch 27/50\n",
            "15239/15239 - 482s - loss: 0.0854 - root_mean_squared_error: 0.2923 - val_loss: 0.0991 - val_root_mean_squared_error: 0.3149\n",
            "Epoch 28/50\n",
            "15239/15239 - 479s - loss: 0.0851 - root_mean_squared_error: 0.2917 - val_loss: 0.0999 - val_root_mean_squared_error: 0.3161\n",
            "Epoch 29/50\n",
            "15239/15239 - 480s - loss: 0.0853 - root_mean_squared_error: 0.2921 - val_loss: 0.1007 - val_root_mean_squared_error: 0.3173\n",
            "Epoch 30/50\n",
            "15239/15239 - 478s - loss: 0.0848 - root_mean_squared_error: 0.2911 - val_loss: 0.1011 - val_root_mean_squared_error: 0.3179\n",
            "Epoch 31/50\n",
            "15239/15239 - 481s - loss: 0.0848 - root_mean_squared_error: 0.2912 - val_loss: 0.1000 - val_root_mean_squared_error: 0.3162\n",
            "Epoch 32/50\n",
            "15239/15239 - 481s - loss: 0.0845 - root_mean_squared_error: 0.2908 - val_loss: 0.0996 - val_root_mean_squared_error: 0.3157\n",
            "Epoch 33/50\n",
            "15239/15239 - 481s - loss: 0.0843 - root_mean_squared_error: 0.2903 - val_loss: 0.1003 - val_root_mean_squared_error: 0.3168\n",
            "Epoch 34/50\n",
            "15239/15239 - 481s - loss: 0.0843 - root_mean_squared_error: 0.2904 - val_loss: 0.1082 - val_root_mean_squared_error: 0.3290\n",
            "Epoch 35/50\n",
            "15239/15239 - 482s - loss: 0.0844 - root_mean_squared_error: 0.2905 - val_loss: 0.1014 - val_root_mean_squared_error: 0.3185\n",
            "Epoch 36/50\n",
            "15239/15239 - 480s - loss: 0.0841 - root_mean_squared_error: 0.2900 - val_loss: 0.0994 - val_root_mean_squared_error: 0.3153\n",
            "Epoch 37/50\n",
            "15239/15239 - 483s - loss: 0.0838 - root_mean_squared_error: 0.2895 - val_loss: 0.1015 - val_root_mean_squared_error: 0.3186\n",
            "Epoch 38/50\n",
            "15239/15239 - 484s - loss: 0.0838 - root_mean_squared_error: 0.2895 - val_loss: 0.1018 - val_root_mean_squared_error: 0.3191\n",
            "Epoch 39/50\n",
            "15239/15239 - 483s - loss: 0.0837 - root_mean_squared_error: 0.2893 - val_loss: 0.0997 - val_root_mean_squared_error: 0.3158\n",
            "Epoch 40/50\n",
            "15239/15239 - 482s - loss: 0.0836 - root_mean_squared_error: 0.2892 - val_loss: 0.1041 - val_root_mean_squared_error: 0.3226\n",
            "Epoch 41/50\n",
            "15239/15239 - 482s - loss: 0.0836 - root_mean_squared_error: 0.2891 - val_loss: 0.1015 - val_root_mean_squared_error: 0.3185\n",
            "Epoch 42/50\n",
            "15239/15239 - 481s - loss: 0.0833 - root_mean_squared_error: 0.2886 - val_loss: 0.1014 - val_root_mean_squared_error: 0.3185\n",
            "Epoch 43/50\n",
            "15239/15239 - 486s - loss: 0.0834 - root_mean_squared_error: 0.2887 - val_loss: 0.1002 - val_root_mean_squared_error: 0.3166\n",
            "Epoch 44/50\n",
            "15239/15239 - 483s - loss: 0.0833 - root_mean_squared_error: 0.2886 - val_loss: 0.1014 - val_root_mean_squared_error: 0.3184\n",
            "Epoch 45/50\n",
            "15239/15239 - 486s - loss: 0.0832 - root_mean_squared_error: 0.2885 - val_loss: 0.1023 - val_root_mean_squared_error: 0.3198\n",
            "Epoch 46/50\n",
            "15239/15239 - 487s - loss: 0.0832 - root_mean_squared_error: 0.2884 - val_loss: 0.0998 - val_root_mean_squared_error: 0.3159\n",
            "Epoch 47/50\n",
            "15239/15239 - 482s - loss: 0.0835 - root_mean_squared_error: 0.2890 - val_loss: 0.0996 - val_root_mean_squared_error: 0.3156\n",
            "Epoch 48/50\n",
            "15239/15239 - 481s - loss: 0.0832 - root_mean_squared_error: 0.2885 - val_loss: 0.0999 - val_root_mean_squared_error: 0.3161\n",
            "Epoch 49/50\n",
            "15239/15239 - 482s - loss: 0.0835 - root_mean_squared_error: 0.2890 - val_loss: 0.1003 - val_root_mean_squared_error: 0.3167\n",
            "Epoch 50/50\n",
            "15239/15239 - 488s - loss: 0.0831 - root_mean_squared_error: 0.2882 - val_loss: 0.1000 - val_root_mean_squared_error: 0.3162\n",
            "'cnn_TH=2hr_PH=20mins.h5'\t      'lstm_TH=2hrs_PH=20mins.h5'\n",
            "'cnn_TH=2hr_PH=20mins_history'\t      'lstm_TH=2hrs_PH=20mins_history'\n",
            "'cnn_TH=2hrs_PH=30mins.h5'\t      'lstm_TH=2hrs_PH=30mins.h5'\n",
            "'cnn_TH=2hrs_PH=30mins_history'       'lstm_TH=2hrs_PH=30mins_history'\n",
            "'crnn_TH=2hrs_PH=20mins.h5'\t      'pruned_crnn_TH=2hrs_PH=20mins.h5'\n",
            "'crnn_TH=2hrs_PH=20mins_history'      'pruned_crnn_TH=2hrs_PH=20mins_history'\n",
            "'crnn_TH=2hrs_PH=30mins.h5'\t      'pruned_crnn_TH=2hrs_PH=30mins.h5'\n",
            "'crnn_TH=2hrs_PH=30mins_history'      'pruned_crnn_TH=2hrs_PH=30mins_history'\n",
            "'dense_net_TH=2hr_PH=20mins_history'  'pruned_lstm_TH=2hrs_PH=20mins.h5'\n",
            "'dense_TH=2hr_PH=20mins.h5'\t      'pruned_lstm_TH=2hrs_PH=20mins_history'\n",
            "'dense_TH=2hr_PH=30mins.h5'\t      'pruned_lstm_TH=2hrs_PH=30mins.h5'\n",
            "'dense_TH=2hr_PH=30mins_history'      'pruned_lstm_TH=2hrs_PH=30mins_history'\n"
          ],
          "name": "stdout"
        }
      ]
    },
    {
      "cell_type": "markdown",
      "metadata": {
        "id": "i5F2Ff_mu6Pl",
        "colab_type": "text"
      },
      "source": [
        "#### Comparison with CRNN"
      ]
    },
    {
      "cell_type": "code",
      "metadata": {
        "id": "kLAJDbUfu3ad",
        "colab_type": "code",
        "colab": {
          "base_uri": "https://localhost:8080/",
          "height": 561
        },
        "outputId": "28e17a5d-e7a1-4e3a-ea3e-1ad1d1eb209f"
      },
      "source": [
        "crnn_train_loss = json.load(open('saved_models/crnn_TH=2hrs_PH=30mins_history'))['loss'][1:]\n",
        "crnn_val_loss = json.load(open('saved_models/crnn_TH=2hrs_PH=30mins_history'))['val_loss'][1:]\n",
        "\n",
        "pruned_crnn_train_loss = json.load(open('saved_models/pruned_crnn_TH=2hrs_PH=30mins_history'))['loss'][1:]\n",
        "pruned_crnn_val_loss = json.load(open('saved_models/pruned_crnn_TH=2hrs_PH=30mins_history'))['val_loss'][1:]\n",
        "\n",
        "epochs = np.arange(1,50)\n",
        "\n",
        "print(len(crnn_train_loss), epochs.shape)\n",
        "\n",
        "plt.plot(epochs, crnn_train_loss, label='CRNN')\n",
        "plt.plot(epochs, pruned_crnn_train_loss, label='Pruned CRNN')\n",
        "plt.xlabel('Epochs')\n",
        "plt.ylabel('Train loss')\n",
        "plt.legend()\n",
        "plt.show()\n",
        "\n",
        "plt.plot(epochs, crnn_val_loss, label='LSTM')\n",
        "plt.plot(epochs, pruned_crnn_val_loss, label='Pruned CRNN')\n",
        "plt.xlabel('Epochs')\n",
        "plt.ylabel('Validation loss')\n",
        "plt.legend()\n",
        "plt.show()"
      ],
      "execution_count": null,
      "outputs": [
        {
          "output_type": "stream",
          "text": [
            "49 (49,)\n"
          ],
          "name": "stdout"
        },
        {
          "output_type": "display_data",
          "data": {
            "image/png": "[encoded data removed]",
            "text/plain": [
              "<Figure size 432x288 with 1 Axes>"
            ]
          },
          "metadata": {
            "tags": [],
            "needs_background": "light"
          }
        },
        {
          "output_type": "display_data",
          "data": {
            "image/png": "[encoded data removed]",
            "text/plain": [
              "<Figure size 432x288 with 1 Axes>"
            ]
          },
          "metadata": {
            "tags": [],
            "needs_background": "light"
          }
        }
      ]
    },
    {
      "cell_type": "markdown",
      "metadata": {
        "id": "qqPxwCnWBK1I",
        "colab_type": "text"
      },
      "source": [
        "LSTM seems to be the best performing architecture.  Below I try pruning around ~10 epochs for 30 min PH and ~20 epochs for 20 min PH to see if it helps with overfitting."
      ]
    },
    {
      "cell_type": "markdown",
      "metadata": {
        "id": "lrxnDG8BBuxY",
        "colab_type": "text"
      },
      "source": [
        "# Pruned LSTM"
      ]
    },
    {
      "cell_type": "markdown",
      "metadata": {
        "id": "Hs-30qLPSg1g",
        "colab_type": "text"
      },
      "source": [
        "## TH = 2hrs, PH = 20 mins"
      ]
    },
    {
      "cell_type": "code",
      "metadata": {
        "id": "XAYCeMDGBrS4",
        "colab_type": "code",
        "colab": {
          "base_uri": "https://localhost:8080/",
          "height": 926
        },
        "outputId": "1b06a145-30e1-4cc5-bea7-75c2bd997d6e"
      },
      "source": [
        "PH = 2\n",
        "TIME_HORIZON = 12\n",
        "RESOLUTION = 10\n",
        "BATCH_SIZE = 128\n",
        "EPOCHS = 50\n",
        "BATCH = True\n",
        "\n",
        "train_data, train_label, test_data, test_label = load_data(TIME_HORIZON, PH, RESOLUTION, BATCH)\n",
        "\n",
        "prune_low_magnitude = tfmot.sparsity.keras.prune_low_magnitude\n",
        "\n",
        "pruning_params = {\n",
        "      'pruning_schedule': tfmot.sparsity.keras.PolynomialDecay(initial_sparsity=0.50,\n",
        "                                                               final_sparsity=0.98,\n",
        "                                                               begin_step=15,\n",
        "                                                               end_step=EPOCHS)\n",
        "}\n",
        "\n",
        "model_for_pruning = prune_low_magnitude(lstm(PH))#tf.keras.models.load_model('saved_models/lstm_TH=2hrs_PH=20mins.h5'), **pruning_params)\n",
        "\n",
        "model_for_pruning.compile(optimizer='adam',\n",
        "                          loss='mean_squared_error',\n",
        "                          metrics=[tf.keras.metrics.RootMeanSquaredError()])\n",
        "\n",
        "model_for_pruning.summary()\n",
        "\n",
        "logdir = tempfile.mkdtemp()\n",
        "\n",
        "callbacks = [\n",
        "  tfmot.sparsity.keras.UpdatePruningStep(),\n",
        "  tfmot.sparsity.keras.PruningSummaries(log_dir=logdir),\n",
        "]\n",
        "  \n",
        "pruned_lstm = model_for_pruning.fit(x=train_data,\n",
        "                                    y=train_label,\n",
        "                                    batch_size=BATCH_SIZE,\n",
        "                                    epochs=EPOCHS,\n",
        "                                    validation_data=(test_data, test_label),\n",
        "                                    callbacks=callbacks)\n",
        "\n",
        "json.dump(pruned_lstm.history, open('saved_models/pruned_lstm_TH=2hrs_PH=20mins_history', 'w'))\n",
        "\n",
        "model_for_export = tfmot.sparsity.keras.strip_pruning(model_for_pruning)\n",
        "tf.keras.models.save_model(model_for_export, 'saved_models/pruned_lstm_TH=2hrs_PH=20mins.h5', include_optimizer=False)\n",
        "\n",
        "!ls saved_models"
      ],
      "execution_count": null,
      "outputs": [
        {
          "output_type": "stream",
          "text": [
            "WARNING:tensorflow:Layer lstm_3 will not use cuDNN kernel since it doesn't meet the cuDNN kernel criteria. It will use generic GPU kernel as fallback when running on GPU\n",
            "WARNING:tensorflow:From /usr/local/lib/python3.6/dist-packages/tensorflow_model_optimization/python/core/sparsity/keras/pruning_wrapper.py:199: Layer.add_variable (from tensorflow.python.keras.engine.base_layer) is deprecated and will be removed in a future version.\n",
            "Instructions for updating:\n",
            "Please use `layer.add_weight` method instead.\n",
            "Model: \"sequential\"\n",
            "_________________________________________________________________\n",
            "Layer (type)                 Output Shape              Param #   \n",
            "=================================================================\n",
            "prune_low_magnitude_lstm (Pr (None, 12, 200)           325603    \n",
            "_________________________________________________________________\n",
            "prune_low_magnitude_lstm_1 ( (None, 12, 200)           640803    \n",
            "_________________________________________________________________\n",
            "prune_low_magnitude_lstm_2 ( (None, 12, 200)           640803    \n",
            "_________________________________________________________________\n",
            "prune_low_magnitude_lstm_3 ( (None, 2)                 3243      \n",
            "=================================================================\n",
            "Total params: 1,610,452\n",
            "Trainable params: 806,424\n",
            "Non-trainable params: 804,028\n",
            "_________________________________________________________________\n",
            "Epoch 1/50\n",
            "7679/7679 [==============================] - 273s 35ms/step - loss: 0.2306 - root_mean_squared_error: 0.4802 - val_loss: 0.1040 - val_root_mean_squared_error: 0.3226\n",
            "Epoch 2/50\n",
            "7679/7679 [==============================] - 272s 35ms/step - loss: 0.1028 - root_mean_squared_error: 0.3207 - val_loss: 0.1010 - val_root_mean_squared_error: 0.3177\n",
            "Epoch 3/50\n",
            "7679/7679 [==============================] - 272s 35ms/step - loss: 0.0987 - root_mean_squared_error: 0.3141 - val_loss: 0.0999 - val_root_mean_squared_error: 0.3161\n",
            "Epoch 4/50\n",
            "7679/7679 [==============================] - 272s 35ms/step - loss: 0.0958 - root_mean_squared_error: 0.3096 - val_loss: 0.0972 - val_root_mean_squared_error: 0.3117\n",
            "Epoch 5/50\n",
            "7679/7679 [==============================] - 272s 35ms/step - loss: 0.0943 - root_mean_squared_error: 0.3070 - val_loss: 0.0983 - val_root_mean_squared_error: 0.3136\n",
            "Epoch 6/50\n",
            "7679/7679 [==============================] - 277s 36ms/step - loss: 0.0929 - root_mean_squared_error: 0.3048 - val_loss: 0.0965 - val_root_mean_squared_error: 0.3106\n",
            "Epoch 7/50\n",
            "7679/7679 [==============================] - 274s 36ms/step - loss: 0.0918 - root_mean_squared_error: 0.3030 - val_loss: 0.0933 - val_root_mean_squared_error: 0.3055\n",
            "Epoch 8/50\n",
            "7679/7679 [==============================] - 272s 35ms/step - loss: 0.0910 - root_mean_squared_error: 0.3017 - val_loss: 0.0911 - val_root_mean_squared_error: 0.3019\n",
            "Epoch 9/50\n",
            "7679/7679 [==============================] - 270s 35ms/step - loss: 0.0903 - root_mean_squared_error: 0.3005 - val_loss: 0.0953 - val_root_mean_squared_error: 0.3088\n",
            "Epoch 10/50\n",
            "7679/7679 [==============================] - 270s 35ms/step - loss: 0.0896 - root_mean_squared_error: 0.2993 - val_loss: 0.0933 - val_root_mean_squared_error: 0.3055\n",
            "Epoch 11/50\n",
            "7679/7679 [==============================] - 269s 35ms/step - loss: 0.0890 - root_mean_squared_error: 0.2983 - val_loss: 0.0907 - val_root_mean_squared_error: 0.3011\n",
            "Epoch 12/50\n",
            "7679/7679 [==============================] - 266s 35ms/step - loss: 0.0884 - root_mean_squared_error: 0.2973 - val_loss: 0.0907 - val_root_mean_squared_error: 0.3011\n",
            "Epoch 13/50\n",
            "7679/7679 [==============================] - 276s 36ms/step - loss: 0.0877 - root_mean_squared_error: 0.2961 - val_loss: 0.0906 - val_root_mean_squared_error: 0.3011\n",
            "Epoch 14/50\n",
            "7679/7679 [==============================] - 275s 36ms/step - loss: 0.0872 - root_mean_squared_error: 0.2953 - val_loss: 0.0922 - val_root_mean_squared_error: 0.3037\n",
            "Epoch 15/50\n",
            "1819/7679 [======>.......................] - ETA: 3:15 - loss: 0.0867 - root_mean_squared_error: 0.2945Buffered data was truncated after reaching the output size limit."
          ],
          "name": "stdout"
        }
      ]
    },
    {
      "cell_type": "markdown",
      "metadata": {
        "id": "2Y0jridvRvnG",
        "colab_type": "text"
      },
      "source": [
        "#### Comparison with LSTM"
      ]
    },
    {
      "cell_type": "code",
      "metadata": {
        "id": "0tRspzo0sGt9",
        "colab_type": "code",
        "colab": {
          "base_uri": "https://localhost:8080/",
          "height": 559
        },
        "outputId": "14ba1851-1846-4bbd-808e-f768ce714f24"
      },
      "source": [
        "lstm_train_loss = json.load(open('saved_models/lstm_TH=2hrs_PH=20mins_history'))['loss'][1:]\n",
        "lstm_val_loss = json.load(open('saved_models/lstm_TH=2hrs_PH=20mins_history'))['val_loss'][1:]\n",
        "\n",
        "pruned_lstm_train_loss = json.load(open('saved_models/pruned_lstm_TH=2hrs_PH=20mins_history'))['loss'][1:]\n",
        "pruned_lstm_val_loss = json.load(open('saved_models/pruned_lstm_TH=2hrs_PH=20mins_history'))['val_loss'][1:]\n",
        "\n",
        "epochs = np.arange(1,50)\n",
        "\n",
        "print(len(lstm_train_loss), epochs.shape)\n",
        "\n",
        "plt.plot(epochs, lstm_train_loss, label='LSTM')\n",
        "plt.plot(epochs, pruned_lstm_train_loss, label='Pruned LSTM (98% sparse)')\n",
        "plt.xlabel('Epochs')\n",
        "plt.ylabel('Train MSE')\n",
        "plt.legend()\n",
        "plt.show()\n",
        "\n",
        "plt.plot(epochs, lstm_val_loss, label='LSTM')\n",
        "plt.plot(epochs, pruned_lstm_val_loss, label='Pruned LSTM (98% sparse)')\n",
        "plt.xlabel('Epochs')\n",
        "plt.ylabel('Validation MSE')\n",
        "plt.legend()\n",
        "plt.show()"
      ],
      "execution_count": null,
      "outputs": [
        {
          "output_type": "stream",
          "text": [
            "49 (49,)\n"
          ],
          "name": "stdout"
        },
        {
          "output_type": "display_data",
          "data": {
            "image/png": "[encoded data removed]",
            "text/plain": [
              "<Figure size 432x288 with 1 Axes>"
            ]
          },
          "metadata": {
            "tags": [],
            "needs_background": "light"
          }
        },
        {
          "output_type": "display_data",
          "data": {
            "image/png": "[encoded data removed]",
            "text/plain": [
              "<Figure size 432x288 with 1 Axes>"
            ]
          },
          "metadata": {
            "tags": [],
            "needs_background": "light"
          }
        }
      ]
    },
    {
      "cell_type": "markdown",
      "metadata": {
        "id": "W8Xuys3IJk0-",
        "colab_type": "text"
      },
      "source": [
        "## TH = 2hrs, PH = 30 mins"
      ]
    },
    {
      "cell_type": "code",
      "metadata": {
        "id": "3GOsmMPOJJn6",
        "colab_type": "code",
        "colab": {
          "base_uri": "https://localhost:8080/",
          "height": 1000
        },
        "outputId": "07372ccd-b3ae-4a02-f2dc-881ec277c01c"
      },
      "source": [
        "PH = 3\n",
        "TIME_HORIZON = 12\n",
        "RESOLUTION = 10\n",
        "BATCH_SIZE = 128\n",
        "EPOCHS = 50\n",
        "BATCH = True\n",
        "\n",
        "train_data, train_label, test_data, test_label = load_data(TIME_HORIZON, PH, RESOLUTION, BATCH)\n",
        "\n",
        "prune_low_magnitude = tfmot.sparsity.keras.prune_low_magnitude\n",
        "\n",
        "pruning_params = {\n",
        "      'pruning_schedule': tfmot.sparsity.keras.PolynomialDecay(initial_sparsity=0.75,\n",
        "                                                               final_sparsity=0.95,\n",
        "                                                               begin_step=15,\n",
        "                                                               end_step=EPOCHS)\n",
        "}\n",
        "\n",
        "model_for_pruning = prune_low_magnitude(lstm(PH))#tf.keras.models.load_model('saved_models/lstm_TH=2hrs_PH=30mins.h5'), **pruning_params)\n",
        "\n",
        "model_for_pruning.compile(optimizer='adam',\n",
        "                          loss='mean_squared_error',\n",
        "                          metrics=[tf.keras.metrics.RootMeanSquaredError()])\n",
        "\n",
        "model_for_pruning.summary()\n",
        "\n",
        "logdir = tempfile.mkdtemp()\n",
        "\n",
        "callbacks = [\n",
        "  tfmot.sparsity.keras.UpdatePruningStep(),\n",
        "  tfmot.sparsity.keras.PruningSummaries(log_dir=logdir),\n",
        "]\n",
        "  \n",
        "pruned_lstm = model_for_pruning.fit(x=train_data,\n",
        "                                    y=train_label,\n",
        "                                    batch_size=BATCH_SIZE,\n",
        "                                    epochs=EPOCHS,\n",
        "                                    verbose=2,\n",
        "                                    validation_data=(test_data, test_label),\n",
        "                                    callbacks=callbacks)\n",
        "\n",
        "json.dump(pruned_lstm.history, open('saved_models/pruned_lstm_TH=2hrs_PH=30mins_history', 'w'))\n",
        "\n",
        "model_for_export = tfmot.sparsity.keras.strip_pruning(model_for_pruning)\n",
        "tf.keras.models.save_model(model_for_export, 'saved_models/pruned_lstm_TH=2hrs_PH=30mins.h5', include_optimizer=False)\n",
        "\n",
        "!ls saved_models"
      ],
      "execution_count": null,
      "outputs": [
        {
          "output_type": "stream",
          "text": [
            "WARNING:tensorflow:Layer lstm_7 will not use cuDNN kernel since it doesn't meet the cuDNN kernel criteria. It will use generic GPU kernel as fallback when running on GPU\n",
            "Model: \"sequential_1\"\n",
            "_________________________________________________________________\n",
            "Layer (type)                 Output Shape              Param #   \n",
            "=================================================================\n",
            "prune_low_magnitude_lstm_4 ( (None, 12, 200)           325603    \n",
            "_________________________________________________________________\n",
            "prune_low_magnitude_lstm_5 ( (None, 12, 200)           640803    \n",
            "_________________________________________________________________\n",
            "prune_low_magnitude_lstm_6 ( (None, 12, 200)           640803    \n",
            "_________________________________________________________________\n",
            "prune_low_magnitude_lstm_7 ( (None, 3)                 4887      \n",
            "=================================================================\n",
            "Total params: 1,612,096\n",
            "Trainable params: 807,248\n",
            "Non-trainable params: 804,848\n",
            "_________________________________________________________________\n",
            "Epoch 1/50\n",
            "WARNING:tensorflow:Method (on_train_batch_end) is slow compared to the batch update (0.137106). Check your callbacks.\n",
            "7620/7620 - 235s - loss: 0.3806 - root_mean_squared_error: 0.6170 - val_loss: 0.1423 - val_root_mean_squared_error: 0.3772\n",
            "Epoch 2/50\n",
            "7620/7620 - 234s - loss: 0.1089 - root_mean_squared_error: 0.3300 - val_loss: 0.1041 - val_root_mean_squared_error: 0.3227\n",
            "Epoch 3/50\n",
            "7620/7620 - 231s - loss: 0.1034 - root_mean_squared_error: 0.3216 - val_loss: 0.1045 - val_root_mean_squared_error: 0.3232\n",
            "Epoch 4/50\n",
            "7620/7620 - 231s - loss: 0.1005 - root_mean_squared_error: 0.3170 - val_loss: 0.1034 - val_root_mean_squared_error: 0.3216\n",
            "Epoch 5/50\n",
            "7620/7620 - 231s - loss: 0.0984 - root_mean_squared_error: 0.3138 - val_loss: 0.1061 - val_root_mean_squared_error: 0.3258\n",
            "Epoch 6/50\n",
            "7620/7620 - 234s - loss: 0.0969 - root_mean_squared_error: 0.3113 - val_loss: 0.0985 - val_root_mean_squared_error: 0.3138\n",
            "Epoch 7/50\n",
            "7620/7620 - 234s - loss: 0.0957 - root_mean_squared_error: 0.3094 - val_loss: 0.1003 - val_root_mean_squared_error: 0.3167\n",
            "Epoch 8/50\n",
            "7620/7620 - 233s - loss: 0.0946 - root_mean_squared_error: 0.3076 - val_loss: 0.0981 - val_root_mean_squared_error: 0.3132\n",
            "Epoch 9/50\n",
            "7620/7620 - 233s - loss: 0.0939 - root_mean_squared_error: 0.3064 - val_loss: 0.0988 - val_root_mean_squared_error: 0.3143\n",
            "Epoch 10/50\n",
            "7620/7620 - 233s - loss: 0.0928 - root_mean_squared_error: 0.3047 - val_loss: 0.0998 - val_root_mean_squared_error: 0.3160\n",
            "Epoch 11/50\n",
            "7620/7620 - 234s - loss: 0.0919 - root_mean_squared_error: 0.3032 - val_loss: 0.1041 - val_root_mean_squared_error: 0.3226\n",
            "Epoch 12/50\n",
            "7620/7620 - 236s - loss: 0.0914 - root_mean_squared_error: 0.3023 - val_loss: 0.0947 - val_root_mean_squared_error: 0.3077\n",
            "Epoch 13/50\n",
            "7620/7620 - 237s - loss: 0.0908 - root_mean_squared_error: 0.3013 - val_loss: 0.0958 - val_root_mean_squared_error: 0.3095\n",
            "Epoch 14/50\n",
            "7620/7620 - 239s - loss: 0.0901 - root_mean_squared_error: 0.3002 - val_loss: 0.1040 - val_root_mean_squared_error: 0.3225\n",
            "Epoch 15/50\n",
            "7620/7620 - 239s - loss: 0.0896 - root_mean_squared_error: 0.2992 - val_loss: 0.1009 - val_root_mean_squared_error: 0.3176\n",
            "Epoch 16/50\n",
            "7620/7620 - 239s - loss: 0.0890 - root_mean_squared_error: 0.2983 - val_loss: 0.0955 - val_root_mean_squared_error: 0.3090\n",
            "Epoch 17/50\n",
            "7620/7620 - 237s - loss: 0.0885 - root_mean_squared_error: 0.2974 - val_loss: 0.0945 - val_root_mean_squared_error: 0.3075\n",
            "Epoch 18/50\n",
            "7620/7620 - 240s - loss: 0.0880 - root_mean_squared_error: 0.2966 - val_loss: 0.0966 - val_root_mean_squared_error: 0.3109\n",
            "Epoch 19/50\n",
            "7620/7620 - 246s - loss: 0.0876 - root_mean_squared_error: 0.2960 - val_loss: 0.0958 - val_root_mean_squared_error: 0.3095\n",
            "Epoch 20/50\n",
            "7620/7620 - 239s - loss: 0.0872 - root_mean_squared_error: 0.2953 - val_loss: 0.0959 - val_root_mean_squared_error: 0.3096\n",
            "Epoch 21/50\n",
            "7620/7620 - 239s - loss: 0.0868 - root_mean_squared_error: 0.2946 - val_loss: 0.0963 - val_root_mean_squared_error: 0.3104\n",
            "Epoch 22/50\n",
            "7620/7620 - 243s - loss: 0.0864 - root_mean_squared_error: 0.2939 - val_loss: 0.0976 - val_root_mean_squared_error: 0.3124\n",
            "Epoch 23/50\n",
            "7620/7620 - 243s - loss: 0.0859 - root_mean_squared_error: 0.2931 - val_loss: 0.0970 - val_root_mean_squared_error: 0.3114\n",
            "Epoch 24/50\n",
            "7620/7620 - 243s - loss: 0.0856 - root_mean_squared_error: 0.2925 - val_loss: 0.0969 - val_root_mean_squared_error: 0.3113\n",
            "Epoch 25/50\n",
            "7620/7620 - 240s - loss: 0.0852 - root_mean_squared_error: 0.2918 - val_loss: 0.0971 - val_root_mean_squared_error: 0.3115\n",
            "Epoch 26/50\n",
            "7620/7620 - 239s - loss: 0.0848 - root_mean_squared_error: 0.2912 - val_loss: 0.0968 - val_root_mean_squared_error: 0.3112\n",
            "Epoch 27/50\n",
            "7620/7620 - 239s - loss: 0.0844 - root_mean_squared_error: 0.2905 - val_loss: 0.1019 - val_root_mean_squared_error: 0.3193\n",
            "Epoch 28/50\n",
            "7620/7620 - 239s - loss: 0.0841 - root_mean_squared_error: 0.2901 - val_loss: 0.0993 - val_root_mean_squared_error: 0.3151\n",
            "Epoch 29/50\n",
            "7620/7620 - 239s - loss: 0.0837 - root_mean_squared_error: 0.2894 - val_loss: 0.0975 - val_root_mean_squared_error: 0.3123\n",
            "Epoch 30/50\n",
            "7620/7620 - 240s - loss: 0.0834 - root_mean_squared_error: 0.2888 - val_loss: 0.1004 - val_root_mean_squared_error: 0.3169\n",
            "Epoch 31/50\n",
            "7620/7620 - 240s - loss: 0.0831 - root_mean_squared_error: 0.2883 - val_loss: 0.0987 - val_root_mean_squared_error: 0.3141\n",
            "Epoch 32/50\n",
            "7620/7620 - 243s - loss: 0.0828 - root_mean_squared_error: 0.2877 - val_loss: 0.1044 - val_root_mean_squared_error: 0.3231\n",
            "Epoch 33/50\n",
            "7620/7620 - 241s - loss: 0.0825 - root_mean_squared_error: 0.2872 - val_loss: 0.0994 - val_root_mean_squared_error: 0.3152\n",
            "Epoch 34/50\n",
            "7620/7620 - 241s - loss: 0.0821 - root_mean_squared_error: 0.2866 - val_loss: 0.1022 - val_root_mean_squared_error: 0.3197\n",
            "Epoch 35/50\n",
            "7620/7620 - 234s - loss: 0.0819 - root_mean_squared_error: 0.2862 - val_loss: 0.0993 - val_root_mean_squared_error: 0.3151\n",
            "Epoch 36/50\n",
            "7620/7620 - 233s - loss: 0.0816 - root_mean_squared_error: 0.2857 - val_loss: 0.1015 - val_root_mean_squared_error: 0.3186\n",
            "Epoch 37/50\n",
            "7620/7620 - 236s - loss: 0.0813 - root_mean_squared_error: 0.2852 - val_loss: 0.0993 - val_root_mean_squared_error: 0.3151\n",
            "Epoch 38/50\n",
            "7620/7620 - 237s - loss: 0.0810 - root_mean_squared_error: 0.2846 - val_loss: 0.1016 - val_root_mean_squared_error: 0.3187\n",
            "Epoch 39/50\n",
            "7620/7620 - 239s - loss: 0.0807 - root_mean_squared_error: 0.2841 - val_loss: 0.1004 - val_root_mean_squared_error: 0.3169\n",
            "Epoch 40/50\n",
            "7620/7620 - 237s - loss: 0.0805 - root_mean_squared_error: 0.2837 - val_loss: 0.1030 - val_root_mean_squared_error: 0.3209\n",
            "Epoch 41/50\n",
            "7620/7620 - 236s - loss: 0.0802 - root_mean_squared_error: 0.2832 - val_loss: 0.1008 - val_root_mean_squared_error: 0.3175\n",
            "Epoch 42/50\n",
            "7620/7620 - 234s - loss: 0.0800 - root_mean_squared_error: 0.2828 - val_loss: 0.1024 - val_root_mean_squared_error: 0.3200\n",
            "Epoch 43/50\n",
            "7620/7620 - 232s - loss: 0.0797 - root_mean_squared_error: 0.2824 - val_loss: 0.1032 - val_root_mean_squared_error: 0.3212\n",
            "Epoch 44/50\n",
            "7620/7620 - 232s - loss: 0.0795 - root_mean_squared_error: 0.2819 - val_loss: 0.1042 - val_root_mean_squared_error: 0.3228\n",
            "Epoch 45/50\n",
            "7620/7620 - 236s - loss: 0.0792 - root_mean_squared_error: 0.2815 - val_loss: 0.1011 - val_root_mean_squared_error: 0.3180\n",
            "Epoch 46/50\n",
            "7620/7620 - 238s - loss: 0.0790 - root_mean_squared_error: 0.2811 - val_loss: 0.1019 - val_root_mean_squared_error: 0.3193\n",
            "Epoch 47/50\n",
            "7620/7620 - 239s - loss: 0.0788 - root_mean_squared_error: 0.2807 - val_loss: 0.1042 - val_root_mean_squared_error: 0.3227\n",
            "Epoch 48/50\n",
            "7620/7620 - 237s - loss: 0.0786 - root_mean_squared_error: 0.2803 - val_loss: 0.1044 - val_root_mean_squared_error: 0.3231\n",
            "Epoch 49/50\n",
            "7620/7620 - 237s - loss: 0.0784 - root_mean_squared_error: 0.2799 - val_loss: 0.1034 - val_root_mean_squared_error: 0.3216\n",
            "Epoch 50/50\n",
            "7620/7620 - 236s - loss: 0.0781 - root_mean_squared_error: 0.2794 - val_loss: 0.1037 - val_root_mean_squared_error: 0.3221\n",
            "'cnn_TH=2hr_PH=20mins.h5'\t      'dense_TH=2hr_PH=30mins_history'\n",
            "'cnn_TH=2hr_PH=20mins_history'\t      'lstm_TH=2hrs_PH=20mins.h5'\n",
            "'cnn_TH=2hrs_PH=30mins.h5'\t      'lstm_TH=2hrs_PH=20mins_history'\n",
            "'cnn_TH=2hrs_PH=30mins_history'       'lstm_TH=2hrs_PH=30mins.h5'\n",
            "'crnn_TH=2hrs_PH=20mins.h5'\t      'lstm_TH=2hrs_PH=30mins_history'\n",
            "'crnn_TH=2hrs_PH=20mins_history'      'pruned_crnn_TH=2hrs_PH=20mins.h5'\n",
            "'crnn_TH=2hrs_PH=30mins.h5'\t      'pruned_crnn_TH=2hrs_PH=20mins_history'\n",
            "'crnn_TH=2hrs_PH=30mins_history'      'pruned_lstm_TH=2hrs_PH=20mins.h5'\n",
            "'dense_net_TH=2hr_PH=20mins_history'  'pruned_lstm_TH=2hrs_PH=20mins_history'\n",
            "'dense_TH=2hr_PH=20mins.h5'\t      'pruned_lstm_TH=2hrs_PH=30mins.h5'\n",
            "'dense_TH=2hr_PH=30mins.h5'\t      'pruned_lstm_TH=2hrs_PH=30mins_history'\n"
          ],
          "name": "stdout"
        }
      ]
    },
    {
      "cell_type": "markdown",
      "metadata": {
        "id": "64lzIo24SFMr",
        "colab_type": "text"
      },
      "source": [
        "#### Comparison with LSTM"
      ]
    },
    {
      "cell_type": "markdown",
      "metadata": {
        "id": "qdHKWaJhR0NC",
        "colab_type": "text"
      },
      "source": [
        ""
      ]
    },
    {
      "cell_type": "code",
      "metadata": {
        "id": "LZ8JztkOQu42",
        "colab_type": "code",
        "colab": {
          "base_uri": "https://localhost:8080/",
          "height": 559
        },
        "outputId": "81149e4b-d106-4aec-c8a5-de3647987126"
      },
      "source": [
        "lstm_train_loss = json.load(open('saved_models/lstm_TH=2hrs_PH=30mins_history'))['loss'][1:]\n",
        "lstm_val_loss = json.load(open('saved_models/lstm_TH=2hrs_PH=30mins_history'))['val_loss'][1:]\n",
        "\n",
        "pruned_lstm_train_loss = json.load(open('saved_models/pruned_lstm_TH=2hrs_PH=30mins_history'))['loss'][1:]\n",
        "pruned_lstm_val_loss = json.load(open('saved_models/pruned_lstm_TH=2hrs_PH=30mins_history'))['val_loss'][1:]\n",
        "\n",
        "epochs = np.arange(1,50)\n",
        "\n",
        "print(len(lstm_train_loss), epochs.shape)\n",
        "\n",
        "plt.plot(epochs, lstm_train_loss, label='LSTM')\n",
        "plt.plot(epochs, pruned_lstm_train_loss, label='Pruned LSTM (98% sparse)')\n",
        "plt.xlabel('Epochs')\n",
        "plt.ylabel('Train MSE')\n",
        "plt.legend()\n",
        "plt.show()\n",
        "\n",
        "plt.plot(epochs, lstm_val_loss, label='LSTM')\n",
        "plt.plot(epochs, pruned_lstm_val_loss, label='Pruned LSTM (98% sparse)')\n",
        "plt.xlabel('Epochs')\n",
        "plt.ylabel('Validation MSE')\n",
        "plt.legend()\n",
        "plt.show()"
      ],
      "execution_count": null,
      "outputs": [
        {
          "output_type": "stream",
          "text": [
            "49 (49,)\n"
          ],
          "name": "stdout"
        },
        {
          "output_type": "display_data",
          "data": {
            "image/png": "[encoded data removed]",
            "text/plain": [
              "<Figure size 432x288 with 1 Axes>"
            ]
          },
          "metadata": {
            "tags": [],
            "needs_background": "light"
          }
        },
        {
          "output_type": "display_data",
          "data": {
            "image/png": "[encoded data removed]",
            "text/plain": [
              "<Figure size 432x288 with 1 Axes>"
            ]
          },
          "metadata": {
            "tags": [],
            "needs_background": "light"
          }
        }
      ]
    },
    {
      "cell_type": "markdown",
      "metadata": {
        "id": "GQ75WBneBDfA",
        "colab_type": "text"
      },
      "source": [
        "# Pruned Bidirectional LSTM"
      ]
    },
    {
      "cell_type": "code",
      "metadata": {
        "id": "GZmH6LxiH2mT",
        "colab_type": "code",
        "colab": {}
      },
      "source": [
        "#class PruneBidirectional(tf.keras.layers.Bidirectional, tfmot.sparsity.keras.PrunableLayer):\n",
        "#    def get_prunable_weights(self):\n",
        "#        return self.forward_layer._trainable_weights + self.backward_layer._trainable_weights\n",
        "\n",
        "def pruned_bilstm(ph):\n",
        "\n",
        "    model = tf.keras.Sequential()\n",
        "    model.add(tfmot.sparsity.keras.prune_low_magnitude(tf.keras.layers.LSTM(200, return_sequences=True)))\n",
        "    model.add(tf.keras.layers.Bidirectional(tf.keras.layers.LSTM(200)))\n",
        "    model.add(tf.keras.layers.Dense(ph))\n",
        "\n",
        "    model.compile(optimizer='adam', loss='mean_squared_error', metrics=[tf.keras.metrics.RootMeanSquaredError()])\n",
        "\n",
        "    return model\n"
      ],
      "execution_count": null,
      "outputs": []
    },
    {
      "cell_type": "markdown",
      "metadata": {
        "id": "lBVVkxFVB-1b",
        "colab_type": "text"
      },
      "source": [
        "## TH = 2hrs, PH = 20 mins"
      ]
    },
    {
      "cell_type": "code",
      "metadata": {
        "id": "QPpE7_81CCCZ",
        "colab_type": "code",
        "colab": {}
      },
      "source": [
        "# Work in progress\n",
        "\n",
        "PH = 2\n",
        "TIME_HORIZON = 12\n",
        "RESOLUTION = 10\n",
        "BATCH_SIZE = 128\n",
        "EPOCHS = 50\n",
        "BATCH = True\n",
        "\n",
        "train_data, train_label, test_data, test_label = load_data(TIME_HORIZON, PH, RESOLUTION, BATCH)\n",
        "\n",
        "#prune_low_magnitude = tfmot.sparsity.keras.prune_low_magnitude\n",
        "\n",
        "model_for_pruning = pruned_bilstm(PH)\n",
        "\n",
        "pruning_params = {\n",
        "      'pruning_schedule': tfmot.sparsity.keras.PolynomialDecay(initial_sparsity=0.50,\n",
        "                                                               final_sparsity=0.95,\n",
        "                                                               begin_step=15,\n",
        "                                                               end_step=EPOCHS)\n",
        "}\n",
        "\n",
        "\n",
        "#model_for_pruning = prune_low_magnitude(tf.keras.models.load_model('saved_models/bilstm_TH=2hrs_PH=20mins.h5'), **pruning_params)\n",
        "\n",
        "#model_for_pruning.compile(optimizer='adam',\n",
        "#                          loss='mean_squared_error',\n",
        "#                          metrics=[tf.keras.metrics.RootMeanSquaredError()])\n",
        "\n",
        "#model_for_pruning.summary()\n",
        "\n",
        "logdir = tempfile.mkdtemp()\n",
        "\n",
        "callbacks = [\n",
        "  tfmot.sparsity.keras.UpdatePruningStep(),\n",
        "  tfmot.sparsity.keras.PruningSummaries(log_dir=logdir),\n",
        "]\n",
        "  \n",
        "pruned_bilstm = model_for_pruning.fit(x=train_data,\n",
        "                                      y=train_label,\n",
        "                                      batch_size=BATCH_SIZE,\n",
        "                                      epochs=EPOCHS,\n",
        "                                      validation_data=(test_data, test_label),\n",
        "                                      callbacks=callbacks)\n",
        "\n",
        "json.dump(pruned_bilstm.history, open('saved_models/pruned_bilstm_TH=2hrs_PH=20mins_history', 'w'))\n",
        "\n",
        "model_for_export = tfmot.sparsity.keras.strip_pruning(model_for_pruning)\n",
        "tf.keras.models.save_model(model_for_export, 'saved_models/pruned_bilstm_TH=2hrs_PH=20mins.h5', include_optimizer=False)\n",
        "\n",
        "!ls saved_models"
      ],
      "execution_count": null,
      "outputs": []
    },
    {
      "cell_type": "markdown",
      "metadata": {
        "id": "yLAzFLNaXybV",
        "colab_type": "text"
      },
      "source": [
        "# Simglucose Experiments"
      ]
    },
    {
      "cell_type": "code",
      "metadata": {
        "id": "sftkCHrRX2u1",
        "colab_type": "code",
        "colab": {
          "base_uri": "https://localhost:8080/",
          "height": 977
        },
        "outputId": "26202823-906b-4ffe-8a65-6aa53c657dd5"
      },
      "source": [
        "!pip3 install simglucose"
      ],
      "execution_count": null,
      "outputs": [
        {
          "output_type": "stream",
          "text": [
            "Collecting simglucose\n",
            "\u001b[?25l  Downloading https://files.pythonhosted.org/packages/e1/25/65287b014ef84ccb0c0173cb04c2b3e1068022444dc8f5619e18cad3dc71/simglucose-0.2.1-py3-none-any.whl (40kB)\n",
            "\u001b[K     |████████████████████████████████| 40kB 2.3MB/s \n",
            "\u001b[?25hCollecting gym==0.9.4\n",
            "\u001b[?25l  Downloading https://files.pythonhosted.org/packages/f8/9f/b50f4c04a97e316ebfccae3104e5edbfe7bc1c687ee9ebeca6fa6343d197/gym-0.9.4.tar.gz (157kB)\n",
            "\u001b[K     |████████████████████████████████| 163kB 7.9MB/s \n",
            "\u001b[?25hRequirement already satisfied: matplotlib in /usr/local/lib/python3.6/dist-packages (from simglucose) (3.2.2)\n",
            "Collecting pathos\n",
            "\u001b[?25l  Downloading https://files.pythonhosted.org/packages/be/ea/b2cf3a6561fc5deb64de8ae0af5e3e4e2db03ca588cb7415efce4a8de26e/pathos-0.2.6.zip (219kB)\n",
            "\u001b[K     |████████████████████████████████| 225kB 10.9MB/s \n",
            "\u001b[?25hRequirement already satisfied: scipy in /usr/local/lib/python3.6/dist-packages (from simglucose) (1.4.1)\n",
            "Requirement already satisfied: pandas in /usr/local/lib/python3.6/dist-packages (from simglucose) (1.0.5)\n",
            "Requirement already satisfied: numpy in /usr/local/lib/python3.6/dist-packages (from simglucose) (1.18.5)\n",
            "Requirement already satisfied: requests>=2.0 in /usr/local/lib/python3.6/dist-packages (from gym==0.9.4->simglucose) (2.23.0)\n",
            "Requirement already satisfied: six in /usr/local/lib/python3.6/dist-packages (from gym==0.9.4->simglucose) (1.12.0)\n",
            "Requirement already satisfied: pyglet>=1.2.0 in /usr/local/lib/python3.6/dist-packages (from gym==0.9.4->simglucose) (1.5.0)\n",
            "Requirement already satisfied: cycler>=0.10 in /usr/local/lib/python3.6/dist-packages (from matplotlib->simglucose) (0.10.0)\n",
            "Requirement already satisfied: pyparsing!=2.0.4,!=2.1.2,!=2.1.6,>=2.0.1 in /usr/local/lib/python3.6/dist-packages (from matplotlib->simglucose) (2.4.7)\n",
            "Requirement already satisfied: kiwisolver>=1.0.1 in /usr/local/lib/python3.6/dist-packages (from matplotlib->simglucose) (1.2.0)\n",
            "Requirement already satisfied: python-dateutil>=2.1 in /usr/local/lib/python3.6/dist-packages (from matplotlib->simglucose) (2.8.1)\n",
            "Collecting ppft>=1.6.6.2\n",
            "\u001b[?25l  Downloading https://files.pythonhosted.org/packages/2b/fb/fa21f6e9aedc4823448473ed96e8eab64af1cb248c18165f045a90e1c6b4/ppft-1.6.6.2.zip (106kB)\n",
            "\u001b[K     |████████████████████████████████| 112kB 13.5MB/s \n",
            "\u001b[?25hRequirement already satisfied: dill>=0.3.2 in /usr/local/lib/python3.6/dist-packages (from pathos->simglucose) (0.3.2)\n",
            "Collecting pox>=0.2.8\n",
            "\u001b[?25l  Downloading https://files.pythonhosted.org/packages/1a/0c/ec447fb0ed88bc1c09bf0dadf00e40ea05fda17e841d15bb351a52d9e192/pox-0.2.8.zip (128kB)\n",
            "\u001b[K     |████████████████████████████████| 133kB 13.2MB/s \n",
            "\u001b[?25hRequirement already satisfied: multiprocess>=0.70.10 in /usr/local/lib/python3.6/dist-packages (from pathos->simglucose) (0.70.10)\n",
            "Requirement already satisfied: pytz>=2017.2 in /usr/local/lib/python3.6/dist-packages (from pandas->simglucose) (2018.9)\n",
            "Requirement already satisfied: urllib3!=1.25.0,!=1.25.1,<1.26,>=1.21.1 in /usr/local/lib/python3.6/dist-packages (from requests>=2.0->gym==0.9.4->simglucose) (1.24.3)\n",
            "Requirement already satisfied: certifi>=2017.4.17 in /usr/local/lib/python3.6/dist-packages (from requests>=2.0->gym==0.9.4->simglucose) (2020.6.20)\n",
            "Requirement already satisfied: chardet<4,>=3.0.2 in /usr/local/lib/python3.6/dist-packages (from requests>=2.0->gym==0.9.4->simglucose) (3.0.4)\n",
            "Requirement already satisfied: idna<3,>=2.5 in /usr/local/lib/python3.6/dist-packages (from requests>=2.0->gym==0.9.4->simglucose) (2.10)\n",
            "Requirement already satisfied: future in /usr/local/lib/python3.6/dist-packages (from pyglet>=1.2.0->gym==0.9.4->simglucose) (0.16.0)\n",
            "Building wheels for collected packages: gym, pathos, ppft, pox\n",
            "  Building wheel for gym (setup.py) ... \u001b[?25l\u001b[?25hdone\n",
            "  Created wheel for gym: filename=gym-0.9.4-cp36-none-any.whl size=215483 sha256=d1c650bf9105bf9aea5d24a3c77d2dd82ff1ab09c71c8390a9234a1842409229\n",
            "  Stored in directory: /root/.cache/pip/wheels/2f/ae/a0/126678adc5f1f8905309a4712ea29537999787f610edbcb0a4\n",
            "  Building wheel for pathos (setup.py) ... \u001b[?25l\u001b[?25hdone\n",
            "  Created wheel for pathos: filename=pathos-0.2.6-cp36-none-any.whl size=77673 sha256=5ece9e9d527500fe4cb967179854665a153bdaaede5ceaf1fccc90c3104437ba\n",
            "  Stored in directory: /root/.cache/pip/wheels/3a/e8/c8/04cdd0c4bc6fbce35f642fc004244228916daae74bb0f482da\n",
            "  Building wheel for ppft (setup.py) ... \u001b[?25l\u001b[?25hdone\n",
            "  Created wheel for ppft: filename=ppft-1.6.6.2-cp36-none-any.whl size=64743 sha256=c2b4980f622031e89149961c9a6ab9f99d1ae18f9e15ec1e81d8dcd967f0eff9\n",
            "  Stored in directory: /root/.cache/pip/wheels/db/d2/2d/0ee21ede61786bb13247dbc69079373fd500c2bb0481913084\n",
            "  Building wheel for pox (setup.py) ... \u001b[?25l\u001b[?25hdone\n",
            "  Created wheel for pox: filename=pox-0.2.8-cp36-none-any.whl size=28290 sha256=d956c8faaf05dd4452c3aa4566425442de6aa2a286ed4d49c3539e004aebf078\n",
            "  Stored in directory: /root/.cache/pip/wheels/39/ed/ce/a93103746b327e18bffaeb99ba0d57a88b392f31d719cea700\n",
            "Successfully built gym pathos ppft pox\n",
            "\u001b[31mERROR: dopamine-rl 1.0.5 has requirement gym>=0.10.5, but you'll have gym 0.9.4 which is incompatible.\u001b[0m\n",
            "Installing collected packages: gym, ppft, pox, pathos, simglucose\n",
            "  Found existing installation: gym 0.17.2\n",
            "    Uninstalling gym-0.17.2:\n",
            "      Successfully uninstalled gym-0.17.2\n",
            "Successfully installed gym-0.9.4 pathos-0.2.6 pox-0.2.8 ppft-1.6.6.2 simglucose-0.2.1\n"
          ],
          "name": "stdout"
        }
      ]
    },
    {
      "cell_type": "code",
      "metadata": {
        "id": "70vN0wP0YqGA",
        "colab_type": "code",
        "colab": {
          "base_uri": "https://localhost:8080/",
          "height": 583
        },
        "outputId": "dd51256c-76cd-4c49-dbaf-e5925e2666cf"
      },
      "source": [
        "from simglucose.simulation.user_interface import simulate\n",
        "simulate(animate=True, )"
      ],
      "execution_count": null,
      "outputs": [
        {
          "output_type": "stream",
          "text": [
            "Show animation? (y/n) y\n",
            "Use multiple processes? (y/n) y\n"
          ],
          "name": "stdout"
        },
        {
          "output_type": "error",
          "ename": "KeyboardInterrupt",
          "evalue": "ignored",
          "traceback": [
            "\u001b[0;31m---------------------------------------------------------------------------\u001b[0m",
            "\u001b[0;31mKeyboardInterrupt\u001b[0m                         Traceback (most recent call last)",
            "\u001b[0;32m/usr/local/lib/python3.6/dist-packages/ipykernel/kernelbase.py\u001b[0m in \u001b[0;36m_input_request\u001b[0;34m(self, prompt, ident, parent, password)\u001b[0m\n\u001b[1;32m    728\u001b[0m             \u001b[0;32mtry\u001b[0m\u001b[0;34m:\u001b[0m\u001b[0;34m\u001b[0m\u001b[0;34m\u001b[0m\u001b[0m\n\u001b[0;32m--> 729\u001b[0;31m                 \u001b[0mident\u001b[0m\u001b[0;34m,\u001b[0m \u001b[0mreply\u001b[0m \u001b[0;34m=\u001b[0m \u001b[0mself\u001b[0m\u001b[0;34m.\u001b[0m\u001b[0msession\u001b[0m\u001b[0;34m.\u001b[0m\u001b[0mrecv\u001b[0m\u001b[0;34m(\u001b[0m\u001b[0mself\u001b[0m\u001b[0;34m.\u001b[0m\u001b[0mstdin_socket\u001b[0m\u001b[0;34m,\u001b[0m \u001b[0;36m0\u001b[0m\u001b[0;34m)\u001b[0m\u001b[0;34m\u001b[0m\u001b[0;34m\u001b[0m\u001b[0m\n\u001b[0m\u001b[1;32m    730\u001b[0m             \u001b[0;32mexcept\u001b[0m \u001b[0mException\u001b[0m\u001b[0;34m:\u001b[0m\u001b[0;34m\u001b[0m\u001b[0;34m\u001b[0m\u001b[0m\n",
            "\u001b[0;32m/usr/local/lib/python3.6/dist-packages/jupyter_client/session.py\u001b[0m in \u001b[0;36mrecv\u001b[0;34m(self, socket, mode, content, copy)\u001b[0m\n\u001b[1;32m    802\u001b[0m         \u001b[0;32mtry\u001b[0m\u001b[0;34m:\u001b[0m\u001b[0;34m\u001b[0m\u001b[0;34m\u001b[0m\u001b[0m\n\u001b[0;32m--> 803\u001b[0;31m             \u001b[0mmsg_list\u001b[0m \u001b[0;34m=\u001b[0m \u001b[0msocket\u001b[0m\u001b[0;34m.\u001b[0m\u001b[0mrecv_multipart\u001b[0m\u001b[0;34m(\u001b[0m\u001b[0mmode\u001b[0m\u001b[0;34m,\u001b[0m \u001b[0mcopy\u001b[0m\u001b[0;34m=\u001b[0m\u001b[0mcopy\u001b[0m\u001b[0;34m)\u001b[0m\u001b[0;34m\u001b[0m\u001b[0;34m\u001b[0m\u001b[0m\n\u001b[0m\u001b[1;32m    804\u001b[0m         \u001b[0;32mexcept\u001b[0m \u001b[0mzmq\u001b[0m\u001b[0;34m.\u001b[0m\u001b[0mZMQError\u001b[0m \u001b[0;32mas\u001b[0m \u001b[0me\u001b[0m\u001b[0;34m:\u001b[0m\u001b[0;34m\u001b[0m\u001b[0;34m\u001b[0m\u001b[0m\n",
            "\u001b[0;32m/usr/local/lib/python3.6/dist-packages/zmq/sugar/socket.py\u001b[0m in \u001b[0;36mrecv_multipart\u001b[0;34m(self, flags, copy, track)\u001b[0m\n\u001b[1;32m    474\u001b[0m         \"\"\"\n\u001b[0;32m--> 475\u001b[0;31m         \u001b[0mparts\u001b[0m \u001b[0;34m=\u001b[0m \u001b[0;34m[\u001b[0m\u001b[0mself\u001b[0m\u001b[0;34m.\u001b[0m\u001b[0mrecv\u001b[0m\u001b[0;34m(\u001b[0m\u001b[0mflags\u001b[0m\u001b[0;34m,\u001b[0m \u001b[0mcopy\u001b[0m\u001b[0;34m=\u001b[0m\u001b[0mcopy\u001b[0m\u001b[0;34m,\u001b[0m \u001b[0mtrack\u001b[0m\u001b[0;34m=\u001b[0m\u001b[0mtrack\u001b[0m\u001b[0;34m)\u001b[0m\u001b[0;34m]\u001b[0m\u001b[0;34m\u001b[0m\u001b[0;34m\u001b[0m\u001b[0m\n\u001b[0m\u001b[1;32m    476\u001b[0m         \u001b[0;31m# have first part already, only loop while more to receive\u001b[0m\u001b[0;34m\u001b[0m\u001b[0;34m\u001b[0m\u001b[0;34m\u001b[0m\u001b[0m\n",
            "\u001b[0;32mzmq/backend/cython/socket.pyx\u001b[0m in \u001b[0;36mzmq.backend.cython.socket.Socket.recv\u001b[0;34m()\u001b[0m\n",
            "\u001b[0;32mzmq/backend/cython/socket.pyx\u001b[0m in \u001b[0;36mzmq.backend.cython.socket.Socket.recv\u001b[0;34m()\u001b[0m\n",
            "\u001b[0;32mzmq/backend/cython/socket.pyx\u001b[0m in \u001b[0;36mzmq.backend.cython.socket._recv_copy\u001b[0;34m()\u001b[0m\n",
            "\u001b[0;32m/usr/local/lib/python3.6/dist-packages/zmq/backend/cython/checkrc.pxd\u001b[0m in \u001b[0;36mzmq.backend.cython.checkrc._check_rc\u001b[0;34m()\u001b[0m\n",
            "\u001b[0;31mKeyboardInterrupt\u001b[0m: ",
            "\nDuring handling of the above exception, another exception occurred:\n",
            "\u001b[0;31mKeyboardInterrupt\u001b[0m                         Traceback (most recent call last)",
            "\u001b[0;32m<ipython-input-3-17fe3ba5710a>\u001b[0m in \u001b[0;36m<module>\u001b[0;34m()\u001b[0m\n\u001b[1;32m      1\u001b[0m \u001b[0;32mfrom\u001b[0m \u001b[0msimglucose\u001b[0m\u001b[0;34m.\u001b[0m\u001b[0msimulation\u001b[0m\u001b[0;34m.\u001b[0m\u001b[0muser_interface\u001b[0m \u001b[0;32mimport\u001b[0m \u001b[0msimulate\u001b[0m\u001b[0;34m\u001b[0m\u001b[0;34m\u001b[0m\u001b[0m\n\u001b[0;32m----> 2\u001b[0;31m \u001b[0msimulate\u001b[0m\u001b[0;34m(\u001b[0m\u001b[0;34m)\u001b[0m\u001b[0;34m\u001b[0m\u001b[0;34m\u001b[0m\u001b[0m\n\u001b[0m",
            "\u001b[0;32m/usr/local/lib/python3.6/dist-packages/simglucose/simulation/user_interface.py\u001b[0m in \u001b[0;36msimulate\u001b[0;34m(sim_time, scenario, controller, start_time, save_path, animate, parallel)\u001b[0m\n\u001b[1;32m    325\u001b[0m \u001b[0;34m\u001b[0m\u001b[0m\n\u001b[1;32m    326\u001b[0m     \u001b[0;32mif\u001b[0m \u001b[0msave_path\u001b[0m \u001b[0;32mis\u001b[0m \u001b[0;32mNone\u001b[0m\u001b[0;34m:\u001b[0m\u001b[0;34m\u001b[0m\u001b[0;34m\u001b[0m\u001b[0m\n\u001b[0;32m--> 327\u001b[0;31m         \u001b[0msave_path\u001b[0m \u001b[0;34m=\u001b[0m \u001b[0mpick_save_path\u001b[0m\u001b[0;34m(\u001b[0m\u001b[0;34m)\u001b[0m\u001b[0;34m\u001b[0m\u001b[0;34m\u001b[0m\u001b[0m\n\u001b[0m\u001b[1;32m    328\u001b[0m \u001b[0;34m\u001b[0m\u001b[0m\n\u001b[1;32m    329\u001b[0m     sim_instances = create_sim_instance(sim_time=sim_time,\n",
            "\u001b[0;32m/usr/local/lib/python3.6/dist-packages/simglucose/simulation/user_interface.py\u001b[0m in \u001b[0;36mpick_save_path\u001b[0;34m()\u001b[0m\n\u001b[1;32m    238\u001b[0m \u001b[0;34m\u001b[0m\u001b[0m\n\u001b[1;32m    239\u001b[0m \u001b[0;32mdef\u001b[0m \u001b[0mpick_save_path\u001b[0m\u001b[0;34m(\u001b[0m\u001b[0;34m)\u001b[0m\u001b[0;34m:\u001b[0m\u001b[0;34m\u001b[0m\u001b[0;34m\u001b[0m\u001b[0m\n\u001b[0;32m--> 240\u001b[0;31m     \u001b[0mfoldername\u001b[0m \u001b[0;34m=\u001b[0m \u001b[0minput\u001b[0m\u001b[0;34m(\u001b[0m\u001b[0;34m'Folder name to save results [default]: '\u001b[0m\u001b[0;34m)\u001b[0m\u001b[0;34m\u001b[0m\u001b[0;34m\u001b[0m\u001b[0m\n\u001b[0m\u001b[1;32m    241\u001b[0m     \u001b[0;32mif\u001b[0m \u001b[0mfoldername\u001b[0m \u001b[0;34m==\u001b[0m \u001b[0;34m'default'\u001b[0m \u001b[0;32mor\u001b[0m \u001b[0mfoldername\u001b[0m \u001b[0;34m==\u001b[0m \u001b[0;34m''\u001b[0m\u001b[0;34m:\u001b[0m\u001b[0;34m\u001b[0m\u001b[0;34m\u001b[0m\u001b[0m\n\u001b[1;32m    242\u001b[0m         \u001b[0mfoldername\u001b[0m \u001b[0;34m=\u001b[0m \u001b[0mdatetime\u001b[0m\u001b[0;34m.\u001b[0m\u001b[0mnow\u001b[0m\u001b[0;34m(\u001b[0m\u001b[0;34m)\u001b[0m\u001b[0;34m.\u001b[0m\u001b[0mstrftime\u001b[0m\u001b[0;34m(\u001b[0m\u001b[0;34m'%Y-%m-%d_%H-%M-%S'\u001b[0m\u001b[0;34m)\u001b[0m\u001b[0;34m\u001b[0m\u001b[0;34m\u001b[0m\u001b[0m\n",
            "\u001b[0;32m/usr/local/lib/python3.6/dist-packages/ipykernel/kernelbase.py\u001b[0m in \u001b[0;36mraw_input\u001b[0;34m(self, prompt)\u001b[0m\n\u001b[1;32m    702\u001b[0m             \u001b[0mself\u001b[0m\u001b[0;34m.\u001b[0m\u001b[0m_parent_ident\u001b[0m\u001b[0;34m,\u001b[0m\u001b[0;34m\u001b[0m\u001b[0;34m\u001b[0m\u001b[0m\n\u001b[1;32m    703\u001b[0m             \u001b[0mself\u001b[0m\u001b[0;34m.\u001b[0m\u001b[0m_parent_header\u001b[0m\u001b[0;34m,\u001b[0m\u001b[0;34m\u001b[0m\u001b[0;34m\u001b[0m\u001b[0m\n\u001b[0;32m--> 704\u001b[0;31m             \u001b[0mpassword\u001b[0m\u001b[0;34m=\u001b[0m\u001b[0;32mFalse\u001b[0m\u001b[0;34m,\u001b[0m\u001b[0;34m\u001b[0m\u001b[0;34m\u001b[0m\u001b[0m\n\u001b[0m\u001b[1;32m    705\u001b[0m         )\n\u001b[1;32m    706\u001b[0m \u001b[0;34m\u001b[0m\u001b[0m\n",
            "\u001b[0;32m/usr/local/lib/python3.6/dist-packages/ipykernel/kernelbase.py\u001b[0m in \u001b[0;36m_input_request\u001b[0;34m(self, prompt, ident, parent, password)\u001b[0m\n\u001b[1;32m    732\u001b[0m             \u001b[0;32mexcept\u001b[0m \u001b[0mKeyboardInterrupt\u001b[0m\u001b[0;34m:\u001b[0m\u001b[0;34m\u001b[0m\u001b[0;34m\u001b[0m\u001b[0m\n\u001b[1;32m    733\u001b[0m                 \u001b[0;31m# re-raise KeyboardInterrupt, to truncate traceback\u001b[0m\u001b[0;34m\u001b[0m\u001b[0;34m\u001b[0m\u001b[0;34m\u001b[0m\u001b[0m\n\u001b[0;32m--> 734\u001b[0;31m                 \u001b[0;32mraise\u001b[0m \u001b[0mKeyboardInterrupt\u001b[0m\u001b[0;34m\u001b[0m\u001b[0;34m\u001b[0m\u001b[0m\n\u001b[0m\u001b[1;32m    735\u001b[0m             \u001b[0;32melse\u001b[0m\u001b[0;34m:\u001b[0m\u001b[0;34m\u001b[0m\u001b[0;34m\u001b[0m\u001b[0m\n\u001b[1;32m    736\u001b[0m                 \u001b[0;32mbreak\u001b[0m\u001b[0;34m\u001b[0m\u001b[0;34m\u001b[0m\u001b[0m\n",
            "\u001b[0;31mKeyboardInterrupt\u001b[0m: "
          ]
        }
      ]
    }
  ]
}